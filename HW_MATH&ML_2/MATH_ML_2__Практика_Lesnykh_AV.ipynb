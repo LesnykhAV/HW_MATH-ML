{
  "cells": [
    {
      "cell_type": "markdown",
      "id": "b054bd88",
      "metadata": {
        "id": "b054bd88"
      },
      "source": [
        "# <center> Линейная алгебра в контексте линейных методов. Практика.\n",
        "\n",
        "## <center> Прогнозирование выработки газа на скважинах."
      ]
    },
    {
      "cell_type": "markdown",
      "id": "325bc80b",
      "metadata": {
        "id": "325bc80b"
      },
      "source": [
        "## Постановка задачи"
      ]
    },
    {
      "cell_type": "markdown",
      "id": "8247bd54",
      "metadata": {
        "id": "8247bd54"
      },
      "source": [
        "У Василия, основателя компании «Газ-Таз-Ваз-Нефть», дела идут в гору: у него уже функционирует 200 скважин для добычи газа. В этом году он открывает 30 новых скважин. Однако в целях оптимизации расходов и повышения дохода Василию необходимо оценить, сколько денег будет приносить ему каждая из скважин, а также понять, какие факторы (параметры скважин) потенциально сильнее всего повлияют на объём добычи газа. Для этого Василий решил нанять вас как специалиста в области Data Science.\n",
        "\n",
        "Василий представляет вам набор данных о добыче газа на своих скважинах. Файл с данными вы можете скачать на платформе.\n",
        "\n",
        "**Признаки в данных:**\n",
        "\n",
        "* Well — идентификатор скважины;\n",
        "* Por — пористость скважины (%);\n",
        "* Perm — проницаемость скважины;\n",
        "* AI — акустический импеданс ($кг/м^2 * 10^6$);\n",
        "* Brittle — коэффициент хрупкости скважины (%);\n",
        "* TOC — общий органический углерод (%);\n",
        "* VR — коэффициент отражения витринита (%);\n",
        "* Prod — добыча газа в сутки (млн. кубических футов).\n",
        "\n",
        "**Ваша задача** — построить регрессионную модель, которая прогнозирует выработку газа на скважине (целевой признак — Prod) на основе остальных характеристик скважины, и проинтерпретировать результаты вашей модели.\n",
        "\n",
        "Разделим задачу на две части:\n",
        "* В первой мы построим простейшую модель линейной регрессии, проанализируем результаты её работы и выберем наиболее значимые факторы для прогнозирования.\n",
        "* Во второй мы займёмся построением модели полиномиальной регрессии с регуляризацией и посмотрим на итоговые результаты моделирования.\n"
      ]
    },
    {
      "cell_type": "markdown",
      "id": "d67d069e",
      "metadata": {
        "id": "d67d069e"
      },
      "source": [
        "Импортируем необходимые библиотеки:"
      ]
    },
    {
      "cell_type": "code",
      "execution_count": 1,
      "id": "83a555bc-8dff-4b7e-bba1-cd4f4a9e69b2",
      "metadata": {
        "id": "83a555bc-8dff-4b7e-bba1-cd4f4a9e69b2"
      },
      "outputs": [],
      "source": [
        "# Подключаем библиотеки\n",
        "from google.colab import drive\n",
        "import numpy as np # для работы с массивами\n",
        "import pandas as pd # для работы с DataFrame\n",
        "import seaborn as sns # библиотека для визуализации статистических данных\n",
        "import matplotlib.pyplot as plt # для построения графиков\n",
        "import plotly.express as px # для построения графиков\n",
        "from sklearn.metrics import mean_absolute_error, mean_absolute_percentage_error # импорт метрик для оценки качества регрессионных моделей из библиотеки scikit-learn\n",
        "from sklearn.linear_model import LinearRegression # импортирт класса LinearRegression из модуля linear_model библиотеки scikit-learn\n",
        "\n",
        "%matplotlib inline"
      ]
    },
    {
      "cell_type": "markdown",
      "id": "e689ddaf",
      "metadata": {
        "id": "e689ddaf"
      },
      "source": [
        "Прочитаем исходные данные:"
      ]
    },
    {
      "cell_type": "code",
      "source": [
        "# Монтируем Google Диск\n",
        "drive.mount('/content/drive')"
      ],
      "metadata": {
        "colab": {
          "base_uri": "https://localhost:8080/"
        },
        "id": "RLEKh9gSpkFs",
        "outputId": "93b4767c-bdb2-436e-9f4d-cad3a99b3e81"
      },
      "id": "RLEKh9gSpkFs",
      "execution_count": 2,
      "outputs": [
        {
          "output_type": "stream",
          "name": "stdout",
          "text": [
            "Mounted at /content/drive\n"
          ]
        }
      ]
    },
    {
      "cell_type": "code",
      "execution_count": 3,
      "id": "b7b5cd9b-703f-4dbc-a6e3-61d583eafcac",
      "metadata": {
        "colab": {
          "base_uri": "https://localhost:8080/",
          "height": 206
        },
        "id": "b7b5cd9b-703f-4dbc-a6e3-61d583eafcac",
        "outputId": "8cf7ecce-7915-4ae8-a44f-5359de8f5b42"
      },
      "outputs": [
        {
          "output_type": "execute_result",
          "data": {
            "text/plain": [
              "   Well    Por  Perm    AI  Brittle   TOC    VR         Prod\n",
              "0     1  12.08  2.92  2.80    81.40  1.16  2.31  4165.196191\n",
              "1     2  12.38  3.53  3.22    46.17  0.89  1.88  3561.146205\n",
              "2     3  14.02  2.59  4.01    72.80  0.89  2.72  4284.348574\n",
              "3     4  17.67  6.75  2.63    39.81  1.08  1.88  5098.680869\n",
              "4     5  17.52  4.57  3.18    10.94  1.51  1.90  3406.132832"
            ],
            "text/html": [
              "\n",
              "  <div id=\"df-dd2d5911-2b43-46a4-8d47-a63fa3d088bb\" class=\"colab-df-container\">\n",
              "    <div>\n",
              "<style scoped>\n",
              "    .dataframe tbody tr th:only-of-type {\n",
              "        vertical-align: middle;\n",
              "    }\n",
              "\n",
              "    .dataframe tbody tr th {\n",
              "        vertical-align: top;\n",
              "    }\n",
              "\n",
              "    .dataframe thead th {\n",
              "        text-align: right;\n",
              "    }\n",
              "</style>\n",
              "<table border=\"1\" class=\"dataframe\">\n",
              "  <thead>\n",
              "    <tr style=\"text-align: right;\">\n",
              "      <th></th>\n",
              "      <th>Well</th>\n",
              "      <th>Por</th>\n",
              "      <th>Perm</th>\n",
              "      <th>AI</th>\n",
              "      <th>Brittle</th>\n",
              "      <th>TOC</th>\n",
              "      <th>VR</th>\n",
              "      <th>Prod</th>\n",
              "    </tr>\n",
              "  </thead>\n",
              "  <tbody>\n",
              "    <tr>\n",
              "      <th>0</th>\n",
              "      <td>1</td>\n",
              "      <td>12.08</td>\n",
              "      <td>2.92</td>\n",
              "      <td>2.80</td>\n",
              "      <td>81.40</td>\n",
              "      <td>1.16</td>\n",
              "      <td>2.31</td>\n",
              "      <td>4165.196191</td>\n",
              "    </tr>\n",
              "    <tr>\n",
              "      <th>1</th>\n",
              "      <td>2</td>\n",
              "      <td>12.38</td>\n",
              "      <td>3.53</td>\n",
              "      <td>3.22</td>\n",
              "      <td>46.17</td>\n",
              "      <td>0.89</td>\n",
              "      <td>1.88</td>\n",
              "      <td>3561.146205</td>\n",
              "    </tr>\n",
              "    <tr>\n",
              "      <th>2</th>\n",
              "      <td>3</td>\n",
              "      <td>14.02</td>\n",
              "      <td>2.59</td>\n",
              "      <td>4.01</td>\n",
              "      <td>72.80</td>\n",
              "      <td>0.89</td>\n",
              "      <td>2.72</td>\n",
              "      <td>4284.348574</td>\n",
              "    </tr>\n",
              "    <tr>\n",
              "      <th>3</th>\n",
              "      <td>4</td>\n",
              "      <td>17.67</td>\n",
              "      <td>6.75</td>\n",
              "      <td>2.63</td>\n",
              "      <td>39.81</td>\n",
              "      <td>1.08</td>\n",
              "      <td>1.88</td>\n",
              "      <td>5098.680869</td>\n",
              "    </tr>\n",
              "    <tr>\n",
              "      <th>4</th>\n",
              "      <td>5</td>\n",
              "      <td>17.52</td>\n",
              "      <td>4.57</td>\n",
              "      <td>3.18</td>\n",
              "      <td>10.94</td>\n",
              "      <td>1.51</td>\n",
              "      <td>1.90</td>\n",
              "      <td>3406.132832</td>\n",
              "    </tr>\n",
              "  </tbody>\n",
              "</table>\n",
              "</div>\n",
              "    <div class=\"colab-df-buttons\">\n",
              "\n",
              "  <div class=\"colab-df-container\">\n",
              "    <button class=\"colab-df-convert\" onclick=\"convertToInteractive('df-dd2d5911-2b43-46a4-8d47-a63fa3d088bb')\"\n",
              "            title=\"Convert this dataframe to an interactive table.\"\n",
              "            style=\"display:none;\">\n",
              "\n",
              "  <svg xmlns=\"http://www.w3.org/2000/svg\" height=\"24px\" viewBox=\"0 -960 960 960\">\n",
              "    <path d=\"M120-120v-720h720v720H120Zm60-500h600v-160H180v160Zm220 220h160v-160H400v160Zm0 220h160v-160H400v160ZM180-400h160v-160H180v160Zm440 0h160v-160H620v160ZM180-180h160v-160H180v160Zm440 0h160v-160H620v160Z\"/>\n",
              "  </svg>\n",
              "    </button>\n",
              "\n",
              "  <style>\n",
              "    .colab-df-container {\n",
              "      display:flex;\n",
              "      gap: 12px;\n",
              "    }\n",
              "\n",
              "    .colab-df-convert {\n",
              "      background-color: #E8F0FE;\n",
              "      border: none;\n",
              "      border-radius: 50%;\n",
              "      cursor: pointer;\n",
              "      display: none;\n",
              "      fill: #1967D2;\n",
              "      height: 32px;\n",
              "      padding: 0 0 0 0;\n",
              "      width: 32px;\n",
              "    }\n",
              "\n",
              "    .colab-df-convert:hover {\n",
              "      background-color: #E2EBFA;\n",
              "      box-shadow: 0px 1px 2px rgba(60, 64, 67, 0.3), 0px 1px 3px 1px rgba(60, 64, 67, 0.15);\n",
              "      fill: #174EA6;\n",
              "    }\n",
              "\n",
              "    .colab-df-buttons div {\n",
              "      margin-bottom: 4px;\n",
              "    }\n",
              "\n",
              "    [theme=dark] .colab-df-convert {\n",
              "      background-color: #3B4455;\n",
              "      fill: #D2E3FC;\n",
              "    }\n",
              "\n",
              "    [theme=dark] .colab-df-convert:hover {\n",
              "      background-color: #434B5C;\n",
              "      box-shadow: 0px 1px 3px 1px rgba(0, 0, 0, 0.15);\n",
              "      filter: drop-shadow(0px 1px 2px rgba(0, 0, 0, 0.3));\n",
              "      fill: #FFFFFF;\n",
              "    }\n",
              "  </style>\n",
              "\n",
              "    <script>\n",
              "      const buttonEl =\n",
              "        document.querySelector('#df-dd2d5911-2b43-46a4-8d47-a63fa3d088bb button.colab-df-convert');\n",
              "      buttonEl.style.display =\n",
              "        google.colab.kernel.accessAllowed ? 'block' : 'none';\n",
              "\n",
              "      async function convertToInteractive(key) {\n",
              "        const element = document.querySelector('#df-dd2d5911-2b43-46a4-8d47-a63fa3d088bb');\n",
              "        const dataTable =\n",
              "          await google.colab.kernel.invokeFunction('convertToInteractive',\n",
              "                                                    [key], {});\n",
              "        if (!dataTable) return;\n",
              "\n",
              "        const docLinkHtml = 'Like what you see? Visit the ' +\n",
              "          '<a target=\"_blank\" href=https://colab.research.google.com/notebooks/data_table.ipynb>data table notebook</a>'\n",
              "          + ' to learn more about interactive tables.';\n",
              "        element.innerHTML = '';\n",
              "        dataTable['output_type'] = 'display_data';\n",
              "        await google.colab.output.renderOutput(dataTable, element);\n",
              "        const docLink = document.createElement('div');\n",
              "        docLink.innerHTML = docLinkHtml;\n",
              "        element.appendChild(docLink);\n",
              "      }\n",
              "    </script>\n",
              "  </div>\n",
              "\n",
              "\n",
              "<div id=\"df-036d680b-08e5-4b34-b4b0-d05225f23728\">\n",
              "  <button class=\"colab-df-quickchart\" onclick=\"quickchart('df-036d680b-08e5-4b34-b4b0-d05225f23728')\"\n",
              "            title=\"Suggest charts\"\n",
              "            style=\"display:none;\">\n",
              "\n",
              "<svg xmlns=\"http://www.w3.org/2000/svg\" height=\"24px\"viewBox=\"0 0 24 24\"\n",
              "     width=\"24px\">\n",
              "    <g>\n",
              "        <path d=\"M19 3H5c-1.1 0-2 .9-2 2v14c0 1.1.9 2 2 2h14c1.1 0 2-.9 2-2V5c0-1.1-.9-2-2-2zM9 17H7v-7h2v7zm4 0h-2V7h2v10zm4 0h-2v-4h2v4z\"/>\n",
              "    </g>\n",
              "</svg>\n",
              "  </button>\n",
              "\n",
              "<style>\n",
              "  .colab-df-quickchart {\n",
              "      --bg-color: #E8F0FE;\n",
              "      --fill-color: #1967D2;\n",
              "      --hover-bg-color: #E2EBFA;\n",
              "      --hover-fill-color: #174EA6;\n",
              "      --disabled-fill-color: #AAA;\n",
              "      --disabled-bg-color: #DDD;\n",
              "  }\n",
              "\n",
              "  [theme=dark] .colab-df-quickchart {\n",
              "      --bg-color: #3B4455;\n",
              "      --fill-color: #D2E3FC;\n",
              "      --hover-bg-color: #434B5C;\n",
              "      --hover-fill-color: #FFFFFF;\n",
              "      --disabled-bg-color: #3B4455;\n",
              "      --disabled-fill-color: #666;\n",
              "  }\n",
              "\n",
              "  .colab-df-quickchart {\n",
              "    background-color: var(--bg-color);\n",
              "    border: none;\n",
              "    border-radius: 50%;\n",
              "    cursor: pointer;\n",
              "    display: none;\n",
              "    fill: var(--fill-color);\n",
              "    height: 32px;\n",
              "    padding: 0;\n",
              "    width: 32px;\n",
              "  }\n",
              "\n",
              "  .colab-df-quickchart:hover {\n",
              "    background-color: var(--hover-bg-color);\n",
              "    box-shadow: 0 1px 2px rgba(60, 64, 67, 0.3), 0 1px 3px 1px rgba(60, 64, 67, 0.15);\n",
              "    fill: var(--button-hover-fill-color);\n",
              "  }\n",
              "\n",
              "  .colab-df-quickchart-complete:disabled,\n",
              "  .colab-df-quickchart-complete:disabled:hover {\n",
              "    background-color: var(--disabled-bg-color);\n",
              "    fill: var(--disabled-fill-color);\n",
              "    box-shadow: none;\n",
              "  }\n",
              "\n",
              "  .colab-df-spinner {\n",
              "    border: 2px solid var(--fill-color);\n",
              "    border-color: transparent;\n",
              "    border-bottom-color: var(--fill-color);\n",
              "    animation:\n",
              "      spin 1s steps(1) infinite;\n",
              "  }\n",
              "\n",
              "  @keyframes spin {\n",
              "    0% {\n",
              "      border-color: transparent;\n",
              "      border-bottom-color: var(--fill-color);\n",
              "      border-left-color: var(--fill-color);\n",
              "    }\n",
              "    20% {\n",
              "      border-color: transparent;\n",
              "      border-left-color: var(--fill-color);\n",
              "      border-top-color: var(--fill-color);\n",
              "    }\n",
              "    30% {\n",
              "      border-color: transparent;\n",
              "      border-left-color: var(--fill-color);\n",
              "      border-top-color: var(--fill-color);\n",
              "      border-right-color: var(--fill-color);\n",
              "    }\n",
              "    40% {\n",
              "      border-color: transparent;\n",
              "      border-right-color: var(--fill-color);\n",
              "      border-top-color: var(--fill-color);\n",
              "    }\n",
              "    60% {\n",
              "      border-color: transparent;\n",
              "      border-right-color: var(--fill-color);\n",
              "    }\n",
              "    80% {\n",
              "      border-color: transparent;\n",
              "      border-right-color: var(--fill-color);\n",
              "      border-bottom-color: var(--fill-color);\n",
              "    }\n",
              "    90% {\n",
              "      border-color: transparent;\n",
              "      border-bottom-color: var(--fill-color);\n",
              "    }\n",
              "  }\n",
              "</style>\n",
              "\n",
              "  <script>\n",
              "    async function quickchart(key) {\n",
              "      const quickchartButtonEl =\n",
              "        document.querySelector('#' + key + ' button');\n",
              "      quickchartButtonEl.disabled = true;  // To prevent multiple clicks.\n",
              "      quickchartButtonEl.classList.add('colab-df-spinner');\n",
              "      try {\n",
              "        const charts = await google.colab.kernel.invokeFunction(\n",
              "            'suggestCharts', [key], {});\n",
              "      } catch (error) {\n",
              "        console.error('Error during call to suggestCharts:', error);\n",
              "      }\n",
              "      quickchartButtonEl.classList.remove('colab-df-spinner');\n",
              "      quickchartButtonEl.classList.add('colab-df-quickchart-complete');\n",
              "    }\n",
              "    (() => {\n",
              "      let quickchartButtonEl =\n",
              "        document.querySelector('#df-036d680b-08e5-4b34-b4b0-d05225f23728 button');\n",
              "      quickchartButtonEl.style.display =\n",
              "        google.colab.kernel.accessAllowed ? 'block' : 'none';\n",
              "    })();\n",
              "  </script>\n",
              "</div>\n",
              "    </div>\n",
              "  </div>\n"
            ],
            "application/vnd.google.colaboratory.intrinsic+json": {
              "type": "dataframe",
              "variable_name": "df",
              "summary": "{\n  \"name\": \"df\",\n  \"rows\": 200,\n  \"fields\": [\n    {\n      \"column\": \"Well\",\n      \"properties\": {\n        \"dtype\": \"number\",\n        \"std\": 57,\n        \"min\": 1,\n        \"max\": 200,\n        \"num_unique_values\": 200,\n        \"samples\": [\n          96,\n          16,\n          31\n        ],\n        \"semantic_type\": \"\",\n        \"description\": \"\"\n      }\n    },\n    {\n      \"column\": \"Por\",\n      \"properties\": {\n        \"dtype\": \"number\",\n        \"std\": 2.971176471640172,\n        \"min\": 6.55,\n        \"max\": 23.55,\n        \"num_unique_values\": 188,\n        \"samples\": [\n          11.95,\n          12.94,\n          14.73\n        ],\n        \"semantic_type\": \"\",\n        \"description\": \"\"\n      }\n    },\n    {\n      \"column\": \"Perm\",\n      \"properties\": {\n        \"dtype\": \"number\",\n        \"std\": 1.7310141499817924,\n        \"min\": 1.13,\n        \"max\": 9.87,\n        \"num_unique_values\": 110,\n        \"samples\": [\n          2.48,\n          4.39,\n          4.57\n        ],\n        \"semantic_type\": \"\",\n        \"description\": \"\"\n      }\n    },\n    {\n      \"column\": \"AI\",\n      \"properties\": {\n        \"dtype\": \"number\",\n        \"std\": 0.5668853255834102,\n        \"min\": 1.28,\n        \"max\": 4.63,\n        \"num_unique_values\": 128,\n        \"samples\": [\n          2.25,\n          2.56,\n          2.38\n        ],\n        \"semantic_type\": \"\",\n        \"description\": \"\"\n      }\n    },\n    {\n      \"column\": \"Brittle\",\n      \"properties\": {\n        \"dtype\": \"number\",\n        \"std\": 14.129454914411664,\n        \"min\": 10.94,\n        \"max\": 84.33,\n        \"num_unique_values\": 195,\n        \"samples\": [\n          56.29,\n          35.49,\n          56.09\n        ],\n        \"semantic_type\": \"\",\n        \"description\": \"\"\n      }\n    },\n    {\n      \"column\": \"TOC\",\n      \"properties\": {\n        \"dtype\": \"number\",\n        \"std\": 0.48158792775650433,\n        \"min\": -0.19,\n        \"max\": 2.18,\n        \"num_unique_values\": 120,\n        \"samples\": [\n          1.24,\n          1.97,\n          0.94\n        ],\n        \"semantic_type\": \"\",\n        \"description\": \"\"\n      }\n    },\n    {\n      \"column\": \"VR\",\n      \"properties\": {\n        \"dtype\": \"number\",\n        \"std\": 0.3008271845676094,\n        \"min\": 0.93,\n        \"max\": 2.87,\n        \"num_unique_values\": 95,\n        \"samples\": [\n          2.42,\n          2.04,\n          2.08\n        ],\n        \"semantic_type\": \"\",\n        \"description\": \"\"\n      }\n    },\n    {\n      \"column\": \"Prod\",\n      \"properties\": {\n        \"dtype\": \"number\",\n        \"std\": 992.0384140187238,\n        \"min\": 2107.139414,\n        \"max\": 6662.622385,\n        \"num_unique_values\": 200,\n        \"samples\": [\n          5350.949293,\n          3539.984263,\n          5859.748328\n        ],\n        \"semantic_type\": \"\",\n        \"description\": \"\"\n      }\n    }\n  ]\n}"
            }
          },
          "metadata": {},
          "execution_count": 3
        }
      ],
      "source": [
        "df = pd.read_csv('/content/drive/MyDrive/Colab Notebooks/Andrew_learning/unconv.csv')\n",
        "df.head()"
      ]
    },
    {
      "cell_type": "markdown",
      "id": "58639b40",
      "metadata": {
        "id": "58639b40"
      },
      "source": [
        "## Практика: линейная регрессия по методу наименьших квадратов"
      ]
    },
    {
      "cell_type": "markdown",
      "id": "a90535b8",
      "metadata": {
        "id": "a90535b8"
      },
      "source": [
        "Для начала построим простейшую модель линейной регрессии, проанализируем результаты её работы и выберем наиболее значимые факторы для прогнозирования.\n",
        "\n",
        "В первой части вам предстоит выполнить задания 5.0–5.6. Максимальное количество баллов, которое можно получить, — 9."
      ]
    },
    {
      "cell_type": "markdown",
      "id": "4061b706",
      "metadata": {
        "id": "4061b706"
      },
      "source": [
        "### Задание 5.0. (не оценивается)\n",
        "\n",
        "Проведите небольшой разведывательный анализ, чтобы поближе познакомиться с исходными данными. Постройте несколько визуализаций, которые помогут вам понять, как устроены исходные признаки, а также смогут продемонстрировать взаимосвязь факторов.\n",
        "\n",
        "Сделайте промежуточные выводы из проведённого разведывательного анализа."
      ]
    },
    {
      "cell_type": "code",
      "execution_count": 4,
      "metadata": {
        "colab": {
          "base_uri": "https://localhost:8080/"
        },
        "id": "YQ5HGWGApzwJ",
        "outputId": "7012b687-c602-4e9e-be89-d278d5bc7190"
      },
      "outputs": [
        {
          "output_type": "stream",
          "name": "stdout",
          "text": [
            "<class 'pandas.core.frame.DataFrame'>\n",
            "RangeIndex: 200 entries, 0 to 199\n",
            "Data columns (total 8 columns):\n",
            " #   Column   Non-Null Count  Dtype  \n",
            "---  ------   --------------  -----  \n",
            " 0   Well     200 non-null    int64  \n",
            " 1   Por      200 non-null    float64\n",
            " 2   Perm     200 non-null    float64\n",
            " 3   AI       200 non-null    float64\n",
            " 4   Brittle  200 non-null    float64\n",
            " 5   TOC      200 non-null    float64\n",
            " 6   VR       200 non-null    float64\n",
            " 7   Prod     200 non-null    float64\n",
            "dtypes: float64(7), int64(1)\n",
            "memory usage: 12.6 KB\n"
          ]
        }
      ],
      "source": [
        "# Выведим основную информацию о датасете\n",
        "df.info()"
      ],
      "id": "YQ5HGWGApzwJ"
    },
    {
      "cell_type": "code",
      "execution_count": 5,
      "id": "daf1ccc7",
      "metadata": {
        "id": "daf1ccc7",
        "colab": {
          "base_uri": "https://localhost:8080/"
        },
        "outputId": "9f02c60d-5ab5-411a-8c80-78c707152a10"
      },
      "outputs": [
        {
          "output_type": "execute_result",
          "data": {
            "text/plain": [
              "(200, 8)"
            ]
          },
          "metadata": {},
          "execution_count": 5
        }
      ],
      "source": [
        "# Размерность датасета\n",
        "df.shape"
      ]
    },
    {
      "cell_type": "code",
      "source": [
        "# Сводная статистика по датасету\n",
        "df.describe()"
      ],
      "metadata": {
        "colab": {
          "base_uri": "https://localhost:8080/",
          "height": 300
        },
        "id": "88RWBH3c0C-P",
        "outputId": "27f29de5-8557-444a-f6ed-a93b2f3a0f0b"
      },
      "id": "88RWBH3c0C-P",
      "execution_count": 6,
      "outputs": [
        {
          "output_type": "execute_result",
          "data": {
            "text/plain": [
              "             Well         Por        Perm          AI     Brittle         TOC  \\\n",
              "count  200.000000  200.000000  200.000000  200.000000  200.000000  200.000000   \n",
              "mean   100.500000   14.991150    4.330750    2.968850   48.161950    0.990450   \n",
              "std     57.879185    2.971176    1.731014    0.566885   14.129455    0.481588   \n",
              "min      1.000000    6.550000    1.130000    1.280000   10.940000   -0.190000   \n",
              "25%     50.750000   12.912500    3.122500    2.547500   37.755000    0.617500   \n",
              "50%    100.500000   15.070000    4.035000    2.955000   49.510000    1.030000   \n",
              "75%    150.250000   17.402500    5.287500    3.345000   58.262500    1.350000   \n",
              "max    200.000000   23.550000    9.870000    4.630000   84.330000    2.180000   \n",
              "\n",
              "               VR         Prod  \n",
              "count  200.000000   200.000000  \n",
              "mean     1.964300  4311.219852  \n",
              "std      0.300827   992.038414  \n",
              "min      0.930000  2107.139414  \n",
              "25%      1.770000  3618.064513  \n",
              "50%      1.960000  4284.687348  \n",
              "75%      2.142500  5086.089761  \n",
              "max      2.870000  6662.622385  "
            ],
            "text/html": [
              "\n",
              "  <div id=\"df-778814bd-8168-422c-8b6d-967651082a69\" class=\"colab-df-container\">\n",
              "    <div>\n",
              "<style scoped>\n",
              "    .dataframe tbody tr th:only-of-type {\n",
              "        vertical-align: middle;\n",
              "    }\n",
              "\n",
              "    .dataframe tbody tr th {\n",
              "        vertical-align: top;\n",
              "    }\n",
              "\n",
              "    .dataframe thead th {\n",
              "        text-align: right;\n",
              "    }\n",
              "</style>\n",
              "<table border=\"1\" class=\"dataframe\">\n",
              "  <thead>\n",
              "    <tr style=\"text-align: right;\">\n",
              "      <th></th>\n",
              "      <th>Well</th>\n",
              "      <th>Por</th>\n",
              "      <th>Perm</th>\n",
              "      <th>AI</th>\n",
              "      <th>Brittle</th>\n",
              "      <th>TOC</th>\n",
              "      <th>VR</th>\n",
              "      <th>Prod</th>\n",
              "    </tr>\n",
              "  </thead>\n",
              "  <tbody>\n",
              "    <tr>\n",
              "      <th>count</th>\n",
              "      <td>200.000000</td>\n",
              "      <td>200.000000</td>\n",
              "      <td>200.000000</td>\n",
              "      <td>200.000000</td>\n",
              "      <td>200.000000</td>\n",
              "      <td>200.000000</td>\n",
              "      <td>200.000000</td>\n",
              "      <td>200.000000</td>\n",
              "    </tr>\n",
              "    <tr>\n",
              "      <th>mean</th>\n",
              "      <td>100.500000</td>\n",
              "      <td>14.991150</td>\n",
              "      <td>4.330750</td>\n",
              "      <td>2.968850</td>\n",
              "      <td>48.161950</td>\n",
              "      <td>0.990450</td>\n",
              "      <td>1.964300</td>\n",
              "      <td>4311.219852</td>\n",
              "    </tr>\n",
              "    <tr>\n",
              "      <th>std</th>\n",
              "      <td>57.879185</td>\n",
              "      <td>2.971176</td>\n",
              "      <td>1.731014</td>\n",
              "      <td>0.566885</td>\n",
              "      <td>14.129455</td>\n",
              "      <td>0.481588</td>\n",
              "      <td>0.300827</td>\n",
              "      <td>992.038414</td>\n",
              "    </tr>\n",
              "    <tr>\n",
              "      <th>min</th>\n",
              "      <td>1.000000</td>\n",
              "      <td>6.550000</td>\n",
              "      <td>1.130000</td>\n",
              "      <td>1.280000</td>\n",
              "      <td>10.940000</td>\n",
              "      <td>-0.190000</td>\n",
              "      <td>0.930000</td>\n",
              "      <td>2107.139414</td>\n",
              "    </tr>\n",
              "    <tr>\n",
              "      <th>25%</th>\n",
              "      <td>50.750000</td>\n",
              "      <td>12.912500</td>\n",
              "      <td>3.122500</td>\n",
              "      <td>2.547500</td>\n",
              "      <td>37.755000</td>\n",
              "      <td>0.617500</td>\n",
              "      <td>1.770000</td>\n",
              "      <td>3618.064513</td>\n",
              "    </tr>\n",
              "    <tr>\n",
              "      <th>50%</th>\n",
              "      <td>100.500000</td>\n",
              "      <td>15.070000</td>\n",
              "      <td>4.035000</td>\n",
              "      <td>2.955000</td>\n",
              "      <td>49.510000</td>\n",
              "      <td>1.030000</td>\n",
              "      <td>1.960000</td>\n",
              "      <td>4284.687348</td>\n",
              "    </tr>\n",
              "    <tr>\n",
              "      <th>75%</th>\n",
              "      <td>150.250000</td>\n",
              "      <td>17.402500</td>\n",
              "      <td>5.287500</td>\n",
              "      <td>3.345000</td>\n",
              "      <td>58.262500</td>\n",
              "      <td>1.350000</td>\n",
              "      <td>2.142500</td>\n",
              "      <td>5086.089761</td>\n",
              "    </tr>\n",
              "    <tr>\n",
              "      <th>max</th>\n",
              "      <td>200.000000</td>\n",
              "      <td>23.550000</td>\n",
              "      <td>9.870000</td>\n",
              "      <td>4.630000</td>\n",
              "      <td>84.330000</td>\n",
              "      <td>2.180000</td>\n",
              "      <td>2.870000</td>\n",
              "      <td>6662.622385</td>\n",
              "    </tr>\n",
              "  </tbody>\n",
              "</table>\n",
              "</div>\n",
              "    <div class=\"colab-df-buttons\">\n",
              "\n",
              "  <div class=\"colab-df-container\">\n",
              "    <button class=\"colab-df-convert\" onclick=\"convertToInteractive('df-778814bd-8168-422c-8b6d-967651082a69')\"\n",
              "            title=\"Convert this dataframe to an interactive table.\"\n",
              "            style=\"display:none;\">\n",
              "\n",
              "  <svg xmlns=\"http://www.w3.org/2000/svg\" height=\"24px\" viewBox=\"0 -960 960 960\">\n",
              "    <path d=\"M120-120v-720h720v720H120Zm60-500h600v-160H180v160Zm220 220h160v-160H400v160Zm0 220h160v-160H400v160ZM180-400h160v-160H180v160Zm440 0h160v-160H620v160ZM180-180h160v-160H180v160Zm440 0h160v-160H620v160Z\"/>\n",
              "  </svg>\n",
              "    </button>\n",
              "\n",
              "  <style>\n",
              "    .colab-df-container {\n",
              "      display:flex;\n",
              "      gap: 12px;\n",
              "    }\n",
              "\n",
              "    .colab-df-convert {\n",
              "      background-color: #E8F0FE;\n",
              "      border: none;\n",
              "      border-radius: 50%;\n",
              "      cursor: pointer;\n",
              "      display: none;\n",
              "      fill: #1967D2;\n",
              "      height: 32px;\n",
              "      padding: 0 0 0 0;\n",
              "      width: 32px;\n",
              "    }\n",
              "\n",
              "    .colab-df-convert:hover {\n",
              "      background-color: #E2EBFA;\n",
              "      box-shadow: 0px 1px 2px rgba(60, 64, 67, 0.3), 0px 1px 3px 1px rgba(60, 64, 67, 0.15);\n",
              "      fill: #174EA6;\n",
              "    }\n",
              "\n",
              "    .colab-df-buttons div {\n",
              "      margin-bottom: 4px;\n",
              "    }\n",
              "\n",
              "    [theme=dark] .colab-df-convert {\n",
              "      background-color: #3B4455;\n",
              "      fill: #D2E3FC;\n",
              "    }\n",
              "\n",
              "    [theme=dark] .colab-df-convert:hover {\n",
              "      background-color: #434B5C;\n",
              "      box-shadow: 0px 1px 3px 1px rgba(0, 0, 0, 0.15);\n",
              "      filter: drop-shadow(0px 1px 2px rgba(0, 0, 0, 0.3));\n",
              "      fill: #FFFFFF;\n",
              "    }\n",
              "  </style>\n",
              "\n",
              "    <script>\n",
              "      const buttonEl =\n",
              "        document.querySelector('#df-778814bd-8168-422c-8b6d-967651082a69 button.colab-df-convert');\n",
              "      buttonEl.style.display =\n",
              "        google.colab.kernel.accessAllowed ? 'block' : 'none';\n",
              "\n",
              "      async function convertToInteractive(key) {\n",
              "        const element = document.querySelector('#df-778814bd-8168-422c-8b6d-967651082a69');\n",
              "        const dataTable =\n",
              "          await google.colab.kernel.invokeFunction('convertToInteractive',\n",
              "                                                    [key], {});\n",
              "        if (!dataTable) return;\n",
              "\n",
              "        const docLinkHtml = 'Like what you see? Visit the ' +\n",
              "          '<a target=\"_blank\" href=https://colab.research.google.com/notebooks/data_table.ipynb>data table notebook</a>'\n",
              "          + ' to learn more about interactive tables.';\n",
              "        element.innerHTML = '';\n",
              "        dataTable['output_type'] = 'display_data';\n",
              "        await google.colab.output.renderOutput(dataTable, element);\n",
              "        const docLink = document.createElement('div');\n",
              "        docLink.innerHTML = docLinkHtml;\n",
              "        element.appendChild(docLink);\n",
              "      }\n",
              "    </script>\n",
              "  </div>\n",
              "\n",
              "\n",
              "<div id=\"df-4b0d4d03-b2d6-4541-961b-29b615f25c0a\">\n",
              "  <button class=\"colab-df-quickchart\" onclick=\"quickchart('df-4b0d4d03-b2d6-4541-961b-29b615f25c0a')\"\n",
              "            title=\"Suggest charts\"\n",
              "            style=\"display:none;\">\n",
              "\n",
              "<svg xmlns=\"http://www.w3.org/2000/svg\" height=\"24px\"viewBox=\"0 0 24 24\"\n",
              "     width=\"24px\">\n",
              "    <g>\n",
              "        <path d=\"M19 3H5c-1.1 0-2 .9-2 2v14c0 1.1.9 2 2 2h14c1.1 0 2-.9 2-2V5c0-1.1-.9-2-2-2zM9 17H7v-7h2v7zm4 0h-2V7h2v10zm4 0h-2v-4h2v4z\"/>\n",
              "    </g>\n",
              "</svg>\n",
              "  </button>\n",
              "\n",
              "<style>\n",
              "  .colab-df-quickchart {\n",
              "      --bg-color: #E8F0FE;\n",
              "      --fill-color: #1967D2;\n",
              "      --hover-bg-color: #E2EBFA;\n",
              "      --hover-fill-color: #174EA6;\n",
              "      --disabled-fill-color: #AAA;\n",
              "      --disabled-bg-color: #DDD;\n",
              "  }\n",
              "\n",
              "  [theme=dark] .colab-df-quickchart {\n",
              "      --bg-color: #3B4455;\n",
              "      --fill-color: #D2E3FC;\n",
              "      --hover-bg-color: #434B5C;\n",
              "      --hover-fill-color: #FFFFFF;\n",
              "      --disabled-bg-color: #3B4455;\n",
              "      --disabled-fill-color: #666;\n",
              "  }\n",
              "\n",
              "  .colab-df-quickchart {\n",
              "    background-color: var(--bg-color);\n",
              "    border: none;\n",
              "    border-radius: 50%;\n",
              "    cursor: pointer;\n",
              "    display: none;\n",
              "    fill: var(--fill-color);\n",
              "    height: 32px;\n",
              "    padding: 0;\n",
              "    width: 32px;\n",
              "  }\n",
              "\n",
              "  .colab-df-quickchart:hover {\n",
              "    background-color: var(--hover-bg-color);\n",
              "    box-shadow: 0 1px 2px rgba(60, 64, 67, 0.3), 0 1px 3px 1px rgba(60, 64, 67, 0.15);\n",
              "    fill: var(--button-hover-fill-color);\n",
              "  }\n",
              "\n",
              "  .colab-df-quickchart-complete:disabled,\n",
              "  .colab-df-quickchart-complete:disabled:hover {\n",
              "    background-color: var(--disabled-bg-color);\n",
              "    fill: var(--disabled-fill-color);\n",
              "    box-shadow: none;\n",
              "  }\n",
              "\n",
              "  .colab-df-spinner {\n",
              "    border: 2px solid var(--fill-color);\n",
              "    border-color: transparent;\n",
              "    border-bottom-color: var(--fill-color);\n",
              "    animation:\n",
              "      spin 1s steps(1) infinite;\n",
              "  }\n",
              "\n",
              "  @keyframes spin {\n",
              "    0% {\n",
              "      border-color: transparent;\n",
              "      border-bottom-color: var(--fill-color);\n",
              "      border-left-color: var(--fill-color);\n",
              "    }\n",
              "    20% {\n",
              "      border-color: transparent;\n",
              "      border-left-color: var(--fill-color);\n",
              "      border-top-color: var(--fill-color);\n",
              "    }\n",
              "    30% {\n",
              "      border-color: transparent;\n",
              "      border-left-color: var(--fill-color);\n",
              "      border-top-color: var(--fill-color);\n",
              "      border-right-color: var(--fill-color);\n",
              "    }\n",
              "    40% {\n",
              "      border-color: transparent;\n",
              "      border-right-color: var(--fill-color);\n",
              "      border-top-color: var(--fill-color);\n",
              "    }\n",
              "    60% {\n",
              "      border-color: transparent;\n",
              "      border-right-color: var(--fill-color);\n",
              "    }\n",
              "    80% {\n",
              "      border-color: transparent;\n",
              "      border-right-color: var(--fill-color);\n",
              "      border-bottom-color: var(--fill-color);\n",
              "    }\n",
              "    90% {\n",
              "      border-color: transparent;\n",
              "      border-bottom-color: var(--fill-color);\n",
              "    }\n",
              "  }\n",
              "</style>\n",
              "\n",
              "  <script>\n",
              "    async function quickchart(key) {\n",
              "      const quickchartButtonEl =\n",
              "        document.querySelector('#' + key + ' button');\n",
              "      quickchartButtonEl.disabled = true;  // To prevent multiple clicks.\n",
              "      quickchartButtonEl.classList.add('colab-df-spinner');\n",
              "      try {\n",
              "        const charts = await google.colab.kernel.invokeFunction(\n",
              "            'suggestCharts', [key], {});\n",
              "      } catch (error) {\n",
              "        console.error('Error during call to suggestCharts:', error);\n",
              "      }\n",
              "      quickchartButtonEl.classList.remove('colab-df-spinner');\n",
              "      quickchartButtonEl.classList.add('colab-df-quickchart-complete');\n",
              "    }\n",
              "    (() => {\n",
              "      let quickchartButtonEl =\n",
              "        document.querySelector('#df-4b0d4d03-b2d6-4541-961b-29b615f25c0a button');\n",
              "      quickchartButtonEl.style.display =\n",
              "        google.colab.kernel.accessAllowed ? 'block' : 'none';\n",
              "    })();\n",
              "  </script>\n",
              "</div>\n",
              "    </div>\n",
              "  </div>\n"
            ],
            "application/vnd.google.colaboratory.intrinsic+json": {
              "type": "dataframe",
              "summary": "{\n  \"name\": \"df\",\n  \"rows\": 8,\n  \"fields\": [\n    {\n      \"column\": \"Well\",\n      \"properties\": {\n        \"dtype\": \"number\",\n        \"std\": 71.77644232399086,\n        \"min\": 1.0,\n        \"max\": 200.0,\n        \"num_unique_values\": 6,\n        \"samples\": [\n          200.0,\n          100.5,\n          150.25\n        ],\n        \"semantic_type\": \"\",\n        \"description\": \"\"\n      }\n    },\n    {\n      \"column\": \"Por\",\n      \"properties\": {\n        \"dtype\": \"number\",\n        \"std\": 66.29354132921563,\n        \"min\": 2.971176471640172,\n        \"max\": 200.0,\n        \"num_unique_values\": 8,\n        \"samples\": [\n          14.99115,\n          15.07,\n          200.0\n        ],\n        \"semantic_type\": \"\",\n        \"description\": \"\"\n      }\n    },\n    {\n      \"column\": \"Perm\",\n      \"properties\": {\n        \"dtype\": \"number\",\n        \"std\": 69.27199510854246,\n        \"min\": 1.13,\n        \"max\": 200.0,\n        \"num_unique_values\": 8,\n        \"samples\": [\n          4.33075,\n          4.035,\n          200.0\n        ],\n        \"semantic_type\": \"\",\n        \"description\": \"\"\n      }\n    },\n    {\n      \"column\": \"AI\",\n      \"properties\": {\n        \"dtype\": \"number\",\n        \"std\": 69.79779925094961,\n        \"min\": 0.5668853255834102,\n        \"max\": 200.0,\n        \"num_unique_values\": 8,\n        \"samples\": [\n          2.9688499999999998,\n          2.955,\n          200.0\n        ],\n        \"semantic_type\": \"\",\n        \"description\": \"\"\n      }\n    },\n    {\n      \"column\": \"Brittle\",\n      \"properties\": {\n        \"dtype\": \"number\",\n        \"std\": 60.21905331399114,\n        \"min\": 10.94,\n        \"max\": 200.0,\n        \"num_unique_values\": 8,\n        \"samples\": [\n          48.16195,\n          49.51,\n          200.0\n        ],\n        \"semantic_type\": \"\",\n        \"description\": \"\"\n      }\n    },\n    {\n      \"column\": \"TOC\",\n      \"properties\": {\n        \"dtype\": \"number\",\n        \"std\": 70.3877764593265,\n        \"min\": -0.19,\n        \"max\": 200.0,\n        \"num_unique_values\": 8,\n        \"samples\": [\n          0.9904499999999998,\n          1.03,\n          200.0\n        ],\n        \"semantic_type\": \"\",\n        \"description\": \"\"\n      }\n    },\n    {\n      \"column\": \"VR\",\n      \"properties\": {\n        \"dtype\": \"number\",\n        \"std\": 70.11207441422104,\n        \"min\": 0.3008271845676094,\n        \"max\": 200.0,\n        \"num_unique_values\": 8,\n        \"samples\": [\n          1.9642999999999997,\n          1.96,\n          200.0\n        ],\n        \"semantic_type\": \"\",\n        \"description\": \"\"\n      }\n    },\n    {\n      \"column\": \"Prod\",\n      \"properties\": {\n        \"dtype\": \"number\",\n        \"std\": 2166.5455749963226,\n        \"min\": 200.0,\n        \"max\": 6662.622385,\n        \"num_unique_values\": 8,\n        \"samples\": [\n          4311.21985212,\n          4284.6873479999995,\n          200.0\n        ],\n        \"semantic_type\": \"\",\n        \"description\": \"\"\n      }\n    }\n  ]\n}"
            }
          },
          "metadata": {},
          "execution_count": 6
        }
      ]
    },
    {
      "cell_type": "code",
      "source": [
        "# Проверка отсутствующих значений\n",
        "pd.isna(df).sum()[pd.isna(df).sum() > 0]"
      ],
      "metadata": {
        "colab": {
          "base_uri": "https://localhost:8080/",
          "height": 84
        },
        "id": "Dq3WX0X00DF0",
        "outputId": "7f0caa46-f17d-43a8-f372-5f3adcaffdef"
      },
      "id": "Dq3WX0X00DF0",
      "execution_count": 7,
      "outputs": [
        {
          "output_type": "execute_result",
          "data": {
            "text/plain": [
              "Series([], dtype: int64)"
            ],
            "text/html": [
              "<div>\n",
              "<style scoped>\n",
              "    .dataframe tbody tr th:only-of-type {\n",
              "        vertical-align: middle;\n",
              "    }\n",
              "\n",
              "    .dataframe tbody tr th {\n",
              "        vertical-align: top;\n",
              "    }\n",
              "\n",
              "    .dataframe thead th {\n",
              "        text-align: right;\n",
              "    }\n",
              "</style>\n",
              "<table border=\"1\" class=\"dataframe\">\n",
              "  <thead>\n",
              "    <tr style=\"text-align: right;\">\n",
              "      <th></th>\n",
              "      <th>0</th>\n",
              "    </tr>\n",
              "  </thead>\n",
              "  <tbody>\n",
              "  </tbody>\n",
              "</table>\n",
              "</div><br><label><b>dtype:</b> int64</label>"
            ]
          },
          "metadata": {},
          "execution_count": 7
        }
      ]
    },
    {
      "cell_type": "markdown",
      "source": [
        "**Построим графики распределение добычи газа в сутки (млн. кубических футов) в зависимости от характеристик скважины**"
      ],
      "metadata": {
        "id": "wJ8JZz5j0TUO"
      },
      "id": "wJ8JZz5j0TUO"
    },
    {
      "cell_type": "code",
      "source": [
        "# Признаки для анализа зависимости с целевой переменной Prod\n",
        "features = ['Por', 'Perm', 'AI', 'Brittle', 'TOC', 'VR']\n",
        "\n",
        "# Создаем графики рассеяния\n",
        "for feature in features:\n",
        "    fig = px.scatter(df, x=feature, y='Prod', trendline=\"ols\",\n",
        "                     title=f'Зависимость добычи газа (Prod) от {feature}')\n",
        "    fig.show()"
      ],
      "metadata": {
        "colab": {
          "base_uri": "https://localhost:8080/",
          "height": 1000
        },
        "id": "_Kr0WRJs6143",
        "outputId": "374fbdea-02c7-43ca-b0cb-3a747c432271"
      },
      "id": "_Kr0WRJs6143",
      "execution_count": 8,
      "outputs": [
        {
          "output_type": "display_data",
          "data": {
            "text/html": [
              "<html>\n",
              "<head><meta charset=\"utf-8\" /></head>\n",
              "<body>\n",
              "    <div>            <script src=\"https://cdnjs.cloudflare.com/ajax/libs/mathjax/2.7.5/MathJax.js?config=TeX-AMS-MML_SVG\"></script><script type=\"text/javascript\">if (window.MathJax && window.MathJax.Hub && window.MathJax.Hub.Config) {window.MathJax.Hub.Config({SVG: {font: \"STIX-Web\"}});}</script>                <script type=\"text/javascript\">window.PlotlyConfig = {MathJaxConfig: 'local'};</script>\n",
              "        <script charset=\"utf-8\" src=\"https://cdn.plot.ly/plotly-2.35.2.min.js\"></script>                <div id=\"32348266-b540-4fe4-9555-8cd00f268980\" class=\"plotly-graph-div\" style=\"height:525px; width:100%;\"></div>            <script type=\"text/javascript\">                                    window.PLOTLYENV=window.PLOTLYENV || {};                                    if (document.getElementById(\"32348266-b540-4fe4-9555-8cd00f268980\")) {                    Plotly.newPlot(                        \"32348266-b540-4fe4-9555-8cd00f268980\",                        [{\"hovertemplate\":\"Por=%{x}\\u003cbr\\u003eProd=%{y}\\u003cextra\\u003e\\u003c\\u002fextra\\u003e\",\"legendgroup\":\"\",\"marker\":{\"color\":\"#636efa\",\"symbol\":\"circle\"},\"mode\":\"markers\",\"name\":\"\",\"orientation\":\"v\",\"showlegend\":false,\"x\":[12.08,12.38,14.02,17.67,17.52,14.53,13.49,11.58,12.52,13.25,15.04,16.19,16.82,17.39,13.83,11.34,19.55,15.58,14.73,12.47,18.08,16.32,12.62,10.03,18.66,7.27,15.78,15.73,12.38,12.89,18.48,14.74,12.55,13.58,11.76,11.98,13.56,16.55,15.22,14.54,14.37,15.4,10.14,11.09,18.37,14.71,9.29,11.85,18.59,18.18,18.72,20.96,15.31,11.98,18.16,13.61,13.67,15.21,16.1,13.0,18.32,14.96,18.21,15.07,17.75,15.77,14.19,13.8,14.84,12.54,10.13,14.17,14.85,16.62,17.85,18.73,17.2,10.49,13.53,18.04,14.97,16.18,15.07,13.69,10.15,13.45,15.94,14.88,11.12,13.5,13.72,7.38,20.21,10.69,15.75,17.96,16.95,19.73,11.91,15.53,14.44,13.37,10.5,18.9,17.89,15.32,13.48,17.17,20.86,15.19,14.95,12.1,18.24,19.86,19.54,18.37,12.89,15.2,12.23,17.88,15.79,12.38,18.98,13.76,23.55,14.86,16.43,15.86,12.98,17.21,15.34,17.57,10.74,18.79,12.83,15.35,14.88,14.69,7.77,15.87,18.75,15.63,18.06,12.05,14.44,16.69,15.8,16.84,13.46,14.63,12.2,10.5,18.68,16.88,15.42,13.01,17.92,15.97,13.32,18.1,16.21,18.0,17.86,11.6,17.98,16.61,19.06,12.83,18.96,11.71,11.91,17.44,10.95,12.94,15.72,14.02,14.49,11.8,19.29,7.22,15.7,14.48,9.88,18.8,18.07,15.68,15.28,10.88,16.14,16.12,13.52,6.55,20.37,12.92,17.13,11.95,17.99,12.12,15.55,20.89],\"xaxis\":\"x\",\"y\":[4165.196191,3561.146205,4284.348574,5098.680869,3406.132832,4395.763259,4104.400989,3496.742701,4025.851153,4285.026122,4691.546305,5128.20297,5113.940775,5546.431951,4323.568513,3539.984263,5425.900608,3796.037029,4534.585915,3803.411386,5778.851488,4771.307836,2486.075498,2515.440716,6046.257538,2351.289487,4971.979256,3999.613909,2760.485982,3825.661812,5859.748328,3775.981178,3907.28923,4118.233273,3621.261108,2718.652945,3608.47473,5249.625543,4239.53187,4471.241364,4363.202854,4495.004769,3098.436639,2677.297348,5779.876876,3210.90138,2967.240201,2415.825125,5563.040771,5337.145786,5670.537767,5899.353594,4601.071319,3741.129167,5605.978153,4079.994302,3146.528143,3691.832452,3542.532883,3969.558019,5851.024387,3733.769597,5620.911404,4319.662079,5620.445827,4431.905847,3376.2837,3999.97933,4336.465709,3767.10242,3180.611366,4320.554389,4220.557084,4087.529805,5321.469922,6053.071368,5446.810082,3190.699612,4276.410007,5518.256409,4555.146788,4489.29306,4319.787412,4113.145433,2734.773959,4142.406714,4208.174933,4519.923344,3364.213781,3562.635128,3806.229207,2119.315516,4877.71473,3591.891958,4700.224408,5350.949293,5278.785405,6455.048131,3671.944944,4948.929165,4464.894985,4003.874956,3376.059883,3856.991967,4689.43224,4748.315024,3890.428004,4733.965648,6480.140811,4751.960471,4429.601197,3695.605482,5334.209437,6171.948872,5188.165252,5429.61122,4190.949492,4321.08436,3278.519165,5568.129512,4761.541276,3096.041435,5984.91987,3987.451637,5107.668954,4590.775041,4394.908724,4801.169597,4118.586934,3762.933398,4583.194189,5257.439724,3258.271193,4896.3969,2508.507049,3655.497757,4300.222781,4566.400754,2107.139414,3989.012964,5903.37822,4260.004869,5996.900444,3196.99447,4476.367366,4605.799987,4180.788056,5400.374809,3950.292582,3418.470532,2705.868622,3219.49199,5607.51549,5083.318118,3341.157722,3867.438514,5629.970179,4859.067707,4092.730535,5898.169102,5085.588965,4470.882859,3923.997348,3458.846102,4013.751035,5175.59912,6395.708841,3182.815944,4862.060183,2940.975811,2791.133133,5449.314018,3031.432666,3460.397749,4158.294202,4441.251847,3333.963492,2819.977847,5880.785643,2362.269336,4290.072266,4144.2208,3141.540928,5692.716924,4319.373276,4807.05583,3899.879873,3413.73739,4385.713419,4291.702607,3407.341602,2187.774422,5899.275409,3855.930544,5489.491177,3847.571003,5601.227131,3409.575363,5087.592149,6662.622385],\"yaxis\":\"y\",\"type\":\"scatter\"},{\"hovertemplate\":\"\\u003cb\\u003eOLS trendline\\u003c\\u002fb\\u003e\\u003cbr\\u003eProd = 287.781 * Por + -2.94443\\u003cbr\\u003eR\\u003csup\\u003e2\\u003c\\u002fsup\\u003e=0.742888\\u003cbr\\u003e\\u003cbr\\u003ePor=%{x}\\u003cbr\\u003eProd=%{y} \\u003cb\\u003e(trend)\\u003c\\u002fb\\u003e\\u003cextra\\u003e\\u003c\\u002fextra\\u003e\",\"legendgroup\":\"\",\"marker\":{\"color\":\"#636efa\",\"symbol\":\"circle\"},\"mode\":\"lines\",\"name\":\"\",\"showlegend\":false,\"x\":[6.55,7.22,7.27,7.38,7.77,9.29,9.88,10.03,10.13,10.14,10.15,10.49,10.5,10.5,10.69,10.74,10.88,10.95,11.09,11.12,11.34,11.58,11.6,11.71,11.76,11.8,11.85,11.91,11.91,11.95,11.98,11.98,12.05,12.08,12.1,12.12,12.2,12.23,12.38,12.38,12.38,12.47,12.52,12.54,12.55,12.62,12.83,12.83,12.89,12.89,12.92,12.94,12.98,13.0,13.01,13.25,13.32,13.37,13.45,13.46,13.48,13.49,13.5,13.52,13.53,13.56,13.58,13.61,13.67,13.69,13.72,13.76,13.8,13.83,14.02,14.02,14.17,14.19,14.37,14.44,14.44,14.48,14.49,14.53,14.54,14.63,14.69,14.71,14.73,14.74,14.84,14.85,14.86,14.88,14.88,14.95,14.96,14.97,15.04,15.07,15.07,15.19,15.2,15.21,15.22,15.28,15.31,15.32,15.34,15.35,15.4,15.42,15.53,15.55,15.58,15.63,15.68,15.7,15.72,15.73,15.75,15.77,15.78,15.79,15.8,15.86,15.87,15.94,15.97,16.1,16.12,16.14,16.18,16.19,16.21,16.32,16.43,16.55,16.61,16.62,16.69,16.82,16.84,16.88,16.95,17.13,17.17,17.2,17.21,17.39,17.44,17.52,17.57,17.67,17.75,17.85,17.86,17.88,17.89,17.92,17.96,17.98,17.99,18.0,18.04,18.06,18.07,18.08,18.1,18.16,18.18,18.21,18.24,18.32,18.37,18.37,18.48,18.59,18.66,18.68,18.72,18.73,18.75,18.79,18.8,18.9,18.96,18.98,19.06,19.29,19.54,19.55,19.73,19.86,20.21,20.37,20.86,20.89,20.96,23.55],\"xaxis\":\"x\",\"y\":[1882.0194346128806,2074.8325323222884,2089.2215694647816,2120.8774511782663,2233.111940889713,2670.538670021504,2840.3293083029234,2883.4964197304025,2912.2744940153893,2915.152301443888,2918.0301088723863,3015.87556144134,3018.753368869838,3018.753368869838,3073.431710011312,3087.8207471538053,3128.110051152786,3148.2547031522763,3188.544007151257,3197.177429436753,3260.489192863723,3329.55657114769,3335.312186004687,3366.9680677181723,3381.3571048606655,3392.86833457466,3407.257371717153,3424.524216288145,3424.524216288145,3436.035446002139,3444.668868287635,3444.668868287635,3464.813520287126,3473.4469425726215,3479.2025574296185,3484.9581722866155,3507.980631714605,3516.614054000101,3559.7811654275806,3559.7811654275806,3559.7811654275806,3585.6814322840683,3600.070469426561,3605.826084283558,3608.703891712057,3628.848543711547,3689.2824997100183,3689.2824997100183,3706.5493442810102,3706.5493442810102,3715.182766566506,3720.9383814235034,3732.449611137498,3738.2052259944953,3741.0830334229936,3810.1504117069608,3830.2950637064514,3844.684100848944,3867.706560276933,3870.584367705432,3876.339982562429,3879.217789990928,3882.0955974194267,3887.8512122764237,3890.7290197049224,3899.3624419904186,3905.1180568474156,3913.7514791329113,3931.018323703903,3936.7739385609,3945.4073608463964,3956.918590560391,3968.4298202743857,3977.0632425598815,4031.741583701355,4031.741583701355,4074.9086951288346,4080.6643099858316,4132.464843698807,4152.609495698298,4152.609495698298,4164.120725412293,4166.998532840791,4178.509762554785,4181.387569983284,4207.287836839772,4224.554681410764,4230.310296267761,4236.065911124759,4238.943718553257,4267.721792838243,4270.599600266742,4273.47740769524,4279.233022552237,4279.233022552237,4299.377674551728,4302.255481980227,4305.133289408725,4325.277941408215,4333.911363693712,4333.911363693712,4368.445052835695,4371.322860264194,4374.200667692692,4377.078475121191,4394.345319692183,4402.9787419776785,4405.856549406178,4411.612164263174,4414.4899716916725,4428.879008834167,4434.634623691163,4466.290505404648,4472.046120261646,4480.679542547142,4495.068579689635,4509.457616832127,4515.213231689125,4520.968846546122,4523.846653974621,4529.602268831618,4535.357883688615,4538.235691117114,4541.113498545613,4543.991305974111,4561.258150545103,4564.135957973602,4584.2806099730915,4592.914032258588,4630.32552882907,4636.081143686068,4641.836758543065,4653.347988257059,4656.225795685558,4661.981410542555,4693.63729225604,4725.293173969525,4759.826863111509,4777.0937076825,4779.9715151109995,4800.116167110489,4837.527663680971,4843.283278537969,4854.794508251963,4874.939160251453,4926.739693964429,4938.2509236784235,4946.884345963919,4949.762153392418,5001.562687105393,5015.951724247887,5038.974183675875,5053.363220818368,5082.141295103355,5105.163754531343,5133.941828816331,5136.819636244828,5142.575251101825,5145.453058530325,5154.086480815821,5165.597710529815,5171.353325386812,5174.23113281531,5177.108940243809,5188.620169957803,5194.375784814801,5197.2535922433,5200.131399671798,5205.887014528796,5223.153859099787,5228.9094739567845,5237.542896242281,5246.176318527776,5269.198777955766,5283.587815098259,5283.587815098259,5315.243696811744,5346.899578525228,5367.044230524719,5372.799845381716,5384.31107509571,5387.1888825242095,5392.944497381206,5404.455727095201,5407.3335345237,5436.111608808686,5453.378453379678,5459.134068236675,5482.156527664663,5548.346098520132,5620.291284232598,5623.169091661097,5674.969625374072,5712.381121944554,5813.1043819420065,5859.149300797984,6000.161864794417,6008.795287079913,6028.939939079403,6774.292063060548],\"yaxis\":\"y\",\"type\":\"scatter\"}],                        {\"template\":{\"data\":{\"histogram2dcontour\":[{\"type\":\"histogram2dcontour\",\"colorbar\":{\"outlinewidth\":0,\"ticks\":\"\"},\"colorscale\":[[0.0,\"#0d0887\"],[0.1111111111111111,\"#46039f\"],[0.2222222222222222,\"#7201a8\"],[0.3333333333333333,\"#9c179e\"],[0.4444444444444444,\"#bd3786\"],[0.5555555555555556,\"#d8576b\"],[0.6666666666666666,\"#ed7953\"],[0.7777777777777778,\"#fb9f3a\"],[0.8888888888888888,\"#fdca26\"],[1.0,\"#f0f921\"]]}],\"choropleth\":[{\"type\":\"choropleth\",\"colorbar\":{\"outlinewidth\":0,\"ticks\":\"\"}}],\"histogram2d\":[{\"type\":\"histogram2d\",\"colorbar\":{\"outlinewidth\":0,\"ticks\":\"\"},\"colorscale\":[[0.0,\"#0d0887\"],[0.1111111111111111,\"#46039f\"],[0.2222222222222222,\"#7201a8\"],[0.3333333333333333,\"#9c179e\"],[0.4444444444444444,\"#bd3786\"],[0.5555555555555556,\"#d8576b\"],[0.6666666666666666,\"#ed7953\"],[0.7777777777777778,\"#fb9f3a\"],[0.8888888888888888,\"#fdca26\"],[1.0,\"#f0f921\"]]}],\"heatmap\":[{\"type\":\"heatmap\",\"colorbar\":{\"outlinewidth\":0,\"ticks\":\"\"},\"colorscale\":[[0.0,\"#0d0887\"],[0.1111111111111111,\"#46039f\"],[0.2222222222222222,\"#7201a8\"],[0.3333333333333333,\"#9c179e\"],[0.4444444444444444,\"#bd3786\"],[0.5555555555555556,\"#d8576b\"],[0.6666666666666666,\"#ed7953\"],[0.7777777777777778,\"#fb9f3a\"],[0.8888888888888888,\"#fdca26\"],[1.0,\"#f0f921\"]]}],\"heatmapgl\":[{\"type\":\"heatmapgl\",\"colorbar\":{\"outlinewidth\":0,\"ticks\":\"\"},\"colorscale\":[[0.0,\"#0d0887\"],[0.1111111111111111,\"#46039f\"],[0.2222222222222222,\"#7201a8\"],[0.3333333333333333,\"#9c179e\"],[0.4444444444444444,\"#bd3786\"],[0.5555555555555556,\"#d8576b\"],[0.6666666666666666,\"#ed7953\"],[0.7777777777777778,\"#fb9f3a\"],[0.8888888888888888,\"#fdca26\"],[1.0,\"#f0f921\"]]}],\"contourcarpet\":[{\"type\":\"contourcarpet\",\"colorbar\":{\"outlinewidth\":0,\"ticks\":\"\"}}],\"contour\":[{\"type\":\"contour\",\"colorbar\":{\"outlinewidth\":0,\"ticks\":\"\"},\"colorscale\":[[0.0,\"#0d0887\"],[0.1111111111111111,\"#46039f\"],[0.2222222222222222,\"#7201a8\"],[0.3333333333333333,\"#9c179e\"],[0.4444444444444444,\"#bd3786\"],[0.5555555555555556,\"#d8576b\"],[0.6666666666666666,\"#ed7953\"],[0.7777777777777778,\"#fb9f3a\"],[0.8888888888888888,\"#fdca26\"],[1.0,\"#f0f921\"]]}],\"surface\":[{\"type\":\"surface\",\"colorbar\":{\"outlinewidth\":0,\"ticks\":\"\"},\"colorscale\":[[0.0,\"#0d0887\"],[0.1111111111111111,\"#46039f\"],[0.2222222222222222,\"#7201a8\"],[0.3333333333333333,\"#9c179e\"],[0.4444444444444444,\"#bd3786\"],[0.5555555555555556,\"#d8576b\"],[0.6666666666666666,\"#ed7953\"],[0.7777777777777778,\"#fb9f3a\"],[0.8888888888888888,\"#fdca26\"],[1.0,\"#f0f921\"]]}],\"mesh3d\":[{\"type\":\"mesh3d\",\"colorbar\":{\"outlinewidth\":0,\"ticks\":\"\"}}],\"scatter\":[{\"fillpattern\":{\"fillmode\":\"overlay\",\"size\":10,\"solidity\":0.2},\"type\":\"scatter\"}],\"parcoords\":[{\"type\":\"parcoords\",\"line\":{\"colorbar\":{\"outlinewidth\":0,\"ticks\":\"\"}}}],\"scatterpolargl\":[{\"type\":\"scatterpolargl\",\"marker\":{\"colorbar\":{\"outlinewidth\":0,\"ticks\":\"\"}}}],\"bar\":[{\"error_x\":{\"color\":\"#2a3f5f\"},\"error_y\":{\"color\":\"#2a3f5f\"},\"marker\":{\"line\":{\"color\":\"#E5ECF6\",\"width\":0.5},\"pattern\":{\"fillmode\":\"overlay\",\"size\":10,\"solidity\":0.2}},\"type\":\"bar\"}],\"scattergeo\":[{\"type\":\"scattergeo\",\"marker\":{\"colorbar\":{\"outlinewidth\":0,\"ticks\":\"\"}}}],\"scatterpolar\":[{\"type\":\"scatterpolar\",\"marker\":{\"colorbar\":{\"outlinewidth\":0,\"ticks\":\"\"}}}],\"histogram\":[{\"marker\":{\"pattern\":{\"fillmode\":\"overlay\",\"size\":10,\"solidity\":0.2}},\"type\":\"histogram\"}],\"scattergl\":[{\"type\":\"scattergl\",\"marker\":{\"colorbar\":{\"outlinewidth\":0,\"ticks\":\"\"}}}],\"scatter3d\":[{\"type\":\"scatter3d\",\"line\":{\"colorbar\":{\"outlinewidth\":0,\"ticks\":\"\"}},\"marker\":{\"colorbar\":{\"outlinewidth\":0,\"ticks\":\"\"}}}],\"scattermapbox\":[{\"type\":\"scattermapbox\",\"marker\":{\"colorbar\":{\"outlinewidth\":0,\"ticks\":\"\"}}}],\"scatterternary\":[{\"type\":\"scatterternary\",\"marker\":{\"colorbar\":{\"outlinewidth\":0,\"ticks\":\"\"}}}],\"scattercarpet\":[{\"type\":\"scattercarpet\",\"marker\":{\"colorbar\":{\"outlinewidth\":0,\"ticks\":\"\"}}}],\"carpet\":[{\"aaxis\":{\"endlinecolor\":\"#2a3f5f\",\"gridcolor\":\"white\",\"linecolor\":\"white\",\"minorgridcolor\":\"white\",\"startlinecolor\":\"#2a3f5f\"},\"baxis\":{\"endlinecolor\":\"#2a3f5f\",\"gridcolor\":\"white\",\"linecolor\":\"white\",\"minorgridcolor\":\"white\",\"startlinecolor\":\"#2a3f5f\"},\"type\":\"carpet\"}],\"table\":[{\"cells\":{\"fill\":{\"color\":\"#EBF0F8\"},\"line\":{\"color\":\"white\"}},\"header\":{\"fill\":{\"color\":\"#C8D4E3\"},\"line\":{\"color\":\"white\"}},\"type\":\"table\"}],\"barpolar\":[{\"marker\":{\"line\":{\"color\":\"#E5ECF6\",\"width\":0.5},\"pattern\":{\"fillmode\":\"overlay\",\"size\":10,\"solidity\":0.2}},\"type\":\"barpolar\"}],\"pie\":[{\"automargin\":true,\"type\":\"pie\"}]},\"layout\":{\"autotypenumbers\":\"strict\",\"colorway\":[\"#636efa\",\"#EF553B\",\"#00cc96\",\"#ab63fa\",\"#FFA15A\",\"#19d3f3\",\"#FF6692\",\"#B6E880\",\"#FF97FF\",\"#FECB52\"],\"font\":{\"color\":\"#2a3f5f\"},\"hovermode\":\"closest\",\"hoverlabel\":{\"align\":\"left\"},\"paper_bgcolor\":\"white\",\"plot_bgcolor\":\"#E5ECF6\",\"polar\":{\"bgcolor\":\"#E5ECF6\",\"angularaxis\":{\"gridcolor\":\"white\",\"linecolor\":\"white\",\"ticks\":\"\"},\"radialaxis\":{\"gridcolor\":\"white\",\"linecolor\":\"white\",\"ticks\":\"\"}},\"ternary\":{\"bgcolor\":\"#E5ECF6\",\"aaxis\":{\"gridcolor\":\"white\",\"linecolor\":\"white\",\"ticks\":\"\"},\"baxis\":{\"gridcolor\":\"white\",\"linecolor\":\"white\",\"ticks\":\"\"},\"caxis\":{\"gridcolor\":\"white\",\"linecolor\":\"white\",\"ticks\":\"\"}},\"coloraxis\":{\"colorbar\":{\"outlinewidth\":0,\"ticks\":\"\"}},\"colorscale\":{\"sequential\":[[0.0,\"#0d0887\"],[0.1111111111111111,\"#46039f\"],[0.2222222222222222,\"#7201a8\"],[0.3333333333333333,\"#9c179e\"],[0.4444444444444444,\"#bd3786\"],[0.5555555555555556,\"#d8576b\"],[0.6666666666666666,\"#ed7953\"],[0.7777777777777778,\"#fb9f3a\"],[0.8888888888888888,\"#fdca26\"],[1.0,\"#f0f921\"]],\"sequentialminus\":[[0.0,\"#0d0887\"],[0.1111111111111111,\"#46039f\"],[0.2222222222222222,\"#7201a8\"],[0.3333333333333333,\"#9c179e\"],[0.4444444444444444,\"#bd3786\"],[0.5555555555555556,\"#d8576b\"],[0.6666666666666666,\"#ed7953\"],[0.7777777777777778,\"#fb9f3a\"],[0.8888888888888888,\"#fdca26\"],[1.0,\"#f0f921\"]],\"diverging\":[[0,\"#8e0152\"],[0.1,\"#c51b7d\"],[0.2,\"#de77ae\"],[0.3,\"#f1b6da\"],[0.4,\"#fde0ef\"],[0.5,\"#f7f7f7\"],[0.6,\"#e6f5d0\"],[0.7,\"#b8e186\"],[0.8,\"#7fbc41\"],[0.9,\"#4d9221\"],[1,\"#276419\"]]},\"xaxis\":{\"gridcolor\":\"white\",\"linecolor\":\"white\",\"ticks\":\"\",\"title\":{\"standoff\":15},\"zerolinecolor\":\"white\",\"automargin\":true,\"zerolinewidth\":2},\"yaxis\":{\"gridcolor\":\"white\",\"linecolor\":\"white\",\"ticks\":\"\",\"title\":{\"standoff\":15},\"zerolinecolor\":\"white\",\"automargin\":true,\"zerolinewidth\":2},\"scene\":{\"xaxis\":{\"backgroundcolor\":\"#E5ECF6\",\"gridcolor\":\"white\",\"linecolor\":\"white\",\"showbackground\":true,\"ticks\":\"\",\"zerolinecolor\":\"white\",\"gridwidth\":2},\"yaxis\":{\"backgroundcolor\":\"#E5ECF6\",\"gridcolor\":\"white\",\"linecolor\":\"white\",\"showbackground\":true,\"ticks\":\"\",\"zerolinecolor\":\"white\",\"gridwidth\":2},\"zaxis\":{\"backgroundcolor\":\"#E5ECF6\",\"gridcolor\":\"white\",\"linecolor\":\"white\",\"showbackground\":true,\"ticks\":\"\",\"zerolinecolor\":\"white\",\"gridwidth\":2}},\"shapedefaults\":{\"line\":{\"color\":\"#2a3f5f\"}},\"annotationdefaults\":{\"arrowcolor\":\"#2a3f5f\",\"arrowhead\":0,\"arrowwidth\":1},\"geo\":{\"bgcolor\":\"white\",\"landcolor\":\"#E5ECF6\",\"subunitcolor\":\"white\",\"showland\":true,\"showlakes\":true,\"lakecolor\":\"white\"},\"title\":{\"x\":0.05},\"mapbox\":{\"style\":\"light\"}}},\"xaxis\":{\"anchor\":\"y\",\"domain\":[0.0,1.0],\"title\":{\"text\":\"Por\"}},\"yaxis\":{\"anchor\":\"x\",\"domain\":[0.0,1.0],\"title\":{\"text\":\"Prod\"}},\"legend\":{\"tracegroupgap\":0},\"title\":{\"text\":\"Зависимость добычи газа (Prod) от Por\"}},                        {\"responsive\": true}                    ).then(function(){\n",
              "                            \n",
              "var gd = document.getElementById('32348266-b540-4fe4-9555-8cd00f268980');\n",
              "var x = new MutationObserver(function (mutations, observer) {{\n",
              "        var display = window.getComputedStyle(gd).display;\n",
              "        if (!display || display === 'none') {{\n",
              "            console.log([gd, 'removed!']);\n",
              "            Plotly.purge(gd);\n",
              "            observer.disconnect();\n",
              "        }}\n",
              "}});\n",
              "\n",
              "// Listen for the removal of the full notebook cells\n",
              "var notebookContainer = gd.closest('#notebook-container');\n",
              "if (notebookContainer) {{\n",
              "    x.observe(notebookContainer, {childList: true});\n",
              "}}\n",
              "\n",
              "// Listen for the clearing of the current output cell\n",
              "var outputEl = gd.closest('.output');\n",
              "if (outputEl) {{\n",
              "    x.observe(outputEl, {childList: true});\n",
              "}}\n",
              "\n",
              "                        })                };                            </script>        </div>\n",
              "</body>\n",
              "</html>"
            ]
          },
          "metadata": {}
        },
        {
          "output_type": "display_data",
          "data": {
            "text/html": [
              "<html>\n",
              "<head><meta charset=\"utf-8\" /></head>\n",
              "<body>\n",
              "    <div>            <script src=\"https://cdnjs.cloudflare.com/ajax/libs/mathjax/2.7.5/MathJax.js?config=TeX-AMS-MML_SVG\"></script><script type=\"text/javascript\">if (window.MathJax && window.MathJax.Hub && window.MathJax.Hub.Config) {window.MathJax.Hub.Config({SVG: {font: \"STIX-Web\"}});}</script>                <script type=\"text/javascript\">window.PlotlyConfig = {MathJaxConfig: 'local'};</script>\n",
              "        <script charset=\"utf-8\" src=\"https://cdn.plot.ly/plotly-2.35.2.min.js\"></script>                <div id=\"88b034ae-81b8-4f78-8e51-ec46d89b4b01\" class=\"plotly-graph-div\" style=\"height:525px; width:100%;\"></div>            <script type=\"text/javascript\">                                    window.PLOTLYENV=window.PLOTLYENV || {};                                    if (document.getElementById(\"88b034ae-81b8-4f78-8e51-ec46d89b4b01\")) {                    Plotly.newPlot(                        \"88b034ae-81b8-4f78-8e51-ec46d89b4b01\",                        [{\"hovertemplate\":\"Perm=%{x}\\u003cbr\\u003eProd=%{y}\\u003cextra\\u003e\\u003c\\u002fextra\\u003e\",\"legendgroup\":\"\",\"marker\":{\"color\":\"#636efa\",\"symbol\":\"circle\"},\"mode\":\"markers\",\"name\":\"\",\"orientation\":\"v\",\"showlegend\":false,\"x\":[2.92,3.53,2.59,6.75,4.57,4.81,3.6,3.03,2.72,3.94,4.39,6.3,5.42,4.95,5.26,2.72,8.41,3.67,5.0,2.53,5.7,4.06,2.39,1.88,5.37,2.01,5.0,6.42,2.18,2.41,5.93,3.1,3.22,2.39,2.94,3.67,3.13,5.7,3.67,3.67,5.93,3.9,3.78,2.56,5.93,4.35,1.67,3.46,5.1,4.39,5.75,9.21,3.35,2.75,7.1,3.53,3.13,4.1,3.25,4.66,5.7,2.16,5.7,5.42,4.66,7.03,3.29,3.29,3.97,3.49,2.39,3.94,5.0,4.62,5.81,7.46,6.36,1.62,4.53,3.9,2.75,4.01,3.39,3.86,1.72,2.51,3.82,4.81,1.88,2.66,4.01,1.88,8.33,2.66,3.6,4.26,4.14,7.85,4.48,5.42,2.92,4.66,3.22,4.57,4.22,3.71,2.61,3.82,6.3,5.05,3.29,5.1,4.31,6.82,5.93,4.95,4.26,3.49,2.39,5.58,4.22,2.48,9.78,3.86,8.25,3.9,5.99,2.94,5.26,4.62,3.06,4.44,1.72,4.48,2.69,4.66,5.16,3.63,1.48,6.82,5.16,4.66,8.0,2.36,4.53,5.05,2.72,5.1,4.57,7.1,2.92,2.56,6.17,6.62,4.06,3.6,5.37,3.19,3.19,9.58,4.01,5.58,6.96,1.73,4.26,3.49,9.49,3.56,5.81,1.88,5.42,5.7,2.23,2.64,3.78,4.48,4.85,2.92,5.0,1.42,3.0,3.82,2.72,6.05,3.78,5.37,3.49,3.32,5.05,4.1,3.86,1.13,6.69,3.9,5.99,3.13,9.87,2.27,4.48,7.54],\"xaxis\":\"x\",\"y\":[4165.196191,3561.146205,4284.348574,5098.680869,3406.132832,4395.763259,4104.400989,3496.742701,4025.851153,4285.026122,4691.546305,5128.20297,5113.940775,5546.431951,4323.568513,3539.984263,5425.900608,3796.037029,4534.585915,3803.411386,5778.851488,4771.307836,2486.075498,2515.440716,6046.257538,2351.289487,4971.979256,3999.613909,2760.485982,3825.661812,5859.748328,3775.981178,3907.28923,4118.233273,3621.261108,2718.652945,3608.47473,5249.625543,4239.53187,4471.241364,4363.202854,4495.004769,3098.436639,2677.297348,5779.876876,3210.90138,2967.240201,2415.825125,5563.040771,5337.145786,5670.537767,5899.353594,4601.071319,3741.129167,5605.978153,4079.994302,3146.528143,3691.832452,3542.532883,3969.558019,5851.024387,3733.769597,5620.911404,4319.662079,5620.445827,4431.905847,3376.2837,3999.97933,4336.465709,3767.10242,3180.611366,4320.554389,4220.557084,4087.529805,5321.469922,6053.071368,5446.810082,3190.699612,4276.410007,5518.256409,4555.146788,4489.29306,4319.787412,4113.145433,2734.773959,4142.406714,4208.174933,4519.923344,3364.213781,3562.635128,3806.229207,2119.315516,4877.71473,3591.891958,4700.224408,5350.949293,5278.785405,6455.048131,3671.944944,4948.929165,4464.894985,4003.874956,3376.059883,3856.991967,4689.43224,4748.315024,3890.428004,4733.965648,6480.140811,4751.960471,4429.601197,3695.605482,5334.209437,6171.948872,5188.165252,5429.61122,4190.949492,4321.08436,3278.519165,5568.129512,4761.541276,3096.041435,5984.91987,3987.451637,5107.668954,4590.775041,4394.908724,4801.169597,4118.586934,3762.933398,4583.194189,5257.439724,3258.271193,4896.3969,2508.507049,3655.497757,4300.222781,4566.400754,2107.139414,3989.012964,5903.37822,4260.004869,5996.900444,3196.99447,4476.367366,4605.799987,4180.788056,5400.374809,3950.292582,3418.470532,2705.868622,3219.49199,5607.51549,5083.318118,3341.157722,3867.438514,5629.970179,4859.067707,4092.730535,5898.169102,5085.588965,4470.882859,3923.997348,3458.846102,4013.751035,5175.59912,6395.708841,3182.815944,4862.060183,2940.975811,2791.133133,5449.314018,3031.432666,3460.397749,4158.294202,4441.251847,3333.963492,2819.977847,5880.785643,2362.269336,4290.072266,4144.2208,3141.540928,5692.716924,4319.373276,4807.05583,3899.879873,3413.73739,4385.713419,4291.702607,3407.341602,2187.774422,5899.275409,3855.930544,5489.491177,3847.571003,5601.227131,3409.575363,5087.592149,6662.622385],\"yaxis\":\"y\",\"type\":\"scatter\"},{\"hovertemplate\":\"\\u003cb\\u003eOLS trendline\\u003c\\u002fb\\u003e\\u003cbr\\u003eProd = 416.885 * Perm + 2505.79\\u003cbr\\u003eR\\u003csup\\u003e2\\u003c\\u002fsup\\u003e=0.529149\\u003cbr\\u003e\\u003cbr\\u003ePerm=%{x}\\u003cbr\\u003eProd=%{y} \\u003cb\\u003e(trend)\\u003c\\u002fb\\u003e\\u003cextra\\u003e\\u003c\\u002fextra\\u003e\",\"legendgroup\":\"\",\"marker\":{\"color\":\"#636efa\",\"symbol\":\"circle\"},\"mode\":\"lines\",\"name\":\"\",\"showlegend\":false,\"x\":[1.13,1.42,1.48,1.62,1.67,1.72,1.72,1.73,1.88,1.88,1.88,1.88,2.01,2.16,2.18,2.23,2.27,2.36,2.39,2.39,2.39,2.39,2.41,2.48,2.51,2.53,2.56,2.56,2.59,2.61,2.64,2.66,2.66,2.69,2.72,2.72,2.72,2.72,2.75,2.75,2.92,2.92,2.92,2.92,2.94,2.94,3.0,3.03,3.06,3.1,3.13,3.13,3.13,3.19,3.19,3.22,3.22,3.25,3.29,3.29,3.29,3.32,3.35,3.39,3.46,3.49,3.49,3.49,3.49,3.53,3.53,3.56,3.6,3.6,3.6,3.63,3.67,3.67,3.67,3.67,3.71,3.78,3.78,3.78,3.82,3.82,3.82,3.86,3.86,3.86,3.9,3.9,3.9,3.9,3.94,3.94,3.97,4.01,4.01,4.01,4.06,4.06,4.1,4.1,4.14,4.22,4.22,4.26,4.26,4.26,4.31,4.35,4.39,4.39,4.44,4.48,4.48,4.48,4.48,4.53,4.53,4.57,4.57,4.57,4.62,4.62,4.66,4.66,4.66,4.66,4.66,4.81,4.81,4.85,4.95,4.95,5.0,5.0,5.0,5.0,5.05,5.05,5.05,5.1,5.1,5.1,5.16,5.16,5.26,5.26,5.37,5.37,5.37,5.42,5.42,5.42,5.42,5.58,5.58,5.7,5.7,5.7,5.7,5.7,5.75,5.81,5.81,5.93,5.93,5.93,5.93,5.99,5.99,6.05,6.17,6.3,6.3,6.36,6.42,6.62,6.69,6.75,6.82,6.82,6.96,7.03,7.1,7.1,7.46,7.54,7.85,8.0,8.25,8.33,8.41,9.21,9.49,9.58,9.78,9.87],\"xaxis\":\"x\",\"y\":[2976.8736328353507,3097.7704237726457,3122.7835529320864,3181.1475209707805,3201.9917952703145,3222.836069569848,3222.836069569848,3227.0049244297547,3289.5377473283556,3289.5377473283556,3289.5377473283556,3289.5377473283556,3343.7328605071434,3406.2656834057443,3414.603393125558,3435.447667425092,3452.1230868647185,3489.642780603879,3502.1493451835995,3502.1493451835995,3502.1493451835995,3502.1493451835995,3510.487054903413,3539.6690389227597,3552.17560350248,3560.5133132222936,3573.019877802014,3573.019877802014,3585.5264423817343,3593.8641521015475,3606.370716681268,3614.7084264010814,3614.7084264010814,3627.2149909808013,3639.7215555605217,3639.7215555605217,3639.7215555605217,3639.7215555605217,3652.228120140242,3652.228120140242,3723.0986527586565,3723.0986527586565,3723.0986527586565,3723.0986527586565,3731.43636247847,3731.43636247847,3756.4494916379103,3768.9560562176302,3781.4626207973506,3798.1380402369778,3810.644604816698,3810.644604816698,3810.644604816698,3835.6577339761384,3835.6577339761384,3848.1642985558587,3848.1642985558587,3860.6708631355787,3877.346282575206,3877.346282575206,3877.346282575206,3889.852847154926,3902.359411734646,3919.034831174273,3948.2168151936203,3960.7233797733406,3960.7233797733406,3960.7233797733406,3960.7233797733406,3977.3987992129673,3977.3987992129673,3989.9053637926877,4006.5807832323144,4006.5807832323144,4006.5807832323144,4019.0873478120347,4035.762767251662,4035.762767251662,4035.762767251662,4035.762767251662,4052.4381866912886,4081.6201707106356,4081.6201707106356,4081.6201707106356,4098.295590150263,4098.295590150263,4098.295590150263,4114.97100958989,4114.97100958989,4114.97100958989,4131.646429029517,4131.646429029517,4131.646429029517,4131.646429029517,4148.321848469143,4148.321848469143,4160.828413048864,4177.503832488491,4177.503832488491,4177.503832488491,4198.348106788024,4198.348106788024,4215.023526227651,4215.023526227651,4231.698945667278,4265.0497845465325,4265.0497845465325,4281.72520398616,4281.72520398616,4281.72520398616,4302.569478285693,4319.24489772532,4335.920317164947,4335.920317164947,4356.764591464481,4373.440010904107,4373.440010904107,4373.440010904107,4373.440010904107,4394.284285203641,4394.284285203641,4410.959704643268,4410.959704643268,4410.959704643268,4431.803978942802,4431.803978942802,4448.479398382429,4448.479398382429,4448.479398382429,4448.479398382429,4448.479398382429,4511.012221281029,4511.012221281029,4527.687640720656,4569.376189319724,4569.376189319724,4590.220463619258,4590.220463619258,4590.220463619258,4590.220463619258,4611.064737918791,4611.064737918791,4611.064737918791,4631.909012218325,4631.909012218325,4631.909012218325,4656.922141377765,4656.922141377765,4698.610689976833,4698.610689976833,4744.4680934358075,4744.4680934358075,4744.4680934358075,4765.312367735341,4765.312367735341,4765.312367735341,4765.312367735341,4832.014045493848,4832.014045493848,4882.04030381273,4882.04030381273,4882.04030381273,4882.04030381273,4882.04030381273,4902.884578112264,4927.897707271703,4927.897707271703,4977.923965590584,4977.923965590584,4977.923965590584,4977.923965590584,5002.937094750025,5002.937094750025,5027.950223909465,5077.976482228346,5132.171595407133,5132.171595407133,5157.184724566574,5182.197853726015,5265.574950924149,5294.756934943496,5319.770064102937,5348.952048122284,5348.952048122284,5407.316016160978,5436.498000180325,5465.679984199673,5465.679984199673,5615.758759156315,5649.109598035569,5778.344098692678,5840.876921591279,5945.098293088948,5978.449131968201,6011.799970847455,6345.308359639994,6462.036295717383,6499.555989456543,6582.933086654678,6620.452780393838],\"yaxis\":\"y\",\"type\":\"scatter\"}],                        {\"template\":{\"data\":{\"histogram2dcontour\":[{\"type\":\"histogram2dcontour\",\"colorbar\":{\"outlinewidth\":0,\"ticks\":\"\"},\"colorscale\":[[0.0,\"#0d0887\"],[0.1111111111111111,\"#46039f\"],[0.2222222222222222,\"#7201a8\"],[0.3333333333333333,\"#9c179e\"],[0.4444444444444444,\"#bd3786\"],[0.5555555555555556,\"#d8576b\"],[0.6666666666666666,\"#ed7953\"],[0.7777777777777778,\"#fb9f3a\"],[0.8888888888888888,\"#fdca26\"],[1.0,\"#f0f921\"]]}],\"choropleth\":[{\"type\":\"choropleth\",\"colorbar\":{\"outlinewidth\":0,\"ticks\":\"\"}}],\"histogram2d\":[{\"type\":\"histogram2d\",\"colorbar\":{\"outlinewidth\":0,\"ticks\":\"\"},\"colorscale\":[[0.0,\"#0d0887\"],[0.1111111111111111,\"#46039f\"],[0.2222222222222222,\"#7201a8\"],[0.3333333333333333,\"#9c179e\"],[0.4444444444444444,\"#bd3786\"],[0.5555555555555556,\"#d8576b\"],[0.6666666666666666,\"#ed7953\"],[0.7777777777777778,\"#fb9f3a\"],[0.8888888888888888,\"#fdca26\"],[1.0,\"#f0f921\"]]}],\"heatmap\":[{\"type\":\"heatmap\",\"colorbar\":{\"outlinewidth\":0,\"ticks\":\"\"},\"colorscale\":[[0.0,\"#0d0887\"],[0.1111111111111111,\"#46039f\"],[0.2222222222222222,\"#7201a8\"],[0.3333333333333333,\"#9c179e\"],[0.4444444444444444,\"#bd3786\"],[0.5555555555555556,\"#d8576b\"],[0.6666666666666666,\"#ed7953\"],[0.7777777777777778,\"#fb9f3a\"],[0.8888888888888888,\"#fdca26\"],[1.0,\"#f0f921\"]]}],\"heatmapgl\":[{\"type\":\"heatmapgl\",\"colorbar\":{\"outlinewidth\":0,\"ticks\":\"\"},\"colorscale\":[[0.0,\"#0d0887\"],[0.1111111111111111,\"#46039f\"],[0.2222222222222222,\"#7201a8\"],[0.3333333333333333,\"#9c179e\"],[0.4444444444444444,\"#bd3786\"],[0.5555555555555556,\"#d8576b\"],[0.6666666666666666,\"#ed7953\"],[0.7777777777777778,\"#fb9f3a\"],[0.8888888888888888,\"#fdca26\"],[1.0,\"#f0f921\"]]}],\"contourcarpet\":[{\"type\":\"contourcarpet\",\"colorbar\":{\"outlinewidth\":0,\"ticks\":\"\"}}],\"contour\":[{\"type\":\"contour\",\"colorbar\":{\"outlinewidth\":0,\"ticks\":\"\"},\"colorscale\":[[0.0,\"#0d0887\"],[0.1111111111111111,\"#46039f\"],[0.2222222222222222,\"#7201a8\"],[0.3333333333333333,\"#9c179e\"],[0.4444444444444444,\"#bd3786\"],[0.5555555555555556,\"#d8576b\"],[0.6666666666666666,\"#ed7953\"],[0.7777777777777778,\"#fb9f3a\"],[0.8888888888888888,\"#fdca26\"],[1.0,\"#f0f921\"]]}],\"surface\":[{\"type\":\"surface\",\"colorbar\":{\"outlinewidth\":0,\"ticks\":\"\"},\"colorscale\":[[0.0,\"#0d0887\"],[0.1111111111111111,\"#46039f\"],[0.2222222222222222,\"#7201a8\"],[0.3333333333333333,\"#9c179e\"],[0.4444444444444444,\"#bd3786\"],[0.5555555555555556,\"#d8576b\"],[0.6666666666666666,\"#ed7953\"],[0.7777777777777778,\"#fb9f3a\"],[0.8888888888888888,\"#fdca26\"],[1.0,\"#f0f921\"]]}],\"mesh3d\":[{\"type\":\"mesh3d\",\"colorbar\":{\"outlinewidth\":0,\"ticks\":\"\"}}],\"scatter\":[{\"fillpattern\":{\"fillmode\":\"overlay\",\"size\":10,\"solidity\":0.2},\"type\":\"scatter\"}],\"parcoords\":[{\"type\":\"parcoords\",\"line\":{\"colorbar\":{\"outlinewidth\":0,\"ticks\":\"\"}}}],\"scatterpolargl\":[{\"type\":\"scatterpolargl\",\"marker\":{\"colorbar\":{\"outlinewidth\":0,\"ticks\":\"\"}}}],\"bar\":[{\"error_x\":{\"color\":\"#2a3f5f\"},\"error_y\":{\"color\":\"#2a3f5f\"},\"marker\":{\"line\":{\"color\":\"#E5ECF6\",\"width\":0.5},\"pattern\":{\"fillmode\":\"overlay\",\"size\":10,\"solidity\":0.2}},\"type\":\"bar\"}],\"scattergeo\":[{\"type\":\"scattergeo\",\"marker\":{\"colorbar\":{\"outlinewidth\":0,\"ticks\":\"\"}}}],\"scatterpolar\":[{\"type\":\"scatterpolar\",\"marker\":{\"colorbar\":{\"outlinewidth\":0,\"ticks\":\"\"}}}],\"histogram\":[{\"marker\":{\"pattern\":{\"fillmode\":\"overlay\",\"size\":10,\"solidity\":0.2}},\"type\":\"histogram\"}],\"scattergl\":[{\"type\":\"scattergl\",\"marker\":{\"colorbar\":{\"outlinewidth\":0,\"ticks\":\"\"}}}],\"scatter3d\":[{\"type\":\"scatter3d\",\"line\":{\"colorbar\":{\"outlinewidth\":0,\"ticks\":\"\"}},\"marker\":{\"colorbar\":{\"outlinewidth\":0,\"ticks\":\"\"}}}],\"scattermapbox\":[{\"type\":\"scattermapbox\",\"marker\":{\"colorbar\":{\"outlinewidth\":0,\"ticks\":\"\"}}}],\"scatterternary\":[{\"type\":\"scatterternary\",\"marker\":{\"colorbar\":{\"outlinewidth\":0,\"ticks\":\"\"}}}],\"scattercarpet\":[{\"type\":\"scattercarpet\",\"marker\":{\"colorbar\":{\"outlinewidth\":0,\"ticks\":\"\"}}}],\"carpet\":[{\"aaxis\":{\"endlinecolor\":\"#2a3f5f\",\"gridcolor\":\"white\",\"linecolor\":\"white\",\"minorgridcolor\":\"white\",\"startlinecolor\":\"#2a3f5f\"},\"baxis\":{\"endlinecolor\":\"#2a3f5f\",\"gridcolor\":\"white\",\"linecolor\":\"white\",\"minorgridcolor\":\"white\",\"startlinecolor\":\"#2a3f5f\"},\"type\":\"carpet\"}],\"table\":[{\"cells\":{\"fill\":{\"color\":\"#EBF0F8\"},\"line\":{\"color\":\"white\"}},\"header\":{\"fill\":{\"color\":\"#C8D4E3\"},\"line\":{\"color\":\"white\"}},\"type\":\"table\"}],\"barpolar\":[{\"marker\":{\"line\":{\"color\":\"#E5ECF6\",\"width\":0.5},\"pattern\":{\"fillmode\":\"overlay\",\"size\":10,\"solidity\":0.2}},\"type\":\"barpolar\"}],\"pie\":[{\"automargin\":true,\"type\":\"pie\"}]},\"layout\":{\"autotypenumbers\":\"strict\",\"colorway\":[\"#636efa\",\"#EF553B\",\"#00cc96\",\"#ab63fa\",\"#FFA15A\",\"#19d3f3\",\"#FF6692\",\"#B6E880\",\"#FF97FF\",\"#FECB52\"],\"font\":{\"color\":\"#2a3f5f\"},\"hovermode\":\"closest\",\"hoverlabel\":{\"align\":\"left\"},\"paper_bgcolor\":\"white\",\"plot_bgcolor\":\"#E5ECF6\",\"polar\":{\"bgcolor\":\"#E5ECF6\",\"angularaxis\":{\"gridcolor\":\"white\",\"linecolor\":\"white\",\"ticks\":\"\"},\"radialaxis\":{\"gridcolor\":\"white\",\"linecolor\":\"white\",\"ticks\":\"\"}},\"ternary\":{\"bgcolor\":\"#E5ECF6\",\"aaxis\":{\"gridcolor\":\"white\",\"linecolor\":\"white\",\"ticks\":\"\"},\"baxis\":{\"gridcolor\":\"white\",\"linecolor\":\"white\",\"ticks\":\"\"},\"caxis\":{\"gridcolor\":\"white\",\"linecolor\":\"white\",\"ticks\":\"\"}},\"coloraxis\":{\"colorbar\":{\"outlinewidth\":0,\"ticks\":\"\"}},\"colorscale\":{\"sequential\":[[0.0,\"#0d0887\"],[0.1111111111111111,\"#46039f\"],[0.2222222222222222,\"#7201a8\"],[0.3333333333333333,\"#9c179e\"],[0.4444444444444444,\"#bd3786\"],[0.5555555555555556,\"#d8576b\"],[0.6666666666666666,\"#ed7953\"],[0.7777777777777778,\"#fb9f3a\"],[0.8888888888888888,\"#fdca26\"],[1.0,\"#f0f921\"]],\"sequentialminus\":[[0.0,\"#0d0887\"],[0.1111111111111111,\"#46039f\"],[0.2222222222222222,\"#7201a8\"],[0.3333333333333333,\"#9c179e\"],[0.4444444444444444,\"#bd3786\"],[0.5555555555555556,\"#d8576b\"],[0.6666666666666666,\"#ed7953\"],[0.7777777777777778,\"#fb9f3a\"],[0.8888888888888888,\"#fdca26\"],[1.0,\"#f0f921\"]],\"diverging\":[[0,\"#8e0152\"],[0.1,\"#c51b7d\"],[0.2,\"#de77ae\"],[0.3,\"#f1b6da\"],[0.4,\"#fde0ef\"],[0.5,\"#f7f7f7\"],[0.6,\"#e6f5d0\"],[0.7,\"#b8e186\"],[0.8,\"#7fbc41\"],[0.9,\"#4d9221\"],[1,\"#276419\"]]},\"xaxis\":{\"gridcolor\":\"white\",\"linecolor\":\"white\",\"ticks\":\"\",\"title\":{\"standoff\":15},\"zerolinecolor\":\"white\",\"automargin\":true,\"zerolinewidth\":2},\"yaxis\":{\"gridcolor\":\"white\",\"linecolor\":\"white\",\"ticks\":\"\",\"title\":{\"standoff\":15},\"zerolinecolor\":\"white\",\"automargin\":true,\"zerolinewidth\":2},\"scene\":{\"xaxis\":{\"backgroundcolor\":\"#E5ECF6\",\"gridcolor\":\"white\",\"linecolor\":\"white\",\"showbackground\":true,\"ticks\":\"\",\"zerolinecolor\":\"white\",\"gridwidth\":2},\"yaxis\":{\"backgroundcolor\":\"#E5ECF6\",\"gridcolor\":\"white\",\"linecolor\":\"white\",\"showbackground\":true,\"ticks\":\"\",\"zerolinecolor\":\"white\",\"gridwidth\":2},\"zaxis\":{\"backgroundcolor\":\"#E5ECF6\",\"gridcolor\":\"white\",\"linecolor\":\"white\",\"showbackground\":true,\"ticks\":\"\",\"zerolinecolor\":\"white\",\"gridwidth\":2}},\"shapedefaults\":{\"line\":{\"color\":\"#2a3f5f\"}},\"annotationdefaults\":{\"arrowcolor\":\"#2a3f5f\",\"arrowhead\":0,\"arrowwidth\":1},\"geo\":{\"bgcolor\":\"white\",\"landcolor\":\"#E5ECF6\",\"subunitcolor\":\"white\",\"showland\":true,\"showlakes\":true,\"lakecolor\":\"white\"},\"title\":{\"x\":0.05},\"mapbox\":{\"style\":\"light\"}}},\"xaxis\":{\"anchor\":\"y\",\"domain\":[0.0,1.0],\"title\":{\"text\":\"Perm\"}},\"yaxis\":{\"anchor\":\"x\",\"domain\":[0.0,1.0],\"title\":{\"text\":\"Prod\"}},\"legend\":{\"tracegroupgap\":0},\"title\":{\"text\":\"Зависимость добычи газа (Prod) от Perm\"}},                        {\"responsive\": true}                    ).then(function(){\n",
              "                            \n",
              "var gd = document.getElementById('88b034ae-81b8-4f78-8e51-ec46d89b4b01');\n",
              "var x = new MutationObserver(function (mutations, observer) {{\n",
              "        var display = window.getComputedStyle(gd).display;\n",
              "        if (!display || display === 'none') {{\n",
              "            console.log([gd, 'removed!']);\n",
              "            Plotly.purge(gd);\n",
              "            observer.disconnect();\n",
              "        }}\n",
              "}});\n",
              "\n",
              "// Listen for the removal of the full notebook cells\n",
              "var notebookContainer = gd.closest('#notebook-container');\n",
              "if (notebookContainer) {{\n",
              "    x.observe(notebookContainer, {childList: true});\n",
              "}}\n",
              "\n",
              "// Listen for the clearing of the current output cell\n",
              "var outputEl = gd.closest('.output');\n",
              "if (outputEl) {{\n",
              "    x.observe(outputEl, {childList: true});\n",
              "}}\n",
              "\n",
              "                        })                };                            </script>        </div>\n",
              "</body>\n",
              "</html>"
            ]
          },
          "metadata": {}
        },
        {
          "output_type": "display_data",
          "data": {
            "text/html": [
              "<html>\n",
              "<head><meta charset=\"utf-8\" /></head>\n",
              "<body>\n",
              "    <div>            <script src=\"https://cdnjs.cloudflare.com/ajax/libs/mathjax/2.7.5/MathJax.js?config=TeX-AMS-MML_SVG\"></script><script type=\"text/javascript\">if (window.MathJax && window.MathJax.Hub && window.MathJax.Hub.Config) {window.MathJax.Hub.Config({SVG: {font: \"STIX-Web\"}});}</script>                <script type=\"text/javascript\">window.PlotlyConfig = {MathJaxConfig: 'local'};</script>\n",
              "        <script charset=\"utf-8\" src=\"https://cdn.plot.ly/plotly-2.35.2.min.js\"></script>                <div id=\"8148d357-211c-42a1-9342-74197fc47340\" class=\"plotly-graph-div\" style=\"height:525px; width:100%;\"></div>            <script type=\"text/javascript\">                                    window.PLOTLYENV=window.PLOTLYENV || {};                                    if (document.getElementById(\"8148d357-211c-42a1-9342-74197fc47340\")) {                    Plotly.newPlot(                        \"8148d357-211c-42a1-9342-74197fc47340\",                        [{\"hovertemplate\":\"AI=%{x}\\u003cbr\\u003eProd=%{y}\\u003cextra\\u003e\\u003c\\u002fextra\\u003e\",\"legendgroup\":\"\",\"marker\":{\"color\":\"#636efa\",\"symbol\":\"circle\"},\"mode\":\"markers\",\"name\":\"\",\"orientation\":\"v\",\"showlegend\":false,\"x\":[2.8,3.22,4.01,2.63,3.18,2.69,2.93,3.25,2.43,3.71,2.22,2.29,2.8,2.55,2.51,3.43,3.08,2.53,3.03,3.54,2.38,2.41,2.38,3.29,1.39,3.41,2.55,3.74,4.09,2.9,2.85,2.45,3.43,2.95,4.18,3.17,3.59,2.28,3.52,2.04,2.98,2.86,4.26,3.16,2.56,2.39,2.82,3.26,2.91,3.27,2.57,2.45,2.76,4.63,2.12,2.75,2.89,3.11,2.16,3.1,3.1,2.25,3.34,3.04,2.72,4.1,2.69,3.15,3.43,3.59,3.49,2.92,3.63,2.31,2.96,2.88,2.26,3.77,2.31,2.47,2.87,3.04,3.39,3.51,2.97,3.25,3.81,3.3,3.09,3.94,3.41,2.54,2.5,3.49,2.82,2.87,2.3,2.63,2.27,2.64,2.34,3.04,3.69,2.65,1.86,3.29,2.93,2.35,2.53,3.11,2.69,3.97,2.85,2.77,3.23,2.45,4.09,3.2,3.02,3.2,3.01,2.63,2.69,3.46,1.28,2.64,2.62,2.74,3.25,2.79,2.11,2.3,3.33,3.57,3.67,3.07,3.47,2.39,2.8,3.2,1.45,2.85,2.6,3.21,2.81,3.44,3.29,3.16,3.04,3.02,3.36,3.11,2.5,2.45,2.8,2.38,2.3,2.63,2.45,3.34,2.77,1.71,2.5,2.18,2.94,1.83,3.2,3.15,2.17,4.01,3.83,3.44,3.67,2.88,2.51,3.01,3.0,3.64,2.82,3.6,3.41,3.56,3.64,3.23,2.89,3.77,2.29,4.09,3.16,2.42,3.45,4.13,2.37,3.68,2.88,2.97,3.38,3.52,2.48,3.23],\"xaxis\":\"x\",\"y\":[4165.196191,3561.146205,4284.348574,5098.680869,3406.132832,4395.763259,4104.400989,3496.742701,4025.851153,4285.026122,4691.546305,5128.20297,5113.940775,5546.431951,4323.568513,3539.984263,5425.900608,3796.037029,4534.585915,3803.411386,5778.851488,4771.307836,2486.075498,2515.440716,6046.257538,2351.289487,4971.979256,3999.613909,2760.485982,3825.661812,5859.748328,3775.981178,3907.28923,4118.233273,3621.261108,2718.652945,3608.47473,5249.625543,4239.53187,4471.241364,4363.202854,4495.004769,3098.436639,2677.297348,5779.876876,3210.90138,2967.240201,2415.825125,5563.040771,5337.145786,5670.537767,5899.353594,4601.071319,3741.129167,5605.978153,4079.994302,3146.528143,3691.832452,3542.532883,3969.558019,5851.024387,3733.769597,5620.911404,4319.662079,5620.445827,4431.905847,3376.2837,3999.97933,4336.465709,3767.10242,3180.611366,4320.554389,4220.557084,4087.529805,5321.469922,6053.071368,5446.810082,3190.699612,4276.410007,5518.256409,4555.146788,4489.29306,4319.787412,4113.145433,2734.773959,4142.406714,4208.174933,4519.923344,3364.213781,3562.635128,3806.229207,2119.315516,4877.71473,3591.891958,4700.224408,5350.949293,5278.785405,6455.048131,3671.944944,4948.929165,4464.894985,4003.874956,3376.059883,3856.991967,4689.43224,4748.315024,3890.428004,4733.965648,6480.140811,4751.960471,4429.601197,3695.605482,5334.209437,6171.948872,5188.165252,5429.61122,4190.949492,4321.08436,3278.519165,5568.129512,4761.541276,3096.041435,5984.91987,3987.451637,5107.668954,4590.775041,4394.908724,4801.169597,4118.586934,3762.933398,4583.194189,5257.439724,3258.271193,4896.3969,2508.507049,3655.497757,4300.222781,4566.400754,2107.139414,3989.012964,5903.37822,4260.004869,5996.900444,3196.99447,4476.367366,4605.799987,4180.788056,5400.374809,3950.292582,3418.470532,2705.868622,3219.49199,5607.51549,5083.318118,3341.157722,3867.438514,5629.970179,4859.067707,4092.730535,5898.169102,5085.588965,4470.882859,3923.997348,3458.846102,4013.751035,5175.59912,6395.708841,3182.815944,4862.060183,2940.975811,2791.133133,5449.314018,3031.432666,3460.397749,4158.294202,4441.251847,3333.963492,2819.977847,5880.785643,2362.269336,4290.072266,4144.2208,3141.540928,5692.716924,4319.373276,4807.05583,3899.879873,3413.73739,4385.713419,4291.702607,3407.341602,2187.774422,5899.275409,3855.930544,5489.491177,3847.571003,5601.227131,3409.575363,5087.592149,6662.622385],\"yaxis\":\"y\",\"type\":\"scatter\"},{\"hovertemplate\":\"\\u003cb\\u003eOLS trendline\\u003c\\u002fb\\u003e\\u003cbr\\u003eProd = -683.953 * AI + 6341.77\\u003cbr\\u003eR\\u003csup\\u003e2\\u003c\\u002fsup\\u003e=0.152752\\u003cbr\\u003e\\u003cbr\\u003eAI=%{x}\\u003cbr\\u003eProd=%{y} \\u003cb\\u003e(trend)\\u003c\\u002fb\\u003e\\u003cextra\\u003e\\u003c\\u002fextra\\u003e\",\"legendgroup\":\"\",\"marker\":{\"color\":\"#636efa\",\"symbol\":\"circle\"},\"mode\":\"lines\",\"name\":\"\",\"showlegend\":false,\"x\":[1.28,1.39,1.45,1.71,1.83,1.86,2.04,2.11,2.12,2.16,2.17,2.18,2.22,2.25,2.26,2.27,2.28,2.29,2.29,2.3,2.3,2.3,2.31,2.31,2.34,2.35,2.37,2.38,2.38,2.38,2.39,2.39,2.41,2.42,2.43,2.45,2.45,2.45,2.45,2.45,2.47,2.48,2.5,2.5,2.5,2.51,2.51,2.53,2.53,2.54,2.55,2.55,2.56,2.57,2.6,2.62,2.63,2.63,2.63,2.63,2.64,2.64,2.65,2.69,2.69,2.69,2.69,2.72,2.74,2.75,2.76,2.77,2.77,2.79,2.8,2.8,2.8,2.8,2.81,2.82,2.82,2.82,2.85,2.85,2.85,2.86,2.87,2.87,2.88,2.88,2.88,2.89,2.89,2.9,2.91,2.92,2.93,2.93,2.94,2.95,2.96,2.97,2.97,2.98,3.0,3.01,3.01,3.02,3.02,3.03,3.04,3.04,3.04,3.04,3.07,3.08,3.09,3.1,3.1,3.11,3.11,3.11,3.15,3.15,3.16,3.16,3.16,3.17,3.18,3.2,3.2,3.2,3.2,3.21,3.22,3.23,3.23,3.23,3.25,3.25,3.25,3.26,3.27,3.29,3.29,3.29,3.3,3.33,3.34,3.34,3.36,3.38,3.39,3.41,3.41,3.41,3.43,3.43,3.43,3.44,3.44,3.45,3.46,3.47,3.49,3.49,3.51,3.52,3.52,3.54,3.56,3.57,3.59,3.59,3.6,3.63,3.64,3.64,3.67,3.67,3.68,3.69,3.71,3.74,3.77,3.77,3.81,3.83,3.94,3.97,4.01,4.01,4.09,4.09,4.09,4.1,4.13,4.18,4.26,4.63],\"xaxis\":\"x\",\"y\":[5466.314421740131,5391.079556205469,5350.042356822926,5172.214492831907,5090.140094066821,5069.621494375549,4946.509896227921,4898.633163614954,4891.793630384531,4864.435497462835,4857.5959642324115,4850.756431001988,4823.398298080292,4802.879698389021,4796.040165158597,4789.200631928174,4782.361098697749,4775.521565467326,4775.521565467326,4768.682032236902,4768.682032236902,4768.682032236902,4761.842499006478,4761.842499006478,4741.323899315206,4734.484366084783,4720.805299623935,4713.965766393511,4713.965766393511,4713.965766393511,4707.126233163088,4707.126233163088,4693.44716670224,4686.607633471816,4679.768100241392,4666.089033780545,4666.089033780545,4666.089033780545,4666.089033780545,4666.089033780545,4652.409967319697,4645.5704340892735,4631.8913676284255,4631.8913676284255,4631.8913676284255,4625.051834398002,4625.051834398002,4611.372767937154,4611.372767937154,4604.533234706731,4597.693701476307,4597.693701476307,4590.854168245883,4584.014635015459,4563.496035324188,4549.81696886334,4542.977435632916,4542.977435632916,4542.977435632916,4542.977435632916,4536.137902402492,4536.137902402492,4529.298369172068,4501.940236250373,4501.940236250373,4501.940236250373,4501.940236250373,4481.421636559102,4467.742570098254,4460.90303686783,4454.063503637407,4447.2239704069825,4447.2239704069825,4433.544903946135,4426.705370715712,4426.705370715712,4426.705370715712,4426.705370715712,4419.865837485288,4413.026304254864,4413.026304254864,4413.026304254864,4392.507704563592,4392.507704563592,4392.507704563592,4385.668171333168,4378.828638102745,4378.828638102745,4371.989104872321,4371.989104872321,4371.989104872321,4365.149571641897,4365.149571641897,4358.310038411473,4351.470505181049,4344.630971950625,4337.791438720202,4337.791438720202,4330.951905489778,4324.112372259354,4317.27283902893,4310.433305798506,4310.433305798506,4303.593772568082,4289.914706107234,4283.075172876812,4283.075172876812,4276.235639646387,4276.235639646387,4269.396106415964,4262.55657318554,4262.55657318554,4262.55657318554,4262.55657318554,4242.037973494269,4235.1984402638445,4228.358907033421,4221.519373802997,4221.519373802997,4214.679840572573,4214.679840572573,4214.679840572573,4187.321707650877,4187.321707650877,4180.482174420454,4180.482174420454,4180.482174420454,4173.64264119003,4166.803107959606,4153.124041498759,4153.124041498759,4153.124041498759,4153.124041498759,4146.284508268334,4139.444975037911,4132.605441807487,4132.605441807487,4132.605441807487,4118.92637534664,4118.92637534664,4118.92637534664,4112.086842116216,4105.247308885791,4091.5682424249444,4091.5682424249444,4091.5682424249444,4084.728709194521,4064.210109503249,4057.3705762728255,4057.3705762728255,4043.691509811978,4030.01244335113,4023.172910120706,4009.4938436598586,4009.4938436598586,4009.4938436598586,3995.814777199011,3995.814777199011,3995.814777199011,3988.975243968587,3988.975243968587,3982.135710738163,3975.2961775077397,3968.4566442773157,3954.777577816468,3954.777577816468,3941.0985113556208,3934.258978125197,3934.258978125197,3920.579911664349,3906.9008452035014,3900.061311973078,3886.38224551223,3886.38224551223,3879.542712281806,3859.024112590535,3852.184579360111,3852.184579360111,3831.6659796688396,3831.6659796688396,3824.8264464384156,3817.986913207992,3804.307846747144,3783.7892470558727,3763.2706473646012,3763.2706473646012,3735.9125144429063,3722.2334479820584,3646.9985824473965,3626.479982756125,3599.12184983443,3599.12184983443,3544.4055839910393,3544.4055839910393,3544.4055839910393,3537.566050760616,3517.0474510693443,3482.8497849172254,3428.1335190738346,3175.0707895481532],\"yaxis\":\"y\",\"type\":\"scatter\"}],                        {\"template\":{\"data\":{\"histogram2dcontour\":[{\"type\":\"histogram2dcontour\",\"colorbar\":{\"outlinewidth\":0,\"ticks\":\"\"},\"colorscale\":[[0.0,\"#0d0887\"],[0.1111111111111111,\"#46039f\"],[0.2222222222222222,\"#7201a8\"],[0.3333333333333333,\"#9c179e\"],[0.4444444444444444,\"#bd3786\"],[0.5555555555555556,\"#d8576b\"],[0.6666666666666666,\"#ed7953\"],[0.7777777777777778,\"#fb9f3a\"],[0.8888888888888888,\"#fdca26\"],[1.0,\"#f0f921\"]]}],\"choropleth\":[{\"type\":\"choropleth\",\"colorbar\":{\"outlinewidth\":0,\"ticks\":\"\"}}],\"histogram2d\":[{\"type\":\"histogram2d\",\"colorbar\":{\"outlinewidth\":0,\"ticks\":\"\"},\"colorscale\":[[0.0,\"#0d0887\"],[0.1111111111111111,\"#46039f\"],[0.2222222222222222,\"#7201a8\"],[0.3333333333333333,\"#9c179e\"],[0.4444444444444444,\"#bd3786\"],[0.5555555555555556,\"#d8576b\"],[0.6666666666666666,\"#ed7953\"],[0.7777777777777778,\"#fb9f3a\"],[0.8888888888888888,\"#fdca26\"],[1.0,\"#f0f921\"]]}],\"heatmap\":[{\"type\":\"heatmap\",\"colorbar\":{\"outlinewidth\":0,\"ticks\":\"\"},\"colorscale\":[[0.0,\"#0d0887\"],[0.1111111111111111,\"#46039f\"],[0.2222222222222222,\"#7201a8\"],[0.3333333333333333,\"#9c179e\"],[0.4444444444444444,\"#bd3786\"],[0.5555555555555556,\"#d8576b\"],[0.6666666666666666,\"#ed7953\"],[0.7777777777777778,\"#fb9f3a\"],[0.8888888888888888,\"#fdca26\"],[1.0,\"#f0f921\"]]}],\"heatmapgl\":[{\"type\":\"heatmapgl\",\"colorbar\":{\"outlinewidth\":0,\"ticks\":\"\"},\"colorscale\":[[0.0,\"#0d0887\"],[0.1111111111111111,\"#46039f\"],[0.2222222222222222,\"#7201a8\"],[0.3333333333333333,\"#9c179e\"],[0.4444444444444444,\"#bd3786\"],[0.5555555555555556,\"#d8576b\"],[0.6666666666666666,\"#ed7953\"],[0.7777777777777778,\"#fb9f3a\"],[0.8888888888888888,\"#fdca26\"],[1.0,\"#f0f921\"]]}],\"contourcarpet\":[{\"type\":\"contourcarpet\",\"colorbar\":{\"outlinewidth\":0,\"ticks\":\"\"}}],\"contour\":[{\"type\":\"contour\",\"colorbar\":{\"outlinewidth\":0,\"ticks\":\"\"},\"colorscale\":[[0.0,\"#0d0887\"],[0.1111111111111111,\"#46039f\"],[0.2222222222222222,\"#7201a8\"],[0.3333333333333333,\"#9c179e\"],[0.4444444444444444,\"#bd3786\"],[0.5555555555555556,\"#d8576b\"],[0.6666666666666666,\"#ed7953\"],[0.7777777777777778,\"#fb9f3a\"],[0.8888888888888888,\"#fdca26\"],[1.0,\"#f0f921\"]]}],\"surface\":[{\"type\":\"surface\",\"colorbar\":{\"outlinewidth\":0,\"ticks\":\"\"},\"colorscale\":[[0.0,\"#0d0887\"],[0.1111111111111111,\"#46039f\"],[0.2222222222222222,\"#7201a8\"],[0.3333333333333333,\"#9c179e\"],[0.4444444444444444,\"#bd3786\"],[0.5555555555555556,\"#d8576b\"],[0.6666666666666666,\"#ed7953\"],[0.7777777777777778,\"#fb9f3a\"],[0.8888888888888888,\"#fdca26\"],[1.0,\"#f0f921\"]]}],\"mesh3d\":[{\"type\":\"mesh3d\",\"colorbar\":{\"outlinewidth\":0,\"ticks\":\"\"}}],\"scatter\":[{\"fillpattern\":{\"fillmode\":\"overlay\",\"size\":10,\"solidity\":0.2},\"type\":\"scatter\"}],\"parcoords\":[{\"type\":\"parcoords\",\"line\":{\"colorbar\":{\"outlinewidth\":0,\"ticks\":\"\"}}}],\"scatterpolargl\":[{\"type\":\"scatterpolargl\",\"marker\":{\"colorbar\":{\"outlinewidth\":0,\"ticks\":\"\"}}}],\"bar\":[{\"error_x\":{\"color\":\"#2a3f5f\"},\"error_y\":{\"color\":\"#2a3f5f\"},\"marker\":{\"line\":{\"color\":\"#E5ECF6\",\"width\":0.5},\"pattern\":{\"fillmode\":\"overlay\",\"size\":10,\"solidity\":0.2}},\"type\":\"bar\"}],\"scattergeo\":[{\"type\":\"scattergeo\",\"marker\":{\"colorbar\":{\"outlinewidth\":0,\"ticks\":\"\"}}}],\"scatterpolar\":[{\"type\":\"scatterpolar\",\"marker\":{\"colorbar\":{\"outlinewidth\":0,\"ticks\":\"\"}}}],\"histogram\":[{\"marker\":{\"pattern\":{\"fillmode\":\"overlay\",\"size\":10,\"solidity\":0.2}},\"type\":\"histogram\"}],\"scattergl\":[{\"type\":\"scattergl\",\"marker\":{\"colorbar\":{\"outlinewidth\":0,\"ticks\":\"\"}}}],\"scatter3d\":[{\"type\":\"scatter3d\",\"line\":{\"colorbar\":{\"outlinewidth\":0,\"ticks\":\"\"}},\"marker\":{\"colorbar\":{\"outlinewidth\":0,\"ticks\":\"\"}}}],\"scattermapbox\":[{\"type\":\"scattermapbox\",\"marker\":{\"colorbar\":{\"outlinewidth\":0,\"ticks\":\"\"}}}],\"scatterternary\":[{\"type\":\"scatterternary\",\"marker\":{\"colorbar\":{\"outlinewidth\":0,\"ticks\":\"\"}}}],\"scattercarpet\":[{\"type\":\"scattercarpet\",\"marker\":{\"colorbar\":{\"outlinewidth\":0,\"ticks\":\"\"}}}],\"carpet\":[{\"aaxis\":{\"endlinecolor\":\"#2a3f5f\",\"gridcolor\":\"white\",\"linecolor\":\"white\",\"minorgridcolor\":\"white\",\"startlinecolor\":\"#2a3f5f\"},\"baxis\":{\"endlinecolor\":\"#2a3f5f\",\"gridcolor\":\"white\",\"linecolor\":\"white\",\"minorgridcolor\":\"white\",\"startlinecolor\":\"#2a3f5f\"},\"type\":\"carpet\"}],\"table\":[{\"cells\":{\"fill\":{\"color\":\"#EBF0F8\"},\"line\":{\"color\":\"white\"}},\"header\":{\"fill\":{\"color\":\"#C8D4E3\"},\"line\":{\"color\":\"white\"}},\"type\":\"table\"}],\"barpolar\":[{\"marker\":{\"line\":{\"color\":\"#E5ECF6\",\"width\":0.5},\"pattern\":{\"fillmode\":\"overlay\",\"size\":10,\"solidity\":0.2}},\"type\":\"barpolar\"}],\"pie\":[{\"automargin\":true,\"type\":\"pie\"}]},\"layout\":{\"autotypenumbers\":\"strict\",\"colorway\":[\"#636efa\",\"#EF553B\",\"#00cc96\",\"#ab63fa\",\"#FFA15A\",\"#19d3f3\",\"#FF6692\",\"#B6E880\",\"#FF97FF\",\"#FECB52\"],\"font\":{\"color\":\"#2a3f5f\"},\"hovermode\":\"closest\",\"hoverlabel\":{\"align\":\"left\"},\"paper_bgcolor\":\"white\",\"plot_bgcolor\":\"#E5ECF6\",\"polar\":{\"bgcolor\":\"#E5ECF6\",\"angularaxis\":{\"gridcolor\":\"white\",\"linecolor\":\"white\",\"ticks\":\"\"},\"radialaxis\":{\"gridcolor\":\"white\",\"linecolor\":\"white\",\"ticks\":\"\"}},\"ternary\":{\"bgcolor\":\"#E5ECF6\",\"aaxis\":{\"gridcolor\":\"white\",\"linecolor\":\"white\",\"ticks\":\"\"},\"baxis\":{\"gridcolor\":\"white\",\"linecolor\":\"white\",\"ticks\":\"\"},\"caxis\":{\"gridcolor\":\"white\",\"linecolor\":\"white\",\"ticks\":\"\"}},\"coloraxis\":{\"colorbar\":{\"outlinewidth\":0,\"ticks\":\"\"}},\"colorscale\":{\"sequential\":[[0.0,\"#0d0887\"],[0.1111111111111111,\"#46039f\"],[0.2222222222222222,\"#7201a8\"],[0.3333333333333333,\"#9c179e\"],[0.4444444444444444,\"#bd3786\"],[0.5555555555555556,\"#d8576b\"],[0.6666666666666666,\"#ed7953\"],[0.7777777777777778,\"#fb9f3a\"],[0.8888888888888888,\"#fdca26\"],[1.0,\"#f0f921\"]],\"sequentialminus\":[[0.0,\"#0d0887\"],[0.1111111111111111,\"#46039f\"],[0.2222222222222222,\"#7201a8\"],[0.3333333333333333,\"#9c179e\"],[0.4444444444444444,\"#bd3786\"],[0.5555555555555556,\"#d8576b\"],[0.6666666666666666,\"#ed7953\"],[0.7777777777777778,\"#fb9f3a\"],[0.8888888888888888,\"#fdca26\"],[1.0,\"#f0f921\"]],\"diverging\":[[0,\"#8e0152\"],[0.1,\"#c51b7d\"],[0.2,\"#de77ae\"],[0.3,\"#f1b6da\"],[0.4,\"#fde0ef\"],[0.5,\"#f7f7f7\"],[0.6,\"#e6f5d0\"],[0.7,\"#b8e186\"],[0.8,\"#7fbc41\"],[0.9,\"#4d9221\"],[1,\"#276419\"]]},\"xaxis\":{\"gridcolor\":\"white\",\"linecolor\":\"white\",\"ticks\":\"\",\"title\":{\"standoff\":15},\"zerolinecolor\":\"white\",\"automargin\":true,\"zerolinewidth\":2},\"yaxis\":{\"gridcolor\":\"white\",\"linecolor\":\"white\",\"ticks\":\"\",\"title\":{\"standoff\":15},\"zerolinecolor\":\"white\",\"automargin\":true,\"zerolinewidth\":2},\"scene\":{\"xaxis\":{\"backgroundcolor\":\"#E5ECF6\",\"gridcolor\":\"white\",\"linecolor\":\"white\",\"showbackground\":true,\"ticks\":\"\",\"zerolinecolor\":\"white\",\"gridwidth\":2},\"yaxis\":{\"backgroundcolor\":\"#E5ECF6\",\"gridcolor\":\"white\",\"linecolor\":\"white\",\"showbackground\":true,\"ticks\":\"\",\"zerolinecolor\":\"white\",\"gridwidth\":2},\"zaxis\":{\"backgroundcolor\":\"#E5ECF6\",\"gridcolor\":\"white\",\"linecolor\":\"white\",\"showbackground\":true,\"ticks\":\"\",\"zerolinecolor\":\"white\",\"gridwidth\":2}},\"shapedefaults\":{\"line\":{\"color\":\"#2a3f5f\"}},\"annotationdefaults\":{\"arrowcolor\":\"#2a3f5f\",\"arrowhead\":0,\"arrowwidth\":1},\"geo\":{\"bgcolor\":\"white\",\"landcolor\":\"#E5ECF6\",\"subunitcolor\":\"white\",\"showland\":true,\"showlakes\":true,\"lakecolor\":\"white\"},\"title\":{\"x\":0.05},\"mapbox\":{\"style\":\"light\"}}},\"xaxis\":{\"anchor\":\"y\",\"domain\":[0.0,1.0],\"title\":{\"text\":\"AI\"}},\"yaxis\":{\"anchor\":\"x\",\"domain\":[0.0,1.0],\"title\":{\"text\":\"Prod\"}},\"legend\":{\"tracegroupgap\":0},\"title\":{\"text\":\"Зависимость добычи газа (Prod) от AI\"}},                        {\"responsive\": true}                    ).then(function(){\n",
              "                            \n",
              "var gd = document.getElementById('8148d357-211c-42a1-9342-74197fc47340');\n",
              "var x = new MutationObserver(function (mutations, observer) {{\n",
              "        var display = window.getComputedStyle(gd).display;\n",
              "        if (!display || display === 'none') {{\n",
              "            console.log([gd, 'removed!']);\n",
              "            Plotly.purge(gd);\n",
              "            observer.disconnect();\n",
              "        }}\n",
              "}});\n",
              "\n",
              "// Listen for the removal of the full notebook cells\n",
              "var notebookContainer = gd.closest('#notebook-container');\n",
              "if (notebookContainer) {{\n",
              "    x.observe(notebookContainer, {childList: true});\n",
              "}}\n",
              "\n",
              "// Listen for the clearing of the current output cell\n",
              "var outputEl = gd.closest('.output');\n",
              "if (outputEl) {{\n",
              "    x.observe(outputEl, {childList: true});\n",
              "}}\n",
              "\n",
              "                        })                };                            </script>        </div>\n",
              "</body>\n",
              "</html>"
            ]
          },
          "metadata": {}
        },
        {
          "output_type": "display_data",
          "data": {
            "text/html": [
              "<html>\n",
              "<head><meta charset=\"utf-8\" /></head>\n",
              "<body>\n",
              "    <div>            <script src=\"https://cdnjs.cloudflare.com/ajax/libs/mathjax/2.7.5/MathJax.js?config=TeX-AMS-MML_SVG\"></script><script type=\"text/javascript\">if (window.MathJax && window.MathJax.Hub && window.MathJax.Hub.Config) {window.MathJax.Hub.Config({SVG: {font: \"STIX-Web\"}});}</script>                <script type=\"text/javascript\">window.PlotlyConfig = {MathJaxConfig: 'local'};</script>\n",
              "        <script charset=\"utf-8\" src=\"https://cdn.plot.ly/plotly-2.35.2.min.js\"></script>                <div id=\"c761a5da-ebd5-43a5-a9d0-800a8837d94a\" class=\"plotly-graph-div\" style=\"height:525px; width:100%;\"></div>            <script type=\"text/javascript\">                                    window.PLOTLYENV=window.PLOTLYENV || {};                                    if (document.getElementById(\"c761a5da-ebd5-43a5-a9d0-800a8837d94a\")) {                    Plotly.newPlot(                        \"c761a5da-ebd5-43a5-a9d0-800a8837d94a\",                        [{\"hovertemplate\":\"Brittle=%{x}\\u003cbr\\u003eProd=%{y}\\u003cextra\\u003e\\u003c\\u002fextra\\u003e\",\"legendgroup\":\"\",\"marker\":{\"color\":\"#636efa\",\"symbol\":\"circle\"},\"mode\":\"markers\",\"name\":\"\",\"orientation\":\"v\",\"showlegend\":false,\"x\":[81.4,46.17,72.8,39.81,10.94,53.6,63.71,53.0,65.77,66.2,61.11,49.1,66.65,56.43,66.22,58.03,35.49,29.43,67.42,48.82,53.56,46.78,15.68,37.74,53.35,54.56,52.64,31.9,31.4,51.24,46.89,36.86,56.93,52.16,61.21,27.12,42.96,63.39,42.24,66.27,47.62,46.29,61.89,29.62,44.22,26.33,63.86,24.76,49.2,45.48,44.74,33.84,55.2,60.31,41.55,55.04,28.69,32.37,26.77,64.54,57.18,34.65,51.06,39.39,59.32,44.54,28.7,46.08,48.8,58.03,63.79,59.3,44.93,31.41,59.16,53.39,48.84,52.31,67.51,57.53,54.85,41.4,56.7,69.53,40.51,58.3,37.13,63.31,58.97,36.68,40.24,42.24,23.78,84.33,70.68,49.41,61.43,49.91,47.38,64.49,68.76,52.23,61.09,18.63,34.13,55.99,55.3,38.08,40.57,57.97,75.73,63.24,44.53,45.44,37.4,42.26,66.21,42.63,40.67,49.61,63.24,33.48,46.4,52.36,14.24,60.5,35.5,51.49,60.51,20.12,50.65,44.57,62.94,35.74,17.2,26.63,51.29,62.93,40.24,32.82,58.05,40.83,56.29,42.36,65.32,36.22,42.13,60.43,56.59,21.47,28.87,54.54,43.35,65.82,18.98,50.41,57.84,52.55,57.86,56.09,59.83,28.46,26.22,53.54,25.17,60.13,55.53,29.87,29.28,44.03,28.94,57.33,47.06,38.29,35.09,62.59,22.54,35.35,58.56,63.09,46.86,47.44,55.19,74.07,28.67,57.85,34.78,55.09,38.03,35.84,31.57,56.69,37.76,71.4,51.45,67.18,44.32,57.07,58.25,46.17],\"xaxis\":\"x\",\"y\":[4165.196191,3561.146205,4284.348574,5098.680869,3406.132832,4395.763259,4104.400989,3496.742701,4025.851153,4285.026122,4691.546305,5128.20297,5113.940775,5546.431951,4323.568513,3539.984263,5425.900608,3796.037029,4534.585915,3803.411386,5778.851488,4771.307836,2486.075498,2515.440716,6046.257538,2351.289487,4971.979256,3999.613909,2760.485982,3825.661812,5859.748328,3775.981178,3907.28923,4118.233273,3621.261108,2718.652945,3608.47473,5249.625543,4239.53187,4471.241364,4363.202854,4495.004769,3098.436639,2677.297348,5779.876876,3210.90138,2967.240201,2415.825125,5563.040771,5337.145786,5670.537767,5899.353594,4601.071319,3741.129167,5605.978153,4079.994302,3146.528143,3691.832452,3542.532883,3969.558019,5851.024387,3733.769597,5620.911404,4319.662079,5620.445827,4431.905847,3376.2837,3999.97933,4336.465709,3767.10242,3180.611366,4320.554389,4220.557084,4087.529805,5321.469922,6053.071368,5446.810082,3190.699612,4276.410007,5518.256409,4555.146788,4489.29306,4319.787412,4113.145433,2734.773959,4142.406714,4208.174933,4519.923344,3364.213781,3562.635128,3806.229207,2119.315516,4877.71473,3591.891958,4700.224408,5350.949293,5278.785405,6455.048131,3671.944944,4948.929165,4464.894985,4003.874956,3376.059883,3856.991967,4689.43224,4748.315024,3890.428004,4733.965648,6480.140811,4751.960471,4429.601197,3695.605482,5334.209437,6171.948872,5188.165252,5429.61122,4190.949492,4321.08436,3278.519165,5568.129512,4761.541276,3096.041435,5984.91987,3987.451637,5107.668954,4590.775041,4394.908724,4801.169597,4118.586934,3762.933398,4583.194189,5257.439724,3258.271193,4896.3969,2508.507049,3655.497757,4300.222781,4566.400754,2107.139414,3989.012964,5903.37822,4260.004869,5996.900444,3196.99447,4476.367366,4605.799987,4180.788056,5400.374809,3950.292582,3418.470532,2705.868622,3219.49199,5607.51549,5083.318118,3341.157722,3867.438514,5629.970179,4859.067707,4092.730535,5898.169102,5085.588965,4470.882859,3923.997348,3458.846102,4013.751035,5175.59912,6395.708841,3182.815944,4862.060183,2940.975811,2791.133133,5449.314018,3031.432666,3460.397749,4158.294202,4441.251847,3333.963492,2819.977847,5880.785643,2362.269336,4290.072266,4144.2208,3141.540928,5692.716924,4319.373276,4807.05583,3899.879873,3413.73739,4385.713419,4291.702607,3407.341602,2187.774422,5899.275409,3855.930544,5489.491177,3847.571003,5601.227131,3409.575363,5087.592149,6662.622385],\"yaxis\":\"y\",\"type\":\"scatter\"},{\"hovertemplate\":\"\\u003cb\\u003eOLS trendline\\u003c\\u002fb\\u003e\\u003cbr\\u003eProd = 16.6508 * Brittle + 3509.28\\u003cbr\\u003eR\\u003csup\\u003e2\\u003c\\u002fsup\\u003e=0.056243\\u003cbr\\u003e\\u003cbr\\u003eBrittle=%{x}\\u003cbr\\u003eProd=%{y} \\u003cb\\u003e(trend)\\u003c\\u002fb\\u003e\\u003cextra\\u003e\\u003c\\u002fextra\\u003e\",\"legendgroup\":\"\",\"marker\":{\"color\":\"#636efa\",\"symbol\":\"circle\"},\"mode\":\"lines\",\"name\":\"\",\"showlegend\":false,\"x\":[10.94,14.24,15.68,17.2,18.63,18.98,20.12,21.47,22.54,23.78,24.76,25.17,26.22,26.33,26.63,26.77,27.12,28.46,28.67,28.69,28.7,28.87,28.94,29.28,29.43,29.62,29.87,31.4,31.41,31.57,31.9,32.37,32.82,33.48,33.84,34.13,34.65,34.78,35.09,35.35,35.49,35.5,35.74,35.84,36.22,36.68,36.86,37.13,37.4,37.74,37.76,38.03,38.08,38.29,39.39,39.81,40.24,40.24,40.51,40.57,40.67,40.83,41.4,41.55,42.13,42.24,42.24,42.26,42.36,42.63,42.96,43.35,44.03,44.22,44.32,44.53,44.54,44.57,44.74,44.93,45.44,45.48,46.08,46.17,46.17,46.29,46.4,46.78,46.86,46.89,47.06,47.38,47.44,47.62,48.8,48.82,48.84,49.1,49.2,49.41,49.61,49.91,50.41,50.65,51.06,51.24,51.29,51.45,51.49,52.16,52.23,52.31,52.36,52.55,52.64,53.0,53.35,53.39,53.54,53.56,53.6,54.54,54.56,54.85,55.04,55.09,55.19,55.2,55.3,55.53,55.99,56.09,56.29,56.43,56.59,56.69,56.7,56.93,57.07,57.18,57.33,57.53,57.84,57.85,57.86,57.97,58.03,58.03,58.05,58.25,58.3,58.56,58.97,59.16,59.3,59.32,59.83,60.13,60.31,60.43,60.5,60.51,61.09,61.11,61.21,61.43,61.89,62.59,62.93,62.94,63.09,63.24,63.24,63.31,63.39,63.71,63.79,63.86,64.49,64.54,65.32,65.77,65.82,66.2,66.21,66.22,66.27,66.65,67.18,67.42,67.51,68.76,69.53,70.68,71.4,72.8,74.07,75.73,81.4,84.33],\"xaxis\":\"x\",\"y\":[3691.443357773416,3746.3911085318723,3770.368308862835,3795.6775758788513,3819.4882678741824,3825.316059621291,3844.298009883303,3866.7766351935807,3884.593027106171,3905.2400607245,3921.557877616405,3928.3847193773045,3945.868094618631,3947.6996863105796,3952.69493637953,3955.026053078374,3960.853844825483,3983.1659618001286,3986.662636848394,3986.9956535196575,3987.162161855289,3989.992803561028,3991.1583619104495,3996.8196453219266,3999.317270356402,4002.480928733404,4006.643637124196,4032.119412475844,4032.2859208114755,4034.950054181583,4040.444829257428,4048.2707210321173,4055.763596135543,4066.7531462872344,4072.7474463699755,4077.576188103294,4086.2346215561415,4088.3992299193537,4093.560988323936,4097.890205050359,4100.2213217492035,4100.387830084835,4104.384030139995,4106.049113496312,4112.376430250316,4120.035813689374,4123.032963730744,4127.5286887928,4132.024413854855,4137.685697266333,4138.018713937596,4142.514438999651,4143.346980677809,4146.843655726075,4165.159572645561,4172.1529227420915,4179.312781174253,4179.312781174253,4183.808506236309,4184.807556250099,4186.472639606416,4189.1367729765225,4198.6277481075285,4201.125373142004,4210.782856608642,4212.614448300591,4212.614448300591,4212.947464971854,4214.61254832817,4219.108273390227,4224.603048466072,4231.096873555708,4242.419440378662,4245.583098755664,4247.248182111981,4250.744857160246,4250.911365495878,4251.410890502773,4254.241532208512,4257.405190585514,4265.89711570273,4266.563149045256,4276.553649183157,4278.052224203842,4278.052224203842,4280.050324231423,4281.881915923372,4288.209232677375,4289.541299362429,4290.040824369324,4292.871466075063,4298.199732815277,4299.198782829067,4302.195932870437,4321.843916474976,4322.176933146239,4322.509949817502,4326.839166543927,4328.504249900243,4332.000924948508,4335.331091661143,4340.326341730093,4348.651758511677,4352.647958566838,4359.474800327736,4362.471950369107,4363.304492047266,4365.968625417372,4366.634658759899,4377.790717247222,4378.9562755966435,4380.288342281698,4381.120883959856,4384.284542336858,4385.783117357543,4391.777417440284,4397.605209187393,4398.27124252992,4400.768867564395,4401.101884235658,4401.767917578185,4417.419701127563,4417.752717798827,4422.581459532145,4425.745117909148,4426.577659587306,4428.242742943623,4428.409251279254,4430.074334635571,4433.9040263551,4441.563409794157,4443.228493150475,4446.558659863108,4448.889776561951,4451.553909932059,4453.218993288376,4453.385501624007,4457.215193343536,4459.546310042379,4461.377901734328,4463.875526768803,4467.205693481437,4472.367451886019,4472.533960221651,4472.700468557283,4474.532060249231,4475.531110263021,4475.531110263021,4475.864126934284,4479.194293646919,4480.026835325077,4484.3560520515,4491.1828938124,4494.346552189401,4496.6776688882455,4497.010685559509,4505.5026106767245,4510.497860745675,4513.495010787045,4515.493110814626,4516.658669164048,4516.825177499679,4526.482660966317,4526.81567763758,4528.480760993897,4532.1439443777945,4539.803327816851,4551.45891131107,4557.120194722547,4557.286703058178,4559.784328092654,4562.281953127129,4562.281953127129,4563.447511476551,4564.779578161604,4570.107844901819,4571.439911586872,4572.605469936294,4583.09549508109,4583.928036759248,4596.91568693852,4604.4085620419455,4605.241103720104,4611.568420474108,4611.734928809739,4611.901437145371,4612.7339788235295,4619.061295577534,4627.886237366013,4631.882437421174,4633.381012441859,4654.194554395819,4667.015696239459,4686.164154837103,4698.152755002584,4721.4639219910205,4742.610480616244,4770.250864331104,4864.661090634269,4913.448032974353],\"yaxis\":\"y\",\"type\":\"scatter\"}],                        {\"template\":{\"data\":{\"histogram2dcontour\":[{\"type\":\"histogram2dcontour\",\"colorbar\":{\"outlinewidth\":0,\"ticks\":\"\"},\"colorscale\":[[0.0,\"#0d0887\"],[0.1111111111111111,\"#46039f\"],[0.2222222222222222,\"#7201a8\"],[0.3333333333333333,\"#9c179e\"],[0.4444444444444444,\"#bd3786\"],[0.5555555555555556,\"#d8576b\"],[0.6666666666666666,\"#ed7953\"],[0.7777777777777778,\"#fb9f3a\"],[0.8888888888888888,\"#fdca26\"],[1.0,\"#f0f921\"]]}],\"choropleth\":[{\"type\":\"choropleth\",\"colorbar\":{\"outlinewidth\":0,\"ticks\":\"\"}}],\"histogram2d\":[{\"type\":\"histogram2d\",\"colorbar\":{\"outlinewidth\":0,\"ticks\":\"\"},\"colorscale\":[[0.0,\"#0d0887\"],[0.1111111111111111,\"#46039f\"],[0.2222222222222222,\"#7201a8\"],[0.3333333333333333,\"#9c179e\"],[0.4444444444444444,\"#bd3786\"],[0.5555555555555556,\"#d8576b\"],[0.6666666666666666,\"#ed7953\"],[0.7777777777777778,\"#fb9f3a\"],[0.8888888888888888,\"#fdca26\"],[1.0,\"#f0f921\"]]}],\"heatmap\":[{\"type\":\"heatmap\",\"colorbar\":{\"outlinewidth\":0,\"ticks\":\"\"},\"colorscale\":[[0.0,\"#0d0887\"],[0.1111111111111111,\"#46039f\"],[0.2222222222222222,\"#7201a8\"],[0.3333333333333333,\"#9c179e\"],[0.4444444444444444,\"#bd3786\"],[0.5555555555555556,\"#d8576b\"],[0.6666666666666666,\"#ed7953\"],[0.7777777777777778,\"#fb9f3a\"],[0.8888888888888888,\"#fdca26\"],[1.0,\"#f0f921\"]]}],\"heatmapgl\":[{\"type\":\"heatmapgl\",\"colorbar\":{\"outlinewidth\":0,\"ticks\":\"\"},\"colorscale\":[[0.0,\"#0d0887\"],[0.1111111111111111,\"#46039f\"],[0.2222222222222222,\"#7201a8\"],[0.3333333333333333,\"#9c179e\"],[0.4444444444444444,\"#bd3786\"],[0.5555555555555556,\"#d8576b\"],[0.6666666666666666,\"#ed7953\"],[0.7777777777777778,\"#fb9f3a\"],[0.8888888888888888,\"#fdca26\"],[1.0,\"#f0f921\"]]}],\"contourcarpet\":[{\"type\":\"contourcarpet\",\"colorbar\":{\"outlinewidth\":0,\"ticks\":\"\"}}],\"contour\":[{\"type\":\"contour\",\"colorbar\":{\"outlinewidth\":0,\"ticks\":\"\"},\"colorscale\":[[0.0,\"#0d0887\"],[0.1111111111111111,\"#46039f\"],[0.2222222222222222,\"#7201a8\"],[0.3333333333333333,\"#9c179e\"],[0.4444444444444444,\"#bd3786\"],[0.5555555555555556,\"#d8576b\"],[0.6666666666666666,\"#ed7953\"],[0.7777777777777778,\"#fb9f3a\"],[0.8888888888888888,\"#fdca26\"],[1.0,\"#f0f921\"]]}],\"surface\":[{\"type\":\"surface\",\"colorbar\":{\"outlinewidth\":0,\"ticks\":\"\"},\"colorscale\":[[0.0,\"#0d0887\"],[0.1111111111111111,\"#46039f\"],[0.2222222222222222,\"#7201a8\"],[0.3333333333333333,\"#9c179e\"],[0.4444444444444444,\"#bd3786\"],[0.5555555555555556,\"#d8576b\"],[0.6666666666666666,\"#ed7953\"],[0.7777777777777778,\"#fb9f3a\"],[0.8888888888888888,\"#fdca26\"],[1.0,\"#f0f921\"]]}],\"mesh3d\":[{\"type\":\"mesh3d\",\"colorbar\":{\"outlinewidth\":0,\"ticks\":\"\"}}],\"scatter\":[{\"fillpattern\":{\"fillmode\":\"overlay\",\"size\":10,\"solidity\":0.2},\"type\":\"scatter\"}],\"parcoords\":[{\"type\":\"parcoords\",\"line\":{\"colorbar\":{\"outlinewidth\":0,\"ticks\":\"\"}}}],\"scatterpolargl\":[{\"type\":\"scatterpolargl\",\"marker\":{\"colorbar\":{\"outlinewidth\":0,\"ticks\":\"\"}}}],\"bar\":[{\"error_x\":{\"color\":\"#2a3f5f\"},\"error_y\":{\"color\":\"#2a3f5f\"},\"marker\":{\"line\":{\"color\":\"#E5ECF6\",\"width\":0.5},\"pattern\":{\"fillmode\":\"overlay\",\"size\":10,\"solidity\":0.2}},\"type\":\"bar\"}],\"scattergeo\":[{\"type\":\"scattergeo\",\"marker\":{\"colorbar\":{\"outlinewidth\":0,\"ticks\":\"\"}}}],\"scatterpolar\":[{\"type\":\"scatterpolar\",\"marker\":{\"colorbar\":{\"outlinewidth\":0,\"ticks\":\"\"}}}],\"histogram\":[{\"marker\":{\"pattern\":{\"fillmode\":\"overlay\",\"size\":10,\"solidity\":0.2}},\"type\":\"histogram\"}],\"scattergl\":[{\"type\":\"scattergl\",\"marker\":{\"colorbar\":{\"outlinewidth\":0,\"ticks\":\"\"}}}],\"scatter3d\":[{\"type\":\"scatter3d\",\"line\":{\"colorbar\":{\"outlinewidth\":0,\"ticks\":\"\"}},\"marker\":{\"colorbar\":{\"outlinewidth\":0,\"ticks\":\"\"}}}],\"scattermapbox\":[{\"type\":\"scattermapbox\",\"marker\":{\"colorbar\":{\"outlinewidth\":0,\"ticks\":\"\"}}}],\"scatterternary\":[{\"type\":\"scatterternary\",\"marker\":{\"colorbar\":{\"outlinewidth\":0,\"ticks\":\"\"}}}],\"scattercarpet\":[{\"type\":\"scattercarpet\",\"marker\":{\"colorbar\":{\"outlinewidth\":0,\"ticks\":\"\"}}}],\"carpet\":[{\"aaxis\":{\"endlinecolor\":\"#2a3f5f\",\"gridcolor\":\"white\",\"linecolor\":\"white\",\"minorgridcolor\":\"white\",\"startlinecolor\":\"#2a3f5f\"},\"baxis\":{\"endlinecolor\":\"#2a3f5f\",\"gridcolor\":\"white\",\"linecolor\":\"white\",\"minorgridcolor\":\"white\",\"startlinecolor\":\"#2a3f5f\"},\"type\":\"carpet\"}],\"table\":[{\"cells\":{\"fill\":{\"color\":\"#EBF0F8\"},\"line\":{\"color\":\"white\"}},\"header\":{\"fill\":{\"color\":\"#C8D4E3\"},\"line\":{\"color\":\"white\"}},\"type\":\"table\"}],\"barpolar\":[{\"marker\":{\"line\":{\"color\":\"#E5ECF6\",\"width\":0.5},\"pattern\":{\"fillmode\":\"overlay\",\"size\":10,\"solidity\":0.2}},\"type\":\"barpolar\"}],\"pie\":[{\"automargin\":true,\"type\":\"pie\"}]},\"layout\":{\"autotypenumbers\":\"strict\",\"colorway\":[\"#636efa\",\"#EF553B\",\"#00cc96\",\"#ab63fa\",\"#FFA15A\",\"#19d3f3\",\"#FF6692\",\"#B6E880\",\"#FF97FF\",\"#FECB52\"],\"font\":{\"color\":\"#2a3f5f\"},\"hovermode\":\"closest\",\"hoverlabel\":{\"align\":\"left\"},\"paper_bgcolor\":\"white\",\"plot_bgcolor\":\"#E5ECF6\",\"polar\":{\"bgcolor\":\"#E5ECF6\",\"angularaxis\":{\"gridcolor\":\"white\",\"linecolor\":\"white\",\"ticks\":\"\"},\"radialaxis\":{\"gridcolor\":\"white\",\"linecolor\":\"white\",\"ticks\":\"\"}},\"ternary\":{\"bgcolor\":\"#E5ECF6\",\"aaxis\":{\"gridcolor\":\"white\",\"linecolor\":\"white\",\"ticks\":\"\"},\"baxis\":{\"gridcolor\":\"white\",\"linecolor\":\"white\",\"ticks\":\"\"},\"caxis\":{\"gridcolor\":\"white\",\"linecolor\":\"white\",\"ticks\":\"\"}},\"coloraxis\":{\"colorbar\":{\"outlinewidth\":0,\"ticks\":\"\"}},\"colorscale\":{\"sequential\":[[0.0,\"#0d0887\"],[0.1111111111111111,\"#46039f\"],[0.2222222222222222,\"#7201a8\"],[0.3333333333333333,\"#9c179e\"],[0.4444444444444444,\"#bd3786\"],[0.5555555555555556,\"#d8576b\"],[0.6666666666666666,\"#ed7953\"],[0.7777777777777778,\"#fb9f3a\"],[0.8888888888888888,\"#fdca26\"],[1.0,\"#f0f921\"]],\"sequentialminus\":[[0.0,\"#0d0887\"],[0.1111111111111111,\"#46039f\"],[0.2222222222222222,\"#7201a8\"],[0.3333333333333333,\"#9c179e\"],[0.4444444444444444,\"#bd3786\"],[0.5555555555555556,\"#d8576b\"],[0.6666666666666666,\"#ed7953\"],[0.7777777777777778,\"#fb9f3a\"],[0.8888888888888888,\"#fdca26\"],[1.0,\"#f0f921\"]],\"diverging\":[[0,\"#8e0152\"],[0.1,\"#c51b7d\"],[0.2,\"#de77ae\"],[0.3,\"#f1b6da\"],[0.4,\"#fde0ef\"],[0.5,\"#f7f7f7\"],[0.6,\"#e6f5d0\"],[0.7,\"#b8e186\"],[0.8,\"#7fbc41\"],[0.9,\"#4d9221\"],[1,\"#276419\"]]},\"xaxis\":{\"gridcolor\":\"white\",\"linecolor\":\"white\",\"ticks\":\"\",\"title\":{\"standoff\":15},\"zerolinecolor\":\"white\",\"automargin\":true,\"zerolinewidth\":2},\"yaxis\":{\"gridcolor\":\"white\",\"linecolor\":\"white\",\"ticks\":\"\",\"title\":{\"standoff\":15},\"zerolinecolor\":\"white\",\"automargin\":true,\"zerolinewidth\":2},\"scene\":{\"xaxis\":{\"backgroundcolor\":\"#E5ECF6\",\"gridcolor\":\"white\",\"linecolor\":\"white\",\"showbackground\":true,\"ticks\":\"\",\"zerolinecolor\":\"white\",\"gridwidth\":2},\"yaxis\":{\"backgroundcolor\":\"#E5ECF6\",\"gridcolor\":\"white\",\"linecolor\":\"white\",\"showbackground\":true,\"ticks\":\"\",\"zerolinecolor\":\"white\",\"gridwidth\":2},\"zaxis\":{\"backgroundcolor\":\"#E5ECF6\",\"gridcolor\":\"white\",\"linecolor\":\"white\",\"showbackground\":true,\"ticks\":\"\",\"zerolinecolor\":\"white\",\"gridwidth\":2}},\"shapedefaults\":{\"line\":{\"color\":\"#2a3f5f\"}},\"annotationdefaults\":{\"arrowcolor\":\"#2a3f5f\",\"arrowhead\":0,\"arrowwidth\":1},\"geo\":{\"bgcolor\":\"white\",\"landcolor\":\"#E5ECF6\",\"subunitcolor\":\"white\",\"showland\":true,\"showlakes\":true,\"lakecolor\":\"white\"},\"title\":{\"x\":0.05},\"mapbox\":{\"style\":\"light\"}}},\"xaxis\":{\"anchor\":\"y\",\"domain\":[0.0,1.0],\"title\":{\"text\":\"Brittle\"}},\"yaxis\":{\"anchor\":\"x\",\"domain\":[0.0,1.0],\"title\":{\"text\":\"Prod\"}},\"legend\":{\"tracegroupgap\":0},\"title\":{\"text\":\"Зависимость добычи газа (Prod) от Brittle\"}},                        {\"responsive\": true}                    ).then(function(){\n",
              "                            \n",
              "var gd = document.getElementById('c761a5da-ebd5-43a5-a9d0-800a8837d94a');\n",
              "var x = new MutationObserver(function (mutations, observer) {{\n",
              "        var display = window.getComputedStyle(gd).display;\n",
              "        if (!display || display === 'none') {{\n",
              "            console.log([gd, 'removed!']);\n",
              "            Plotly.purge(gd);\n",
              "            observer.disconnect();\n",
              "        }}\n",
              "}});\n",
              "\n",
              "// Listen for the removal of the full notebook cells\n",
              "var notebookContainer = gd.closest('#notebook-container');\n",
              "if (notebookContainer) {{\n",
              "    x.observe(notebookContainer, {childList: true});\n",
              "}}\n",
              "\n",
              "// Listen for the clearing of the current output cell\n",
              "var outputEl = gd.closest('.output');\n",
              "if (outputEl) {{\n",
              "    x.observe(outputEl, {childList: true});\n",
              "}}\n",
              "\n",
              "                        })                };                            </script>        </div>\n",
              "</body>\n",
              "</html>"
            ]
          },
          "metadata": {}
        },
        {
          "output_type": "display_data",
          "data": {
            "text/html": [
              "<html>\n",
              "<head><meta charset=\"utf-8\" /></head>\n",
              "<body>\n",
              "    <div>            <script src=\"https://cdnjs.cloudflare.com/ajax/libs/mathjax/2.7.5/MathJax.js?config=TeX-AMS-MML_SVG\"></script><script type=\"text/javascript\">if (window.MathJax && window.MathJax.Hub && window.MathJax.Hub.Config) {window.MathJax.Hub.Config({SVG: {font: \"STIX-Web\"}});}</script>                <script type=\"text/javascript\">window.PlotlyConfig = {MathJaxConfig: 'local'};</script>\n",
              "        <script charset=\"utf-8\" src=\"https://cdn.plot.ly/plotly-2.35.2.min.js\"></script>                <div id=\"4a75b241-8b4c-4086-90ec-4c52584a8161\" class=\"plotly-graph-div\" style=\"height:525px; width:100%;\"></div>            <script type=\"text/javascript\">                                    window.PLOTLYENV=window.PLOTLYENV || {};                                    if (document.getElementById(\"4a75b241-8b4c-4086-90ec-4c52584a8161\")) {                    Plotly.newPlot(                        \"4a75b241-8b4c-4086-90ec-4c52584a8161\",                        [{\"hovertemplate\":\"TOC=%{x}\\u003cbr\\u003eProd=%{y}\\u003cextra\\u003e\\u003c\\u002fextra\\u003e\",\"legendgroup\":\"\",\"marker\":{\"color\":\"#636efa\",\"symbol\":\"circle\"},\"mode\":\"markers\",\"name\":\"\",\"orientation\":\"v\",\"showlegend\":false,\"x\":[1.16,0.89,0.89,1.08,1.51,0.94,0.8,0.69,0.95,1.14,1.08,1.53,1.17,1.87,0.18,0.57,1.34,1.35,0.9,0.9,1.26,1.21,1.0,0.38,1.77,-0.04,1.37,1.1,0.72,0.81,1.45,0.92,0.79,1.13,0.43,0.54,0.48,1.33,1.14,0.87,0.97,1.01,-0.19,0.83,2.07,0.66,0.3,0.08,1.0,1.24,1.59,1.53,0.8,0.76,1.97,0.76,0.62,0.78,1.09,0.2,1.3,1.07,1.12,1.07,1.67,0.04,1.22,1.28,1.04,0.47,0.16,0.91,0.72,1.1,0.48,1.42,1.47,0.46,0.8,1.15,1.17,1.22,0.38,0.6,0.59,1.04,1.36,0.95,0.52,1.17,0.84,0.38,1.47,0.39,0.95,0.92,1.47,1.59,0.84,1.55,0.98,0.86,0.45,1.06,1.75,1.35,0.5,1.43,2.08,1.15,0.58,0.38,1.39,1.33,0.82,1.4,0.81,1.52,1.02,1.23,0.48,1.17,1.11,0.5,2.18,1.33,1.13,1.62,0.93,1.52,1.17,1.46,0.31,0.93,0.61,1.53,0.38,1.04,0.37,0.58,1.37,0.84,1.64,0.5,1.16,1.48,0.43,1.6,0.1,1.26,0.82,0.45,1.66,0.63,1.5,0.48,1.33,1.41,1.05,1.02,1.21,1.74,0.28,0.6,0.9,1.54,1.57,1.09,1.58,0.04,0.38,1.33,0.12,1.25,1.42,1.04,1.08,0.35,1.23,-0.03,0.14,0.67,0.52,1.66,1.52,0.72,1.28,0.81,0.97,1.48,1.51,0.28,1.4,0.11,1.77,0.8,0.98,-0.04,1.89,1.71],\"xaxis\":\"x\",\"y\":[4165.196191,3561.146205,4284.348574,5098.680869,3406.132832,4395.763259,4104.400989,3496.742701,4025.851153,4285.026122,4691.546305,5128.20297,5113.940775,5546.431951,4323.568513,3539.984263,5425.900608,3796.037029,4534.585915,3803.411386,5778.851488,4771.307836,2486.075498,2515.440716,6046.257538,2351.289487,4971.979256,3999.613909,2760.485982,3825.661812,5859.748328,3775.981178,3907.28923,4118.233273,3621.261108,2718.652945,3608.47473,5249.625543,4239.53187,4471.241364,4363.202854,4495.004769,3098.436639,2677.297348,5779.876876,3210.90138,2967.240201,2415.825125,5563.040771,5337.145786,5670.537767,5899.353594,4601.071319,3741.129167,5605.978153,4079.994302,3146.528143,3691.832452,3542.532883,3969.558019,5851.024387,3733.769597,5620.911404,4319.662079,5620.445827,4431.905847,3376.2837,3999.97933,4336.465709,3767.10242,3180.611366,4320.554389,4220.557084,4087.529805,5321.469922,6053.071368,5446.810082,3190.699612,4276.410007,5518.256409,4555.146788,4489.29306,4319.787412,4113.145433,2734.773959,4142.406714,4208.174933,4519.923344,3364.213781,3562.635128,3806.229207,2119.315516,4877.71473,3591.891958,4700.224408,5350.949293,5278.785405,6455.048131,3671.944944,4948.929165,4464.894985,4003.874956,3376.059883,3856.991967,4689.43224,4748.315024,3890.428004,4733.965648,6480.140811,4751.960471,4429.601197,3695.605482,5334.209437,6171.948872,5188.165252,5429.61122,4190.949492,4321.08436,3278.519165,5568.129512,4761.541276,3096.041435,5984.91987,3987.451637,5107.668954,4590.775041,4394.908724,4801.169597,4118.586934,3762.933398,4583.194189,5257.439724,3258.271193,4896.3969,2508.507049,3655.497757,4300.222781,4566.400754,2107.139414,3989.012964,5903.37822,4260.004869,5996.900444,3196.99447,4476.367366,4605.799987,4180.788056,5400.374809,3950.292582,3418.470532,2705.868622,3219.49199,5607.51549,5083.318118,3341.157722,3867.438514,5629.970179,4859.067707,4092.730535,5898.169102,5085.588965,4470.882859,3923.997348,3458.846102,4013.751035,5175.59912,6395.708841,3182.815944,4862.060183,2940.975811,2791.133133,5449.314018,3031.432666,3460.397749,4158.294202,4441.251847,3333.963492,2819.977847,5880.785643,2362.269336,4290.072266,4144.2208,3141.540928,5692.716924,4319.373276,4807.05583,3899.879873,3413.73739,4385.713419,4291.702607,3407.341602,2187.774422,5899.275409,3855.930544,5489.491177,3847.571003,5601.227131,3409.575363,5087.592149,6662.622385],\"yaxis\":\"y\",\"type\":\"scatter\"},{\"hovertemplate\":\"\\u003cb\\u003eOLS trendline\\u003c\\u002fb\\u003e\\u003cbr\\u003eProd = 1348.11 * TOC + 2975.98\\u003cbr\\u003eR\\u003csup\\u003e2\\u003c\\u002fsup\\u003e=0.428299\\u003cbr\\u003e\\u003cbr\\u003eTOC=%{x}\\u003cbr\\u003eProd=%{y} \\u003cb\\u003e(trend)\\u003c\\u002fb\\u003e\\u003cextra\\u003e\\u003c\\u002fextra\\u003e\",\"legendgroup\":\"\",\"marker\":{\"color\":\"#636efa\",\"symbol\":\"circle\"},\"mode\":\"lines\",\"name\":\"\",\"showlegend\":false,\"x\":[-0.19,-0.04,-0.04,-0.03,0.04,0.04,0.08,0.1,0.11,0.12,0.14,0.16,0.18,0.2,0.28,0.28,0.3,0.31,0.35,0.37,0.38,0.38,0.38,0.38,0.38,0.38,0.39,0.43,0.43,0.45,0.45,0.46,0.47,0.48,0.48,0.48,0.48,0.5,0.5,0.5,0.52,0.52,0.54,0.57,0.58,0.58,0.59,0.6,0.6,0.61,0.62,0.63,0.66,0.67,0.69,0.72,0.72,0.72,0.76,0.76,0.78,0.79,0.8,0.8,0.8,0.8,0.81,0.81,0.81,0.82,0.82,0.83,0.84,0.84,0.84,0.86,0.87,0.89,0.89,0.9,0.9,0.9,0.91,0.92,0.92,0.93,0.93,0.94,0.95,0.95,0.95,0.97,0.97,0.98,0.98,1.0,1.0,1.01,1.02,1.02,1.04,1.04,1.04,1.04,1.05,1.06,1.07,1.07,1.08,1.08,1.08,1.09,1.09,1.1,1.1,1.11,1.12,1.13,1.13,1.14,1.14,1.15,1.15,1.16,1.16,1.17,1.17,1.17,1.17,1.17,1.21,1.21,1.22,1.22,1.23,1.23,1.24,1.25,1.26,1.26,1.28,1.28,1.3,1.33,1.33,1.33,1.33,1.33,1.34,1.35,1.35,1.36,1.37,1.37,1.39,1.4,1.4,1.41,1.42,1.42,1.43,1.45,1.46,1.47,1.47,1.47,1.48,1.48,1.5,1.51,1.51,1.52,1.52,1.52,1.53,1.53,1.53,1.54,1.55,1.57,1.58,1.59,1.59,1.6,1.62,1.64,1.66,1.66,1.67,1.71,1.74,1.75,1.77,1.77,1.87,1.89,1.97,2.07,2.08,2.18],\"xaxis\":\"x\",\"y\":[2719.8402735702584,2922.057171179188,2922.057171179188,2935.53829768645,3029.9061832372836,3029.9061832372836,3083.830689266332,3110.7929422808556,3124.2740687881173,3137.7551952953795,3164.7174483099034,3191.6797013244272,3218.641954338951,3245.6042073534754,3353.453219411571,3353.453219411571,3380.415472426095,3393.896598933357,3447.8211049624047,3474.783357976929,3488.2644844841907,3488.2644844841907,3488.2644844841907,3488.2644844841907,3488.2644844841907,3488.2644844841907,3501.745610991453,3555.6701170205006,3555.6701170205006,3582.6323700350245,3582.6323700350245,3596.1134965422866,3609.5946230495483,3623.0757495568105,3623.0757495568105,3623.0757495568105,3623.0757495568105,3650.0380025713343,3650.0380025713343,3650.0380025713343,3677.000255585858,3677.000255585858,3703.9625086003825,3744.405888122168,3757.8870146294303,3757.8870146294303,3771.3681411366924,3784.849267643954,3784.849267643954,3798.3303941512163,3811.811520658478,3825.29264716574,3865.736026687526,3879.217153194788,3906.1794062093118,3946.622785731098,3946.622785731098,3946.622785731098,4000.5472917601455,4000.5472917601455,4027.50954477467,4040.990671281932,4054.4717977891937,4054.4717977891937,4054.4717977891937,4054.4717977891937,4067.9529242964554,4067.9529242964554,4067.9529242964554,4081.4340508037176,4081.4340508037176,4094.9151773109797,4108.396303818241,4108.396303818241,4108.396303818241,4135.358556832765,4148.8396833400275,4175.801936354552,4175.801936354552,4189.283062861813,4189.283062861813,4189.283062861813,4202.764189369075,4216.245315876337,4216.245315876337,4229.7264423835995,4229.7264423835995,4243.207568890861,4256.688695398123,4256.688695398123,4256.688695398123,4283.650948412647,4283.650948412647,4297.132074919909,4297.132074919909,4324.094327934433,4324.094327934433,4337.575454441695,4351.056580948957,4351.056580948957,4378.018833963481,4378.018833963481,4378.018833963481,4378.018833963481,4391.499960470743,4404.981086978005,4418.462213485267,4418.462213485267,4431.943339992529,4431.943339992529,4431.943339992529,4445.424466499791,4445.424466499791,4458.905593007053,4458.905593007053,4472.386719514315,4485.867846021577,4499.348972528838,4499.348972528838,4512.8300990361,4512.8300990361,4526.3112255433625,4526.3112255433625,4539.792352050625,4539.792352050625,4553.273478557887,4553.273478557887,4553.273478557887,4553.273478557887,4553.273478557887,4607.197984586935,4607.197984586935,4620.679111094197,4620.679111094197,4634.160237601458,4634.160237601458,4647.64136410872,4661.122490615982,4674.6036171232445,4674.6036171232445,4701.565870137769,4701.565870137769,4728.528123152292,4768.971502674078,4768.971502674078,4768.971502674078,4768.971502674078,4768.971502674078,4782.45262918134,4795.933755688602,4795.933755688602,4809.414882195864,4822.896008703126,4822.896008703126,4849.85826171765,4863.339388224912,4863.339388224912,4876.820514732173,4890.301641239435,4890.301641239435,4903.782767746698,4930.745020761222,4944.226147268484,4957.707273775746,4957.707273775746,4957.707273775746,4971.1884002830075,4971.1884002830075,4998.150653297532,5011.631779804794,5011.631779804794,5025.112906312055,5025.112906312055,5025.112906312055,5038.594032819317,5038.594032819317,5038.594032819317,5052.0751593265795,5065.556285833842,5092.518538848366,5105.999665355628,5119.480791862889,5119.480791862889,5132.961918370152,5159.924171384675,5186.886424399199,5213.848677413724,5213.848677413724,5227.329803920985,5281.254309950033,5321.697689471819,5335.178815979081,5362.141068993606,5362.141068993606,5496.952334066225,5523.914587080748,5631.763599138844,5766.574864211464,5780.055990718726,5914.867255791346],\"yaxis\":\"y\",\"type\":\"scatter\"}],                        {\"template\":{\"data\":{\"histogram2dcontour\":[{\"type\":\"histogram2dcontour\",\"colorbar\":{\"outlinewidth\":0,\"ticks\":\"\"},\"colorscale\":[[0.0,\"#0d0887\"],[0.1111111111111111,\"#46039f\"],[0.2222222222222222,\"#7201a8\"],[0.3333333333333333,\"#9c179e\"],[0.4444444444444444,\"#bd3786\"],[0.5555555555555556,\"#d8576b\"],[0.6666666666666666,\"#ed7953\"],[0.7777777777777778,\"#fb9f3a\"],[0.8888888888888888,\"#fdca26\"],[1.0,\"#f0f921\"]]}],\"choropleth\":[{\"type\":\"choropleth\",\"colorbar\":{\"outlinewidth\":0,\"ticks\":\"\"}}],\"histogram2d\":[{\"type\":\"histogram2d\",\"colorbar\":{\"outlinewidth\":0,\"ticks\":\"\"},\"colorscale\":[[0.0,\"#0d0887\"],[0.1111111111111111,\"#46039f\"],[0.2222222222222222,\"#7201a8\"],[0.3333333333333333,\"#9c179e\"],[0.4444444444444444,\"#bd3786\"],[0.5555555555555556,\"#d8576b\"],[0.6666666666666666,\"#ed7953\"],[0.7777777777777778,\"#fb9f3a\"],[0.8888888888888888,\"#fdca26\"],[1.0,\"#f0f921\"]]}],\"heatmap\":[{\"type\":\"heatmap\",\"colorbar\":{\"outlinewidth\":0,\"ticks\":\"\"},\"colorscale\":[[0.0,\"#0d0887\"],[0.1111111111111111,\"#46039f\"],[0.2222222222222222,\"#7201a8\"],[0.3333333333333333,\"#9c179e\"],[0.4444444444444444,\"#bd3786\"],[0.5555555555555556,\"#d8576b\"],[0.6666666666666666,\"#ed7953\"],[0.7777777777777778,\"#fb9f3a\"],[0.8888888888888888,\"#fdca26\"],[1.0,\"#f0f921\"]]}],\"heatmapgl\":[{\"type\":\"heatmapgl\",\"colorbar\":{\"outlinewidth\":0,\"ticks\":\"\"},\"colorscale\":[[0.0,\"#0d0887\"],[0.1111111111111111,\"#46039f\"],[0.2222222222222222,\"#7201a8\"],[0.3333333333333333,\"#9c179e\"],[0.4444444444444444,\"#bd3786\"],[0.5555555555555556,\"#d8576b\"],[0.6666666666666666,\"#ed7953\"],[0.7777777777777778,\"#fb9f3a\"],[0.8888888888888888,\"#fdca26\"],[1.0,\"#f0f921\"]]}],\"contourcarpet\":[{\"type\":\"contourcarpet\",\"colorbar\":{\"outlinewidth\":0,\"ticks\":\"\"}}],\"contour\":[{\"type\":\"contour\",\"colorbar\":{\"outlinewidth\":0,\"ticks\":\"\"},\"colorscale\":[[0.0,\"#0d0887\"],[0.1111111111111111,\"#46039f\"],[0.2222222222222222,\"#7201a8\"],[0.3333333333333333,\"#9c179e\"],[0.4444444444444444,\"#bd3786\"],[0.5555555555555556,\"#d8576b\"],[0.6666666666666666,\"#ed7953\"],[0.7777777777777778,\"#fb9f3a\"],[0.8888888888888888,\"#fdca26\"],[1.0,\"#f0f921\"]]}],\"surface\":[{\"type\":\"surface\",\"colorbar\":{\"outlinewidth\":0,\"ticks\":\"\"},\"colorscale\":[[0.0,\"#0d0887\"],[0.1111111111111111,\"#46039f\"],[0.2222222222222222,\"#7201a8\"],[0.3333333333333333,\"#9c179e\"],[0.4444444444444444,\"#bd3786\"],[0.5555555555555556,\"#d8576b\"],[0.6666666666666666,\"#ed7953\"],[0.7777777777777778,\"#fb9f3a\"],[0.8888888888888888,\"#fdca26\"],[1.0,\"#f0f921\"]]}],\"mesh3d\":[{\"type\":\"mesh3d\",\"colorbar\":{\"outlinewidth\":0,\"ticks\":\"\"}}],\"scatter\":[{\"fillpattern\":{\"fillmode\":\"overlay\",\"size\":10,\"solidity\":0.2},\"type\":\"scatter\"}],\"parcoords\":[{\"type\":\"parcoords\",\"line\":{\"colorbar\":{\"outlinewidth\":0,\"ticks\":\"\"}}}],\"scatterpolargl\":[{\"type\":\"scatterpolargl\",\"marker\":{\"colorbar\":{\"outlinewidth\":0,\"ticks\":\"\"}}}],\"bar\":[{\"error_x\":{\"color\":\"#2a3f5f\"},\"error_y\":{\"color\":\"#2a3f5f\"},\"marker\":{\"line\":{\"color\":\"#E5ECF6\",\"width\":0.5},\"pattern\":{\"fillmode\":\"overlay\",\"size\":10,\"solidity\":0.2}},\"type\":\"bar\"}],\"scattergeo\":[{\"type\":\"scattergeo\",\"marker\":{\"colorbar\":{\"outlinewidth\":0,\"ticks\":\"\"}}}],\"scatterpolar\":[{\"type\":\"scatterpolar\",\"marker\":{\"colorbar\":{\"outlinewidth\":0,\"ticks\":\"\"}}}],\"histogram\":[{\"marker\":{\"pattern\":{\"fillmode\":\"overlay\",\"size\":10,\"solidity\":0.2}},\"type\":\"histogram\"}],\"scattergl\":[{\"type\":\"scattergl\",\"marker\":{\"colorbar\":{\"outlinewidth\":0,\"ticks\":\"\"}}}],\"scatter3d\":[{\"type\":\"scatter3d\",\"line\":{\"colorbar\":{\"outlinewidth\":0,\"ticks\":\"\"}},\"marker\":{\"colorbar\":{\"outlinewidth\":0,\"ticks\":\"\"}}}],\"scattermapbox\":[{\"type\":\"scattermapbox\",\"marker\":{\"colorbar\":{\"outlinewidth\":0,\"ticks\":\"\"}}}],\"scatterternary\":[{\"type\":\"scatterternary\",\"marker\":{\"colorbar\":{\"outlinewidth\":0,\"ticks\":\"\"}}}],\"scattercarpet\":[{\"type\":\"scattercarpet\",\"marker\":{\"colorbar\":{\"outlinewidth\":0,\"ticks\":\"\"}}}],\"carpet\":[{\"aaxis\":{\"endlinecolor\":\"#2a3f5f\",\"gridcolor\":\"white\",\"linecolor\":\"white\",\"minorgridcolor\":\"white\",\"startlinecolor\":\"#2a3f5f\"},\"baxis\":{\"endlinecolor\":\"#2a3f5f\",\"gridcolor\":\"white\",\"linecolor\":\"white\",\"minorgridcolor\":\"white\",\"startlinecolor\":\"#2a3f5f\"},\"type\":\"carpet\"}],\"table\":[{\"cells\":{\"fill\":{\"color\":\"#EBF0F8\"},\"line\":{\"color\":\"white\"}},\"header\":{\"fill\":{\"color\":\"#C8D4E3\"},\"line\":{\"color\":\"white\"}},\"type\":\"table\"}],\"barpolar\":[{\"marker\":{\"line\":{\"color\":\"#E5ECF6\",\"width\":0.5},\"pattern\":{\"fillmode\":\"overlay\",\"size\":10,\"solidity\":0.2}},\"type\":\"barpolar\"}],\"pie\":[{\"automargin\":true,\"type\":\"pie\"}]},\"layout\":{\"autotypenumbers\":\"strict\",\"colorway\":[\"#636efa\",\"#EF553B\",\"#00cc96\",\"#ab63fa\",\"#FFA15A\",\"#19d3f3\",\"#FF6692\",\"#B6E880\",\"#FF97FF\",\"#FECB52\"],\"font\":{\"color\":\"#2a3f5f\"},\"hovermode\":\"closest\",\"hoverlabel\":{\"align\":\"left\"},\"paper_bgcolor\":\"white\",\"plot_bgcolor\":\"#E5ECF6\",\"polar\":{\"bgcolor\":\"#E5ECF6\",\"angularaxis\":{\"gridcolor\":\"white\",\"linecolor\":\"white\",\"ticks\":\"\"},\"radialaxis\":{\"gridcolor\":\"white\",\"linecolor\":\"white\",\"ticks\":\"\"}},\"ternary\":{\"bgcolor\":\"#E5ECF6\",\"aaxis\":{\"gridcolor\":\"white\",\"linecolor\":\"white\",\"ticks\":\"\"},\"baxis\":{\"gridcolor\":\"white\",\"linecolor\":\"white\",\"ticks\":\"\"},\"caxis\":{\"gridcolor\":\"white\",\"linecolor\":\"white\",\"ticks\":\"\"}},\"coloraxis\":{\"colorbar\":{\"outlinewidth\":0,\"ticks\":\"\"}},\"colorscale\":{\"sequential\":[[0.0,\"#0d0887\"],[0.1111111111111111,\"#46039f\"],[0.2222222222222222,\"#7201a8\"],[0.3333333333333333,\"#9c179e\"],[0.4444444444444444,\"#bd3786\"],[0.5555555555555556,\"#d8576b\"],[0.6666666666666666,\"#ed7953\"],[0.7777777777777778,\"#fb9f3a\"],[0.8888888888888888,\"#fdca26\"],[1.0,\"#f0f921\"]],\"sequentialminus\":[[0.0,\"#0d0887\"],[0.1111111111111111,\"#46039f\"],[0.2222222222222222,\"#7201a8\"],[0.3333333333333333,\"#9c179e\"],[0.4444444444444444,\"#bd3786\"],[0.5555555555555556,\"#d8576b\"],[0.6666666666666666,\"#ed7953\"],[0.7777777777777778,\"#fb9f3a\"],[0.8888888888888888,\"#fdca26\"],[1.0,\"#f0f921\"]],\"diverging\":[[0,\"#8e0152\"],[0.1,\"#c51b7d\"],[0.2,\"#de77ae\"],[0.3,\"#f1b6da\"],[0.4,\"#fde0ef\"],[0.5,\"#f7f7f7\"],[0.6,\"#e6f5d0\"],[0.7,\"#b8e186\"],[0.8,\"#7fbc41\"],[0.9,\"#4d9221\"],[1,\"#276419\"]]},\"xaxis\":{\"gridcolor\":\"white\",\"linecolor\":\"white\",\"ticks\":\"\",\"title\":{\"standoff\":15},\"zerolinecolor\":\"white\",\"automargin\":true,\"zerolinewidth\":2},\"yaxis\":{\"gridcolor\":\"white\",\"linecolor\":\"white\",\"ticks\":\"\",\"title\":{\"standoff\":15},\"zerolinecolor\":\"white\",\"automargin\":true,\"zerolinewidth\":2},\"scene\":{\"xaxis\":{\"backgroundcolor\":\"#E5ECF6\",\"gridcolor\":\"white\",\"linecolor\":\"white\",\"showbackground\":true,\"ticks\":\"\",\"zerolinecolor\":\"white\",\"gridwidth\":2},\"yaxis\":{\"backgroundcolor\":\"#E5ECF6\",\"gridcolor\":\"white\",\"linecolor\":\"white\",\"showbackground\":true,\"ticks\":\"\",\"zerolinecolor\":\"white\",\"gridwidth\":2},\"zaxis\":{\"backgroundcolor\":\"#E5ECF6\",\"gridcolor\":\"white\",\"linecolor\":\"white\",\"showbackground\":true,\"ticks\":\"\",\"zerolinecolor\":\"white\",\"gridwidth\":2}},\"shapedefaults\":{\"line\":{\"color\":\"#2a3f5f\"}},\"annotationdefaults\":{\"arrowcolor\":\"#2a3f5f\",\"arrowhead\":0,\"arrowwidth\":1},\"geo\":{\"bgcolor\":\"white\",\"landcolor\":\"#E5ECF6\",\"subunitcolor\":\"white\",\"showland\":true,\"showlakes\":true,\"lakecolor\":\"white\"},\"title\":{\"x\":0.05},\"mapbox\":{\"style\":\"light\"}}},\"xaxis\":{\"anchor\":\"y\",\"domain\":[0.0,1.0],\"title\":{\"text\":\"TOC\"}},\"yaxis\":{\"anchor\":\"x\",\"domain\":[0.0,1.0],\"title\":{\"text\":\"Prod\"}},\"legend\":{\"tracegroupgap\":0},\"title\":{\"text\":\"Зависимость добычи газа (Prod) от TOC\"}},                        {\"responsive\": true}                    ).then(function(){\n",
              "                            \n",
              "var gd = document.getElementById('4a75b241-8b4c-4086-90ec-4c52584a8161');\n",
              "var x = new MutationObserver(function (mutations, observer) {{\n",
              "        var display = window.getComputedStyle(gd).display;\n",
              "        if (!display || display === 'none') {{\n",
              "            console.log([gd, 'removed!']);\n",
              "            Plotly.purge(gd);\n",
              "            observer.disconnect();\n",
              "        }}\n",
              "}});\n",
              "\n",
              "// Listen for the removal of the full notebook cells\n",
              "var notebookContainer = gd.closest('#notebook-container');\n",
              "if (notebookContainer) {{\n",
              "    x.observe(notebookContainer, {childList: true});\n",
              "}}\n",
              "\n",
              "// Listen for the clearing of the current output cell\n",
              "var outputEl = gd.closest('.output');\n",
              "if (outputEl) {{\n",
              "    x.observe(outputEl, {childList: true});\n",
              "}}\n",
              "\n",
              "                        })                };                            </script>        </div>\n",
              "</body>\n",
              "</html>"
            ]
          },
          "metadata": {}
        },
        {
          "output_type": "display_data",
          "data": {
            "text/html": [
              "<html>\n",
              "<head><meta charset=\"utf-8\" /></head>\n",
              "<body>\n",
              "    <div>            <script src=\"https://cdnjs.cloudflare.com/ajax/libs/mathjax/2.7.5/MathJax.js?config=TeX-AMS-MML_SVG\"></script><script type=\"text/javascript\">if (window.MathJax && window.MathJax.Hub && window.MathJax.Hub.Config) {window.MathJax.Hub.Config({SVG: {font: \"STIX-Web\"}});}</script>                <script type=\"text/javascript\">window.PlotlyConfig = {MathJaxConfig: 'local'};</script>\n",
              "        <script charset=\"utf-8\" src=\"https://cdn.plot.ly/plotly-2.35.2.min.js\"></script>                <div id=\"f04be8ff-2179-4b69-a07f-f529b1f39177\" class=\"plotly-graph-div\" style=\"height:525px; width:100%;\"></div>            <script type=\"text/javascript\">                                    window.PLOTLYENV=window.PLOTLYENV || {};                                    if (document.getElementById(\"f04be8ff-2179-4b69-a07f-f529b1f39177\")) {                    Plotly.newPlot(                        \"f04be8ff-2179-4b69-a07f-f529b1f39177\",                        [{\"hovertemplate\":\"VR=%{x}\\u003cbr\\u003eProd=%{y}\\u003cextra\\u003e\\u003c\\u002fextra\\u003e\",\"legendgroup\":\"\",\"marker\":{\"color\":\"#636efa\",\"symbol\":\"circle\"},\"mode\":\"markers\",\"name\":\"\",\"orientation\":\"v\",\"showlegend\":false,\"x\":[2.31,1.88,2.72,1.88,1.9,1.67,1.85,1.93,1.98,2.65,1.77,1.86,1.98,2.19,1.64,2.15,1.95,1.88,1.98,2.54,2.09,1.72,1.48,1.7,1.71,1.68,2.04,2.15,2.07,1.97,2.45,1.59,2.27,2.2,2.45,1.69,1.93,1.96,2.26,1.64,1.87,1.99,1.97,1.96,2.34,1.15,1.6,1.38,1.9,2.25,1.96,1.84,1.97,2.87,1.97,1.74,1.73,1.81,1.29,1.71,2.48,1.67,2.28,2.17,2.35,1.97,1.83,2.07,2.11,2.03,1.93,1.91,2.05,1.54,1.74,2.14,1.9,2.37,1.67,2.01,2.2,2.01,1.88,2.04,1.76,2.33,2.43,2.03,1.85,2.6,2.18,1.28,1.82,1.97,2.04,2.01,2.05,2.11,1.57,2.1,1.97,1.72,2.17,1.54,1.62,2.42,1.7,1.97,2.43,2.16,1.8,1.93,2.06,2.08,1.8,2.06,2.77,2.23,1.84,2.37,2.07,1.73,1.67,1.89,1.24,1.95,1.72,2.15,1.98,1.93,1.71,1.98,1.89,2.3,2.01,2.05,1.77,1.93,1.43,1.64,1.55,1.7,2.18,1.77,1.93,2.52,1.97,2.6,1.53,1.79,1.69,1.82,1.87,1.5,1.93,1.55,1.92,2.09,1.74,2.15,2.32,1.49,0.93,1.5,1.86,1.86,2.39,2.09,1.95,1.84,1.78,2.38,1.93,1.94,1.95,2.16,1.99,1.76,1.97,1.67,1.93,2.11,2.16,2.54,2.1,2.35,1.61,2.4,2.05,1.84,2.22,2.1,1.99,1.91,2.28,2.06,2.08,1.73,2.35,2.27],\"xaxis\":\"x\",\"y\":[4165.196191,3561.146205,4284.348574,5098.680869,3406.132832,4395.763259,4104.400989,3496.742701,4025.851153,4285.026122,4691.546305,5128.20297,5113.940775,5546.431951,4323.568513,3539.984263,5425.900608,3796.037029,4534.585915,3803.411386,5778.851488,4771.307836,2486.075498,2515.440716,6046.257538,2351.289487,4971.979256,3999.613909,2760.485982,3825.661812,5859.748328,3775.981178,3907.28923,4118.233273,3621.261108,2718.652945,3608.47473,5249.625543,4239.53187,4471.241364,4363.202854,4495.004769,3098.436639,2677.297348,5779.876876,3210.90138,2967.240201,2415.825125,5563.040771,5337.145786,5670.537767,5899.353594,4601.071319,3741.129167,5605.978153,4079.994302,3146.528143,3691.832452,3542.532883,3969.558019,5851.024387,3733.769597,5620.911404,4319.662079,5620.445827,4431.905847,3376.2837,3999.97933,4336.465709,3767.10242,3180.611366,4320.554389,4220.557084,4087.529805,5321.469922,6053.071368,5446.810082,3190.699612,4276.410007,5518.256409,4555.146788,4489.29306,4319.787412,4113.145433,2734.773959,4142.406714,4208.174933,4519.923344,3364.213781,3562.635128,3806.229207,2119.315516,4877.71473,3591.891958,4700.224408,5350.949293,5278.785405,6455.048131,3671.944944,4948.929165,4464.894985,4003.874956,3376.059883,3856.991967,4689.43224,4748.315024,3890.428004,4733.965648,6480.140811,4751.960471,4429.601197,3695.605482,5334.209437,6171.948872,5188.165252,5429.61122,4190.949492,4321.08436,3278.519165,5568.129512,4761.541276,3096.041435,5984.91987,3987.451637,5107.668954,4590.775041,4394.908724,4801.169597,4118.586934,3762.933398,4583.194189,5257.439724,3258.271193,4896.3969,2508.507049,3655.497757,4300.222781,4566.400754,2107.139414,3989.012964,5903.37822,4260.004869,5996.900444,3196.99447,4476.367366,4605.799987,4180.788056,5400.374809,3950.292582,3418.470532,2705.868622,3219.49199,5607.51549,5083.318118,3341.157722,3867.438514,5629.970179,4859.067707,4092.730535,5898.169102,5085.588965,4470.882859,3923.997348,3458.846102,4013.751035,5175.59912,6395.708841,3182.815944,4862.060183,2940.975811,2791.133133,5449.314018,3031.432666,3460.397749,4158.294202,4441.251847,3333.963492,2819.977847,5880.785643,2362.269336,4290.072266,4144.2208,3141.540928,5692.716924,4319.373276,4807.05583,3899.879873,3413.73739,4385.713419,4291.702607,3407.341602,2187.774422,5899.275409,3855.930544,5489.491177,3847.571003,5601.227131,3409.575363,5087.592149,6662.622385],\"yaxis\":\"y\",\"type\":\"scatter\"},{\"hovertemplate\":\"\\u003cb\\u003eOLS trendline\\u003c\\u002fb\\u003e\\u003cbr\\u003eProd = 1065.76 * VR + 2217.75\\u003cbr\\u003eR\\u003csup\\u003e2\\u003c\\u002fsup\\u003e=0.104446\\u003cbr\\u003e\\u003cbr\\u003eVR=%{x}\\u003cbr\\u003eProd=%{y} \\u003cb\\u003e(trend)\\u003c\\u002fb\\u003e\\u003cextra\\u003e\\u003c\\u002fextra\\u003e\",\"legendgroup\":\"\",\"marker\":{\"color\":\"#636efa\",\"symbol\":\"circle\"},\"mode\":\"lines\",\"name\":\"\",\"showlegend\":false,\"x\":[0.93,1.15,1.24,1.28,1.29,1.38,1.43,1.48,1.49,1.5,1.5,1.53,1.54,1.54,1.55,1.55,1.57,1.59,1.6,1.61,1.62,1.64,1.64,1.64,1.67,1.67,1.67,1.67,1.67,1.68,1.69,1.69,1.7,1.7,1.7,1.71,1.71,1.71,1.72,1.72,1.72,1.73,1.73,1.73,1.74,1.74,1.74,1.76,1.76,1.77,1.77,1.77,1.78,1.79,1.8,1.8,1.81,1.82,1.82,1.83,1.84,1.84,1.84,1.84,1.85,1.85,1.86,1.86,1.86,1.87,1.87,1.88,1.88,1.88,1.88,1.89,1.89,1.9,1.9,1.9,1.91,1.91,1.92,1.93,1.93,1.93,1.93,1.93,1.93,1.93,1.93,1.93,1.93,1.94,1.95,1.95,1.95,1.95,1.96,1.96,1.96,1.97,1.97,1.97,1.97,1.97,1.97,1.97,1.97,1.97,1.97,1.98,1.98,1.98,1.98,1.98,1.99,1.99,1.99,2.01,2.01,2.01,2.01,2.03,2.03,2.04,2.04,2.04,2.05,2.05,2.05,2.05,2.06,2.06,2.06,2.07,2.07,2.07,2.08,2.08,2.09,2.09,2.09,2.1,2.1,2.1,2.11,2.11,2.11,2.14,2.15,2.15,2.15,2.15,2.16,2.16,2.16,2.17,2.17,2.18,2.18,2.19,2.2,2.2,2.22,2.23,2.25,2.26,2.27,2.27,2.28,2.28,2.3,2.31,2.32,2.33,2.34,2.35,2.35,2.35,2.37,2.37,2.38,2.39,2.4,2.42,2.43,2.43,2.45,2.45,2.48,2.52,2.54,2.54,2.6,2.6,2.65,2.72,2.77,2.87],\"xaxis\":\"x\",\"y\":[3208.907964428171,3443.374381611001,3539.292461367613,3581.9227190372185,3592.5802834546203,3688.498363211232,3741.7861852982387,3795.0740073852457,3805.7315718026475,3816.3891362200484,3816.3891362200484,3848.361829472253,3859.019393889654,3859.019393889654,3869.6769583070554,3869.6769583070554,3890.992087141858,3912.3072159766607,3922.9647803940625,3933.6223448114633,3944.279909228865,3965.5950380636677,3965.5950380636677,3965.5950380636677,3997.5677313158717,3997.5677313158717,3997.5677313158717,3997.5677313158717,3997.5677313158717,4008.225295733273,4018.8828601506743,4018.8828601506743,4029.5404245680757,4029.5404245680757,4029.5404245680757,4040.1979889854774,4040.1979889854774,4040.1979889854774,4050.8555534028783,4050.8555534028783,4050.8555534028783,4061.51311782028,4061.51311782028,4061.51311782028,4072.170682237681,4072.170682237681,4072.170682237681,4093.485811072484,4093.485811072484,4104.143375489885,4104.143375489885,4104.143375489885,4114.800939907287,4125.458504324688,4136.11606874209,4136.11606874209,4146.773633159491,4157.431197576892,4157.431197576892,4168.088761994293,4178.746326411695,4178.746326411695,4178.746326411695,4178.746326411695,4189.403890829097,4189.403890829097,4200.061455246498,4200.061455246498,4200.061455246498,4210.7190196638985,4210.7190196638985,4221.3765840813,4221.3765840813,4221.3765840813,4221.3765840813,4232.034148498702,4232.034148498702,4242.691712916103,4242.691712916103,4242.691712916103,4253.349277333504,4253.349277333504,4264.006841750906,4274.664406168307,4274.664406168307,4274.664406168307,4274.664406168307,4274.664406168307,4274.664406168307,4274.664406168307,4274.664406168307,4274.664406168307,4274.664406168307,4285.321970585708,4295.979535003109,4295.979535003109,4295.979535003109,4295.979535003109,4306.637099420512,4306.637099420512,4306.637099420512,4317.294663837913,4317.294663837913,4317.294663837913,4317.294663837913,4317.294663837913,4317.294663837913,4317.294663837913,4317.294663837913,4317.294663837913,4317.294663837913,4327.9522282553135,4327.9522282553135,4327.9522282553135,4327.9522282553135,4327.9522282553135,4338.609792672715,4338.609792672715,4338.609792672715,4359.924921507518,4359.924921507518,4359.924921507518,4359.924921507518,4381.2400503423205,4381.2400503423205,4391.897614759722,4391.897614759722,4391.897614759722,4402.555179177123,4402.555179177123,4402.555179177123,4402.555179177123,4413.212743594525,4413.212743594525,4413.212743594525,4423.870308011926,4423.870308011926,4423.870308011926,4434.5278724293275,4434.5278724293275,4445.185436846728,4445.185436846728,4445.185436846728,4455.84300126413,4455.84300126413,4455.84300126413,4466.500565681532,4466.500565681532,4466.500565681532,4498.473258933736,4509.130823351137,4509.130823351137,4509.130823351137,4509.130823351137,4519.788387768538,4519.788387768538,4519.788387768538,4530.445952185939,4530.445952185939,4541.103516603342,4541.103516603342,4551.7610810207425,4562.418645438143,4562.418645438143,4583.733774272947,4594.391338690348,4615.70646752515,4626.364031942552,4637.021596359953,4637.021596359953,4647.679160777354,4647.679160777354,4668.994289612157,4679.651854029558,4690.30941844696,4700.966982864362,4711.624547281763,4722.282111699164,4722.282111699164,4722.282111699164,4743.597240533967,4743.597240533967,4754.254804951368,4764.91236936877,4775.569933786171,4796.885062620973,4807.542627038375,4807.542627038375,4828.857755873178,4828.857755873178,4860.830449125382,4903.460706794987,4924.77583562979,4924.77583562979,4988.721222134198,4988.721222134198,5042.009044221205,5116.611995143015,5169.899817230022,5276.475461404035],\"yaxis\":\"y\",\"type\":\"scatter\"}],                        {\"template\":{\"data\":{\"histogram2dcontour\":[{\"type\":\"histogram2dcontour\",\"colorbar\":{\"outlinewidth\":0,\"ticks\":\"\"},\"colorscale\":[[0.0,\"#0d0887\"],[0.1111111111111111,\"#46039f\"],[0.2222222222222222,\"#7201a8\"],[0.3333333333333333,\"#9c179e\"],[0.4444444444444444,\"#bd3786\"],[0.5555555555555556,\"#d8576b\"],[0.6666666666666666,\"#ed7953\"],[0.7777777777777778,\"#fb9f3a\"],[0.8888888888888888,\"#fdca26\"],[1.0,\"#f0f921\"]]}],\"choropleth\":[{\"type\":\"choropleth\",\"colorbar\":{\"outlinewidth\":0,\"ticks\":\"\"}}],\"histogram2d\":[{\"type\":\"histogram2d\",\"colorbar\":{\"outlinewidth\":0,\"ticks\":\"\"},\"colorscale\":[[0.0,\"#0d0887\"],[0.1111111111111111,\"#46039f\"],[0.2222222222222222,\"#7201a8\"],[0.3333333333333333,\"#9c179e\"],[0.4444444444444444,\"#bd3786\"],[0.5555555555555556,\"#d8576b\"],[0.6666666666666666,\"#ed7953\"],[0.7777777777777778,\"#fb9f3a\"],[0.8888888888888888,\"#fdca26\"],[1.0,\"#f0f921\"]]}],\"heatmap\":[{\"type\":\"heatmap\",\"colorbar\":{\"outlinewidth\":0,\"ticks\":\"\"},\"colorscale\":[[0.0,\"#0d0887\"],[0.1111111111111111,\"#46039f\"],[0.2222222222222222,\"#7201a8\"],[0.3333333333333333,\"#9c179e\"],[0.4444444444444444,\"#bd3786\"],[0.5555555555555556,\"#d8576b\"],[0.6666666666666666,\"#ed7953\"],[0.7777777777777778,\"#fb9f3a\"],[0.8888888888888888,\"#fdca26\"],[1.0,\"#f0f921\"]]}],\"heatmapgl\":[{\"type\":\"heatmapgl\",\"colorbar\":{\"outlinewidth\":0,\"ticks\":\"\"},\"colorscale\":[[0.0,\"#0d0887\"],[0.1111111111111111,\"#46039f\"],[0.2222222222222222,\"#7201a8\"],[0.3333333333333333,\"#9c179e\"],[0.4444444444444444,\"#bd3786\"],[0.5555555555555556,\"#d8576b\"],[0.6666666666666666,\"#ed7953\"],[0.7777777777777778,\"#fb9f3a\"],[0.8888888888888888,\"#fdca26\"],[1.0,\"#f0f921\"]]}],\"contourcarpet\":[{\"type\":\"contourcarpet\",\"colorbar\":{\"outlinewidth\":0,\"ticks\":\"\"}}],\"contour\":[{\"type\":\"contour\",\"colorbar\":{\"outlinewidth\":0,\"ticks\":\"\"},\"colorscale\":[[0.0,\"#0d0887\"],[0.1111111111111111,\"#46039f\"],[0.2222222222222222,\"#7201a8\"],[0.3333333333333333,\"#9c179e\"],[0.4444444444444444,\"#bd3786\"],[0.5555555555555556,\"#d8576b\"],[0.6666666666666666,\"#ed7953\"],[0.7777777777777778,\"#fb9f3a\"],[0.8888888888888888,\"#fdca26\"],[1.0,\"#f0f921\"]]}],\"surface\":[{\"type\":\"surface\",\"colorbar\":{\"outlinewidth\":0,\"ticks\":\"\"},\"colorscale\":[[0.0,\"#0d0887\"],[0.1111111111111111,\"#46039f\"],[0.2222222222222222,\"#7201a8\"],[0.3333333333333333,\"#9c179e\"],[0.4444444444444444,\"#bd3786\"],[0.5555555555555556,\"#d8576b\"],[0.6666666666666666,\"#ed7953\"],[0.7777777777777778,\"#fb9f3a\"],[0.8888888888888888,\"#fdca26\"],[1.0,\"#f0f921\"]]}],\"mesh3d\":[{\"type\":\"mesh3d\",\"colorbar\":{\"outlinewidth\":0,\"ticks\":\"\"}}],\"scatter\":[{\"fillpattern\":{\"fillmode\":\"overlay\",\"size\":10,\"solidity\":0.2},\"type\":\"scatter\"}],\"parcoords\":[{\"type\":\"parcoords\",\"line\":{\"colorbar\":{\"outlinewidth\":0,\"ticks\":\"\"}}}],\"scatterpolargl\":[{\"type\":\"scatterpolargl\",\"marker\":{\"colorbar\":{\"outlinewidth\":0,\"ticks\":\"\"}}}],\"bar\":[{\"error_x\":{\"color\":\"#2a3f5f\"},\"error_y\":{\"color\":\"#2a3f5f\"},\"marker\":{\"line\":{\"color\":\"#E5ECF6\",\"width\":0.5},\"pattern\":{\"fillmode\":\"overlay\",\"size\":10,\"solidity\":0.2}},\"type\":\"bar\"}],\"scattergeo\":[{\"type\":\"scattergeo\",\"marker\":{\"colorbar\":{\"outlinewidth\":0,\"ticks\":\"\"}}}],\"scatterpolar\":[{\"type\":\"scatterpolar\",\"marker\":{\"colorbar\":{\"outlinewidth\":0,\"ticks\":\"\"}}}],\"histogram\":[{\"marker\":{\"pattern\":{\"fillmode\":\"overlay\",\"size\":10,\"solidity\":0.2}},\"type\":\"histogram\"}],\"scattergl\":[{\"type\":\"scattergl\",\"marker\":{\"colorbar\":{\"outlinewidth\":0,\"ticks\":\"\"}}}],\"scatter3d\":[{\"type\":\"scatter3d\",\"line\":{\"colorbar\":{\"outlinewidth\":0,\"ticks\":\"\"}},\"marker\":{\"colorbar\":{\"outlinewidth\":0,\"ticks\":\"\"}}}],\"scattermapbox\":[{\"type\":\"scattermapbox\",\"marker\":{\"colorbar\":{\"outlinewidth\":0,\"ticks\":\"\"}}}],\"scatterternary\":[{\"type\":\"scatterternary\",\"marker\":{\"colorbar\":{\"outlinewidth\":0,\"ticks\":\"\"}}}],\"scattercarpet\":[{\"type\":\"scattercarpet\",\"marker\":{\"colorbar\":{\"outlinewidth\":0,\"ticks\":\"\"}}}],\"carpet\":[{\"aaxis\":{\"endlinecolor\":\"#2a3f5f\",\"gridcolor\":\"white\",\"linecolor\":\"white\",\"minorgridcolor\":\"white\",\"startlinecolor\":\"#2a3f5f\"},\"baxis\":{\"endlinecolor\":\"#2a3f5f\",\"gridcolor\":\"white\",\"linecolor\":\"white\",\"minorgridcolor\":\"white\",\"startlinecolor\":\"#2a3f5f\"},\"type\":\"carpet\"}],\"table\":[{\"cells\":{\"fill\":{\"color\":\"#EBF0F8\"},\"line\":{\"color\":\"white\"}},\"header\":{\"fill\":{\"color\":\"#C8D4E3\"},\"line\":{\"color\":\"white\"}},\"type\":\"table\"}],\"barpolar\":[{\"marker\":{\"line\":{\"color\":\"#E5ECF6\",\"width\":0.5},\"pattern\":{\"fillmode\":\"overlay\",\"size\":10,\"solidity\":0.2}},\"type\":\"barpolar\"}],\"pie\":[{\"automargin\":true,\"type\":\"pie\"}]},\"layout\":{\"autotypenumbers\":\"strict\",\"colorway\":[\"#636efa\",\"#EF553B\",\"#00cc96\",\"#ab63fa\",\"#FFA15A\",\"#19d3f3\",\"#FF6692\",\"#B6E880\",\"#FF97FF\",\"#FECB52\"],\"font\":{\"color\":\"#2a3f5f\"},\"hovermode\":\"closest\",\"hoverlabel\":{\"align\":\"left\"},\"paper_bgcolor\":\"white\",\"plot_bgcolor\":\"#E5ECF6\",\"polar\":{\"bgcolor\":\"#E5ECF6\",\"angularaxis\":{\"gridcolor\":\"white\",\"linecolor\":\"white\",\"ticks\":\"\"},\"radialaxis\":{\"gridcolor\":\"white\",\"linecolor\":\"white\",\"ticks\":\"\"}},\"ternary\":{\"bgcolor\":\"#E5ECF6\",\"aaxis\":{\"gridcolor\":\"white\",\"linecolor\":\"white\",\"ticks\":\"\"},\"baxis\":{\"gridcolor\":\"white\",\"linecolor\":\"white\",\"ticks\":\"\"},\"caxis\":{\"gridcolor\":\"white\",\"linecolor\":\"white\",\"ticks\":\"\"}},\"coloraxis\":{\"colorbar\":{\"outlinewidth\":0,\"ticks\":\"\"}},\"colorscale\":{\"sequential\":[[0.0,\"#0d0887\"],[0.1111111111111111,\"#46039f\"],[0.2222222222222222,\"#7201a8\"],[0.3333333333333333,\"#9c179e\"],[0.4444444444444444,\"#bd3786\"],[0.5555555555555556,\"#d8576b\"],[0.6666666666666666,\"#ed7953\"],[0.7777777777777778,\"#fb9f3a\"],[0.8888888888888888,\"#fdca26\"],[1.0,\"#f0f921\"]],\"sequentialminus\":[[0.0,\"#0d0887\"],[0.1111111111111111,\"#46039f\"],[0.2222222222222222,\"#7201a8\"],[0.3333333333333333,\"#9c179e\"],[0.4444444444444444,\"#bd3786\"],[0.5555555555555556,\"#d8576b\"],[0.6666666666666666,\"#ed7953\"],[0.7777777777777778,\"#fb9f3a\"],[0.8888888888888888,\"#fdca26\"],[1.0,\"#f0f921\"]],\"diverging\":[[0,\"#8e0152\"],[0.1,\"#c51b7d\"],[0.2,\"#de77ae\"],[0.3,\"#f1b6da\"],[0.4,\"#fde0ef\"],[0.5,\"#f7f7f7\"],[0.6,\"#e6f5d0\"],[0.7,\"#b8e186\"],[0.8,\"#7fbc41\"],[0.9,\"#4d9221\"],[1,\"#276419\"]]},\"xaxis\":{\"gridcolor\":\"white\",\"linecolor\":\"white\",\"ticks\":\"\",\"title\":{\"standoff\":15},\"zerolinecolor\":\"white\",\"automargin\":true,\"zerolinewidth\":2},\"yaxis\":{\"gridcolor\":\"white\",\"linecolor\":\"white\",\"ticks\":\"\",\"title\":{\"standoff\":15},\"zerolinecolor\":\"white\",\"automargin\":true,\"zerolinewidth\":2},\"scene\":{\"xaxis\":{\"backgroundcolor\":\"#E5ECF6\",\"gridcolor\":\"white\",\"linecolor\":\"white\",\"showbackground\":true,\"ticks\":\"\",\"zerolinecolor\":\"white\",\"gridwidth\":2},\"yaxis\":{\"backgroundcolor\":\"#E5ECF6\",\"gridcolor\":\"white\",\"linecolor\":\"white\",\"showbackground\":true,\"ticks\":\"\",\"zerolinecolor\":\"white\",\"gridwidth\":2},\"zaxis\":{\"backgroundcolor\":\"#E5ECF6\",\"gridcolor\":\"white\",\"linecolor\":\"white\",\"showbackground\":true,\"ticks\":\"\",\"zerolinecolor\":\"white\",\"gridwidth\":2}},\"shapedefaults\":{\"line\":{\"color\":\"#2a3f5f\"}},\"annotationdefaults\":{\"arrowcolor\":\"#2a3f5f\",\"arrowhead\":0,\"arrowwidth\":1},\"geo\":{\"bgcolor\":\"white\",\"landcolor\":\"#E5ECF6\",\"subunitcolor\":\"white\",\"showland\":true,\"showlakes\":true,\"lakecolor\":\"white\"},\"title\":{\"x\":0.05},\"mapbox\":{\"style\":\"light\"}}},\"xaxis\":{\"anchor\":\"y\",\"domain\":[0.0,1.0],\"title\":{\"text\":\"VR\"}},\"yaxis\":{\"anchor\":\"x\",\"domain\":[0.0,1.0],\"title\":{\"text\":\"Prod\"}},\"legend\":{\"tracegroupgap\":0},\"title\":{\"text\":\"Зависимость добычи газа (Prod) от VR\"}},                        {\"responsive\": true}                    ).then(function(){\n",
              "                            \n",
              "var gd = document.getElementById('f04be8ff-2179-4b69-a07f-f529b1f39177');\n",
              "var x = new MutationObserver(function (mutations, observer) {{\n",
              "        var display = window.getComputedStyle(gd).display;\n",
              "        if (!display || display === 'none') {{\n",
              "            console.log([gd, 'removed!']);\n",
              "            Plotly.purge(gd);\n",
              "            observer.disconnect();\n",
              "        }}\n",
              "}});\n",
              "\n",
              "// Listen for the removal of the full notebook cells\n",
              "var notebookContainer = gd.closest('#notebook-container');\n",
              "if (notebookContainer) {{\n",
              "    x.observe(notebookContainer, {childList: true});\n",
              "}}\n",
              "\n",
              "// Listen for the clearing of the current output cell\n",
              "var outputEl = gd.closest('.output');\n",
              "if (outputEl) {{\n",
              "    x.observe(outputEl, {childList: true});\n",
              "}}\n",
              "\n",
              "                        })                };                            </script>        </div>\n",
              "</body>\n",
              "</html>"
            ]
          },
          "metadata": {}
        }
      ]
    },
    {
      "cell_type": "markdown",
      "source": [
        "**Вывод:**<br>\n",
        "* в датасете 200 записей, 8 признаков (числовой тип);\n",
        "* пропущенные значения отсутствуют;\n",
        "* построенные графики распределение добычи газа в сутки (млн. кубических футов) в зависимости от характеристик скважины данных показали следующие результаты:\n",
        "* график зависимости добычи газа (Prod) от Por (пористости) показал, что более пористые породы связаны с высокой добычей газа;\n",
        "* график зависимости добычи газа (Prod) от Perm (проницаемости) показал, что чем выше проницаемость, тем больше добыча газа;\n",
        "* график зависимости добычи газа (Prod) от AI (акустический импеданс) показал, что при увеличении AI добыча газа уменьшается, т.к. высокий акустический импеданс может свидетельствовать о плотной породе, менее пригодной для добычи;\n",
        "* график зависимости добычи газа (Prod) от Brittle (коэффициент хрупкости) показал, что связь между данными параметрами слабая;\n",
        "* график зависимости добычи газа (Prod) от TOC (общий органический углерод) показал, что породы с низким значения ТОС менее пригодны для добычи газа, а с более высоким значением являются хорошими источниками газа;\n",
        "* график зависимости добычи газа (Prod) от VR (коэффициент отражения витринита) показал, чем выше зрелость органического вещества (VR), тем больше газа может быть добыто."
      ],
      "metadata": {
        "id": "vTqmLiFUXOKS"
      },
      "id": "vTqmLiFUXOKS"
    },
    {
      "cell_type": "markdown",
      "id": "d11cb44f",
      "metadata": {
        "id": "d11cb44f"
      },
      "source": [
        "### Задание 5.1. (2 балла)\n",
        "\n",
        "Постройте корреляционную матрицу факторов, включив в неё целевой признак.\n",
        "\n",
        "Для наглядности визуализируйте полученную матрицу с помощью тепловой карты.\n",
        "\n",
        "**Примечание.** *Для визуализации вы можете использовать любую из знакомых вам библиотек.*\n",
        "\n",
        "На основе построенной корреляционной матрицы ответьте на следующий вопрос:\n",
        "\n",
        "* Какие факторы сильнее всего коррелируют с целевой переменной?\n",
        "\n",
        "Вычислите ранг и определитель полученной матрицы корреляций и приведите развёрнутые ответы на следующие вопросы:\n",
        "* Является ли корреляционная матрица плохо обусловенной (близок ли её опредитель к нулю)?\n",
        "* Что вы можете сказать о наличии коллинераности/мультиколлинеарности в данных?\n",
        "* Применима ли в данном случае модель классической линейной регрессии по методу наименьших квадратов и почему?"
      ]
    },
    {
      "cell_type": "markdown",
      "source": [
        "**Критерии оценивания:**\n",
        "- Задание выполнено верно, учтены все условия (**2 балла**):\n",
        "    * приведён код для расчёта корреляционной матрицы;\n",
        "    * приведён код для визуализации корреляционной матрицы в виде тепловой карты;\n",
        "    * рассчитаны ранг и определитель корреляционной матрицы;\n",
        "    * предоставлены обоснованные ответы на все поставленные вопросы.\n",
        "\n",
        "- Задание выполнено верно, но не учтено одно условие (**1 балл**).\n",
        "- Задание выполнено неверно, не учтено несколько условий (**0 баллов**)."
      ],
      "metadata": {
        "id": "57OjUl5e2oiL"
      },
      "id": "57OjUl5e2oiL"
    },
    {
      "cell_type": "code",
      "source": [
        "# Загружаем данные\n",
        "A = df\n",
        "\n",
        "# Выполняем стандартизацию данных (центрирование и нормализация по стандартному отклонению)\n",
        "A_st = (A - A.mean(axis=0)) / A.std(axis=0)\n",
        "\n",
        "# Вычисляем матрицу корреляции\n",
        "cor_matrix = A_st.corr()\n",
        "\n",
        "# Создаем график - корреляционная матрица признаков\n",
        "plt.figure(figsize=(10, 10))\n",
        "sns.heatmap(cor_matrix, fmt=\".2f\", annot=True, cmap=\"coolwarm\", center=0)\n",
        "plt.title(\"Корреляционная матрица признаков\")\n",
        "plt.show()\n",
        "\n",
        "print(\"Ранг корреляционной матрицы:\", np.linalg.matrix_rank(cor_matrix))\n",
        "print(\"Определитель корреляционной матрицы:\", np.linalg.det(cor_matrix))"
      ],
      "metadata": {
        "colab": {
          "base_uri": "https://localhost:8080/",
          "height": 889
        },
        "id": "-Z0NpzR04Di9",
        "outputId": "379ed6c6-a225-43ac-b8b2-9e8b35ede728"
      },
      "id": "-Z0NpzR04Di9",
      "execution_count": 9,
      "outputs": [
        {
          "output_type": "display_data",
          "data": {
            "text/plain": [
              "<Figure size 1000x1000 with 2 Axes>"
            ],
            "image/png": "[encoded data removed]"
          },
          "metadata": {}
        },
        {
          "output_type": "stream",
          "name": "stdout",
          "text": [
            "Ранг корреляционной матрицы: 8\n",
            "Определитель корреляционной матрицы: 0.000729938807265181\n"
          ]
        }
      ]
    },
    {
      "cell_type": "markdown",
      "id": "9a56013d",
      "metadata": {
        "id": "9a56013d"
      },
      "source": [
        "> **Выводы:**<br>\n",
        "* Пористость (Por) и проницаемость (Perm) скважины имеют наибольшую корреляцию с целевой переменной, что указывает на их сильное влияние на добычу газа;\n",
        "* Ранг корреляционной матрицы составляет 8, что совпадает с количеством факторов, следовательно, все признаки линейно независимы, и матрица является полной по рангу;\n",
        "* Однако определитель матрицы близок к нулю, что говорит о её плохой обусловленности или почти вырожденности;\n",
        "* Несмотря на максимальный ранг, низкий определитель указывает на наличие мультиколлинеарности между признаками;\n",
        "* В таких условиях стандартная линейная регрессия (МНК) плохо подходит для моделирования, так как плохо обусловленные матрицы могут вызывать вычислительные ошибки. При нахождении обратной матрицы возникает риск больших числовых погрешностей, так как элементы обратной матрицы будут стремиться к бесконечности."
      ]
    },
    {
      "cell_type": "markdown",
      "id": "43fd91c4",
      "metadata": {
        "id": "43fd91c4"
      },
      "source": [
        "### Задание 5.2. (2 балла)\n",
        "\n",
        "Создайте матрицу наблюдений `X` и вектор правильных ответов `y`. В качестве факторов для матрицы наблюдений возьмите все имеющиеся в данных признаки.\n",
        "\n",
        "Постройте модель линейной регрессии по методу наименьших квадратов. Для этого воспользуйтесь матричной формулой МНК и инструментарием библиотеки numpy.\n",
        "\n",
        "Выведите на экран полученные оценки коэффициентов модели, округлённые до целого.\n",
        "\n",
        "Приведите подробные выводы по полученным результатам, ответив на следующие вопросы:\n",
        "* Есть ли в ваших данных признаки, которые, согласно модели, можно назвать неинформативными, то есть они не оказывают влияния на целевую переменную или оказывают шумовое влияние?\n",
        "* Приведите интерпретацию нескольких (двух или трёх) коэффициентов полученной модели линейной регрессии.\n"
      ]
    },
    {
      "cell_type": "markdown",
      "source": [
        "**Критерии оценивания:**\n",
        "- Задание выполнено верно, учтены все условия (**2 балла**):\n",
        "    * приведён код для нахождения параметров модели линейной регрессии с помощью матричной формулы МНК;\n",
        "    * на основе полученных параметров даны верные ответы на поставленные вопросы;\n",
        "    * приведена корректная интерпретация нескольких коэффициентов полученной модели линейной регрессии.\n",
        "\n",
        "- Задание выполнено верно, но не учтено одно из условий (**1 балл**).\n",
        "- Задание выполнено неверно, не учтено несколько условий (**0 баллов**)."
      ],
      "metadata": {
        "id": "QtNtTUzI4Cpq"
      },
      "id": "QtNtTUzI4Cpq"
    },
    {
      "cell_type": "code",
      "source": [
        "# Создаём матрицу наблюдений X и вектор целевой переменной y\n",
        "X_ = np.column_stack((\n",
        "    np.ones(df.shape[0]),  # добавляем столбец единиц\n",
        "    df.iloc[:, :-1].values\n",
        "))\n",
        "\n",
        "y_ = df['Prod']  # целевая переменная\n",
        "\n",
        "# Вычисляем OLS-оценку для коэффициентов без стандартизации\n",
        "w_hat_ = np.linalg.inv(X_.T @ X_) @ X_.T @ y_\n",
        "\n",
        "# Составляем датафрейм с округлёнными коэффициентами\n",
        "w_hat_df_ = pd.DataFrame(\n",
        "    data=np.round(w_hat_.astype(int)),\n",
        "    index=np.hstack((['Intercept'], np.array(df.columns[:-1]))),  # создаём индексы для коэффициентов\n",
        "    columns=['Coefficients']  # столбец с названием 'Coefficients'\n",
        ")\n",
        "\n",
        "# Выводим результаты\n",
        "w_hat_, w_hat_df_"
      ],
      "metadata": {
        "colab": {
          "base_uri": "https://localhost:8080/"
        },
        "id": "eJ0u6c0l897G",
        "outputId": "fe2ac984-a6c6-49b6-a1b4-9b6dc96d5d74"
      },
      "id": "eJ0u6c0l897G",
      "execution_count": 10,
      "outputs": [
        {
          "output_type": "execute_result",
          "data": {
            "text/plain": [
              "(array([-1.23230803e+03,  5.07003631e-02,  2.30179140e+02,  1.16239006e+02,\n",
              "        -3.65202301e+02,  2.49943700e+01, -7.84009294e+01,  7.85259815e+02]),\n",
              "            Coefficients\n",
              " Intercept         -1232\n",
              " Well                  0\n",
              " Por                 230\n",
              " Perm                116\n",
              " AI                 -365\n",
              " Brittle              24\n",
              " TOC                 -78\n",
              " VR                  785)"
            ]
          },
          "metadata": {},
          "execution_count": 10
        }
      ]
    },
    {
      "cell_type": "markdown",
      "metadata": {
        "id": "aWVJq5mU6iii"
      },
      "source": [
        "> **Выводы:**<br>\n",
        "* в представленных данных признак Well (идентификатор скважины) является неинформативным, т.к. его коэффициент равен 0, следовательно он не оказывает влияния на целевую переменную.\n",
        "* коэффициент 230 при признаке Por (пористость скважины) показывает прямую зависимость с целевой переменной, т.е. при росте показателя пористости на 1% добыча газа увеличивается на 230 млн.куб.футов.\n",
        "* показатель акустического импендаса оказывает обратный эффект: при его повышении на 1 $кг/м^2 * 10^6$ добыча газа снижается на 365 млн.куб.футов.\n"
      ],
      "id": "aWVJq5mU6iii"
    },
    {
      "cell_type": "markdown",
      "id": "4a05a4ac",
      "metadata": {
        "id": "4a05a4ac"
      },
      "source": [
        "### Задание 5.3. (1 балл)\n",
        "\n",
        "Теперь потренируемся строить предсказание для наблюдений целевой переменной.\n",
        "\n",
        "**а)** Постройте прогноз выработки газа для скважины со следующими параметрами:\n",
        "\n",
        "```python\n",
        "{\n",
        "    'Well': 106.0,\n",
        "    'Por': 15.32,\n",
        "    'Perm': 3.71,\n",
        "    'AI': 3.29,\n",
        "    'Brittle': 55.99,\n",
        "    'TOC': 1.35,\n",
        "    'VR': 2.42\n",
        " }\n",
        "```\n",
        "\n",
        "Рассчитайте абсолютную ошибку построенного вами прогноза для предложенной скважины (в миллионах кубических футов в день), если известно, что на этой скважине производится `4748.315024` миллионов кубических футов газа в день.\n",
        "\n",
        "**б)** Постройте прогноз выработки газа для всех скважин из обучающего набора данных. Выберите метрику, по которой вы будете оценивать качество регрессионных моделей и сравнивать их между собой (можно использовать несколько метрик, но не более двух).\n",
        "\n",
        "Рассчитайте значение выбранной метрики для вашей модели. Приведите интерпретацию полученного результата."
      ]
    },
    {
      "cell_type": "markdown",
      "source": [
        "**Критерии оценивания:**\n",
        "- Задание выполнено верно, учтены все условия (**1 балл**):\n",
        "    * приведён код для построения прогноза выработки газа на указанной скважине и рассчитана абсолютная ошибка прогноза для этой скважины;\n",
        "    * выбрана корректная для поставленной задачи метрика (или метрики) оценки качества модели и приведён код для расчёта этой метрики на всём обучающем наборе данных;\n",
        "    * приведена корректная интерпретация полученного результата.\n",
        "\n",
        "- Задание выполнено верно, но не учтено одно из условий, или задание выполнено неверно (**0 баллов**)."
      ],
      "metadata": {
        "id": "qUDcep5Q5GWU"
      },
      "id": "qUDcep5Q5GWU"
    },
    {
      "cell_type": "code",
      "source": [
        "# Добавляем единичный столбец в X для учета интерсепта (свободного члена)\n",
        "X = np.column_stack((np.ones(len(df)), df.drop('Prod', axis=1).values))\n",
        "\n",
        "# Целевая переменная\n",
        "y = df['Prod'].values  # Преобразуем в одномерный массив\n",
        "\n",
        "# Оценка коэффициентов линейной регрессии (метод наименьших квадратов)\n",
        "w_hat = np.linalg.inv(X.T @ X) @ X.T @ y\n",
        "\n",
        "# Определяем новые входные данные для прогнозирования\n",
        "new_data = {\n",
        "    'Well': 106.0,\n",
        "    'Por': 15.32,\n",
        "    'Perm': 3.71,\n",
        "    'AI': 3.29,\n",
        "    'Brittle': 55.99,\n",
        "    'TOC': 1.35,\n",
        "    'VR': 2.42\n",
        "}\n",
        "\n",
        "# Истинное значение выработки для новой скважины\n",
        "y_new = 4748.315024\n",
        "\n",
        "# Преобразуем новые данные в Pandas DataFrame и добавляем единичный столбец\n",
        "new_data = pd.DataFrame([new_data])\n",
        "new_data = np.array([1] + list(new_data.iloc[0]))  # Добавляем 1 для интерсепта\n",
        "\n",
        "# Предсказание для новой скважины\n",
        "y_pred_new = np.dot(new_data, w_hat)\n",
        "\n",
        "print(f'Прогноз выработки газа, фут^3/день: {y_pred_new:.5f}')\n",
        "print(f'Абсолютная ошибка выработки газа, фут^3/день: {np.round(np.abs(y_new - y_pred_new), 5)}')\n",
        "\n",
        "# Строим прогноз для всего набора данных\n",
        "y_pred = np.dot(X, w_hat)\n",
        "\n",
        "# Вычисляем метрики качества модели\n",
        "mae = mean_absolute_error(y, y_pred)\n",
        "mape = mean_absolute_percentage_error(y, y_pred) * 100  # Переводим в проценты\n",
        "\n",
        "print(f'MAE: {mae:.2f}')\n",
        "print(f'MAPE: {mape:.2f} %')"
      ],
      "metadata": {
        "colab": {
          "base_uri": "https://localhost:8080/"
        },
        "id": "wxD2a84pizqi",
        "outputId": "98c3d2e6-3d85-4f0f-d765-9e2751c58952"
      },
      "id": "wxD2a84pizqi",
      "execution_count": 11,
      "outputs": [
        {
          "output_type": "stream",
          "name": "stdout",
          "text": [
            "Прогноз выработки газа, фут^3/день: 4723.06405\n",
            "Абсолютная ошибка выработки газа, фут^3/день: 25.25097\n",
            "MAE: 153.62\n",
            "MAPE: 3.63 %\n"
          ]
        }
      ]
    },
    {
      "cell_type": "markdown",
      "metadata": {
        "id": "SUvazCO-6_h4"
      },
      "source": [
        "> **Выводы:**<br>\n",
        "1. Прогноз выработки газа для новой скважины - 4723.06405 фут^3/день, при фактическом значении 4748.315024 фут^3/день;\n",
        "2. Абсолютная ошибка выработки газа - 25.25 фут^3/день, ошибка не очень большая, что говорит о высокой точности предсказания для рассматриваемой скважины;\n",
        "3. Средняя абсолютная ошибка (MAE) - 153.62 фут^3/день, ошибка не очень большая, что является приемлемым результатом;\n",
        "4. Средняя абсолютная процентная ошибка (MAPE) - 3.63%, что означает, что\n",
        "в среднем предсказания модели отклоняются от реальных значений всего на 3.63%, что говорит о хорошей точности модели."
      ],
      "id": "SUvazCO-6_h4"
    },
    {
      "cell_type": "markdown",
      "id": "0c25c3aa",
      "metadata": {
        "id": "0c25c3aa"
      },
      "source": [
        "### Задание 5.4. (1 балл)\n",
        "\n",
        "Настало время анализа построенной модели. Посмотрите на коэффициенты и сравните их знаки со значениями выборочных корреляций между целевым признаком и факторами, которые вы нашли ранее.\n",
        "\n",
        "Дайте развёрнутые ответы на следующие вопросы:\n",
        "\n",
        "* Есть ли в вашей модели фактор, при котором коэффициент в модели линейной регрессии противоречит соответствующему коэффициенту корреляции? Например, корреляция говорит, что зависимость между фактором и целевой переменной прямая, а модель говорит обратное. Если таких факторов несколько, укажите их все.\n",
        "* Как вы считаете, с чем связано полученное противоречие результатов?"
      ]
    },
    {
      "cell_type": "markdown",
      "source": [
        "**Критерии оценивания:**\n",
        "\n",
        "- Задание выполнено верно, даны корректные развёрнутые ответы на все поставленные в задании вопросы (**1 балл**).\n",
        "\n",
        "- Задание выполнено неверно, даны некорректные ответы на один или несколько поставленных в задании вопросов (**0 баллов**)."
      ],
      "metadata": {
        "id": "ngJ3UdYb6Ll6"
      },
      "id": "ngJ3UdYb6Ll6"
    },
    {
      "cell_type": "code",
      "source": [
        "# Выведим корреляционную матрицу для всех признаков в датасете, которая поможет выявить взаимосвязи между признаками и целевой переменной (Prod)\n",
        "display(df.corr())\n",
        "\n",
        "# Выведим коэффициенты линейной регрессии без интерсепта (w_0), которые показывают вклад каждого признака в предсказание целевой переменной)\n",
        "print(np.round(w_hat_[1:].T, 2))"
      ],
      "metadata": {
        "id": "v-zIxRPY9wK7",
        "colab": {
          "base_uri": "https://localhost:8080/",
          "height": 336
        },
        "outputId": "053bd727-fefc-4954-d443-51fecc8d5c67"
      },
      "id": "v-zIxRPY9wK7",
      "execution_count": 12,
      "outputs": [
        {
          "output_type": "display_data",
          "data": {
            "text/plain": [
              "             Well       Por      Perm        AI   Brittle       TOC        VR  \\\n",
              "Well     1.000000  0.068927  0.077928  0.041483 -0.079252  0.022624 -0.007279   \n",
              "Por      0.068927  1.000000  0.760546 -0.461549 -0.218570  0.711831  0.111860   \n",
              "Perm     0.077928  0.760546  1.000000 -0.239636 -0.124017  0.471746  0.051023   \n",
              "AI       0.041483 -0.461549 -0.239636  1.000000  0.127599 -0.531864  0.499143   \n",
              "Brittle -0.079252 -0.218570 -0.124017  0.127599  1.000000 -0.214282  0.317929   \n",
              "TOC      0.022624  0.711831  0.471746 -0.531864 -0.214282  1.000000  0.299483   \n",
              "VR      -0.007279  0.111860  0.051023  0.499143  0.317929  0.299483  1.000000   \n",
              "Prod     0.026817  0.861910  0.727426 -0.390835  0.237155  0.654445  0.323182   \n",
              "\n",
              "             Prod  \n",
              "Well     0.026817  \n",
              "Por      0.861910  \n",
              "Perm     0.727426  \n",
              "AI      -0.390835  \n",
              "Brittle  0.237155  \n",
              "TOC      0.654445  \n",
              "VR       0.323182  \n",
              "Prod     1.000000  "
            ],
            "text/html": [
              "\n",
              "  <div id=\"df-ab7c6bfa-64d5-48cf-bb86-79fb4e17c0b2\" class=\"colab-df-container\">\n",
              "    <div>\n",
              "<style scoped>\n",
              "    .dataframe tbody tr th:only-of-type {\n",
              "        vertical-align: middle;\n",
              "    }\n",
              "\n",
              "    .dataframe tbody tr th {\n",
              "        vertical-align: top;\n",
              "    }\n",
              "\n",
              "    .dataframe thead th {\n",
              "        text-align: right;\n",
              "    }\n",
              "</style>\n",
              "<table border=\"1\" class=\"dataframe\">\n",
              "  <thead>\n",
              "    <tr style=\"text-align: right;\">\n",
              "      <th></th>\n",
              "      <th>Well</th>\n",
              "      <th>Por</th>\n",
              "      <th>Perm</th>\n",
              "      <th>AI</th>\n",
              "      <th>Brittle</th>\n",
              "      <th>TOC</th>\n",
              "      <th>VR</th>\n",
              "      <th>Prod</th>\n",
              "    </tr>\n",
              "  </thead>\n",
              "  <tbody>\n",
              "    <tr>\n",
              "      <th>Well</th>\n",
              "      <td>1.000000</td>\n",
              "      <td>0.068927</td>\n",
              "      <td>0.077928</td>\n",
              "      <td>0.041483</td>\n",
              "      <td>-0.079252</td>\n",
              "      <td>0.022624</td>\n",
              "      <td>-0.007279</td>\n",
              "      <td>0.026817</td>\n",
              "    </tr>\n",
              "    <tr>\n",
              "      <th>Por</th>\n",
              "      <td>0.068927</td>\n",
              "      <td>1.000000</td>\n",
              "      <td>0.760546</td>\n",
              "      <td>-0.461549</td>\n",
              "      <td>-0.218570</td>\n",
              "      <td>0.711831</td>\n",
              "      <td>0.111860</td>\n",
              "      <td>0.861910</td>\n",
              "    </tr>\n",
              "    <tr>\n",
              "      <th>Perm</th>\n",
              "      <td>0.077928</td>\n",
              "      <td>0.760546</td>\n",
              "      <td>1.000000</td>\n",
              "      <td>-0.239636</td>\n",
              "      <td>-0.124017</td>\n",
              "      <td>0.471746</td>\n",
              "      <td>0.051023</td>\n",
              "      <td>0.727426</td>\n",
              "    </tr>\n",
              "    <tr>\n",
              "      <th>AI</th>\n",
              "      <td>0.041483</td>\n",
              "      <td>-0.461549</td>\n",
              "      <td>-0.239636</td>\n",
              "      <td>1.000000</td>\n",
              "      <td>0.127599</td>\n",
              "      <td>-0.531864</td>\n",
              "      <td>0.499143</td>\n",
              "      <td>-0.390835</td>\n",
              "    </tr>\n",
              "    <tr>\n",
              "      <th>Brittle</th>\n",
              "      <td>-0.079252</td>\n",
              "      <td>-0.218570</td>\n",
              "      <td>-0.124017</td>\n",
              "      <td>0.127599</td>\n",
              "      <td>1.000000</td>\n",
              "      <td>-0.214282</td>\n",
              "      <td>0.317929</td>\n",
              "      <td>0.237155</td>\n",
              "    </tr>\n",
              "    <tr>\n",
              "      <th>TOC</th>\n",
              "      <td>0.022624</td>\n",
              "      <td>0.711831</td>\n",
              "      <td>0.471746</td>\n",
              "      <td>-0.531864</td>\n",
              "      <td>-0.214282</td>\n",
              "      <td>1.000000</td>\n",
              "      <td>0.299483</td>\n",
              "      <td>0.654445</td>\n",
              "    </tr>\n",
              "    <tr>\n",
              "      <th>VR</th>\n",
              "      <td>-0.007279</td>\n",
              "      <td>0.111860</td>\n",
              "      <td>0.051023</td>\n",
              "      <td>0.499143</td>\n",
              "      <td>0.317929</td>\n",
              "      <td>0.299483</td>\n",
              "      <td>1.000000</td>\n",
              "      <td>0.323182</td>\n",
              "    </tr>\n",
              "    <tr>\n",
              "      <th>Prod</th>\n",
              "      <td>0.026817</td>\n",
              "      <td>0.861910</td>\n",
              "      <td>0.727426</td>\n",
              "      <td>-0.390835</td>\n",
              "      <td>0.237155</td>\n",
              "      <td>0.654445</td>\n",
              "      <td>0.323182</td>\n",
              "      <td>1.000000</td>\n",
              "    </tr>\n",
              "  </tbody>\n",
              "</table>\n",
              "</div>\n",
              "    <div class=\"colab-df-buttons\">\n",
              "\n",
              "  <div class=\"colab-df-container\">\n",
              "    <button class=\"colab-df-convert\" onclick=\"convertToInteractive('df-ab7c6bfa-64d5-48cf-bb86-79fb4e17c0b2')\"\n",
              "            title=\"Convert this dataframe to an interactive table.\"\n",
              "            style=\"display:none;\">\n",
              "\n",
              "  <svg xmlns=\"http://www.w3.org/2000/svg\" height=\"24px\" viewBox=\"0 -960 960 960\">\n",
              "    <path d=\"M120-120v-720h720v720H120Zm60-500h600v-160H180v160Zm220 220h160v-160H400v160Zm0 220h160v-160H400v160ZM180-400h160v-160H180v160Zm440 0h160v-160H620v160ZM180-180h160v-160H180v160Zm440 0h160v-160H620v160Z\"/>\n",
              "  </svg>\n",
              "    </button>\n",
              "\n",
              "  <style>\n",
              "    .colab-df-container {\n",
              "      display:flex;\n",
              "      gap: 12px;\n",
              "    }\n",
              "\n",
              "    .colab-df-convert {\n",
              "      background-color: #E8F0FE;\n",
              "      border: none;\n",
              "      border-radius: 50%;\n",
              "      cursor: pointer;\n",
              "      display: none;\n",
              "      fill: #1967D2;\n",
              "      height: 32px;\n",
              "      padding: 0 0 0 0;\n",
              "      width: 32px;\n",
              "    }\n",
              "\n",
              "    .colab-df-convert:hover {\n",
              "      background-color: #E2EBFA;\n",
              "      box-shadow: 0px 1px 2px rgba(60, 64, 67, 0.3), 0px 1px 3px 1px rgba(60, 64, 67, 0.15);\n",
              "      fill: #174EA6;\n",
              "    }\n",
              "\n",
              "    .colab-df-buttons div {\n",
              "      margin-bottom: 4px;\n",
              "    }\n",
              "\n",
              "    [theme=dark] .colab-df-convert {\n",
              "      background-color: #3B4455;\n",
              "      fill: #D2E3FC;\n",
              "    }\n",
              "\n",
              "    [theme=dark] .colab-df-convert:hover {\n",
              "      background-color: #434B5C;\n",
              "      box-shadow: 0px 1px 3px 1px rgba(0, 0, 0, 0.15);\n",
              "      filter: drop-shadow(0px 1px 2px rgba(0, 0, 0, 0.3));\n",
              "      fill: #FFFFFF;\n",
              "    }\n",
              "  </style>\n",
              "\n",
              "    <script>\n",
              "      const buttonEl =\n",
              "        document.querySelector('#df-ab7c6bfa-64d5-48cf-bb86-79fb4e17c0b2 button.colab-df-convert');\n",
              "      buttonEl.style.display =\n",
              "        google.colab.kernel.accessAllowed ? 'block' : 'none';\n",
              "\n",
              "      async function convertToInteractive(key) {\n",
              "        const element = document.querySelector('#df-ab7c6bfa-64d5-48cf-bb86-79fb4e17c0b2');\n",
              "        const dataTable =\n",
              "          await google.colab.kernel.invokeFunction('convertToInteractive',\n",
              "                                                    [key], {});\n",
              "        if (!dataTable) return;\n",
              "\n",
              "        const docLinkHtml = 'Like what you see? Visit the ' +\n",
              "          '<a target=\"_blank\" href=https://colab.research.google.com/notebooks/data_table.ipynb>data table notebook</a>'\n",
              "          + ' to learn more about interactive tables.';\n",
              "        element.innerHTML = '';\n",
              "        dataTable['output_type'] = 'display_data';\n",
              "        await google.colab.output.renderOutput(dataTable, element);\n",
              "        const docLink = document.createElement('div');\n",
              "        docLink.innerHTML = docLinkHtml;\n",
              "        element.appendChild(docLink);\n",
              "      }\n",
              "    </script>\n",
              "  </div>\n",
              "\n",
              "\n",
              "<div id=\"df-83bc7fde-72bf-4980-a7d5-97119adb98be\">\n",
              "  <button class=\"colab-df-quickchart\" onclick=\"quickchart('df-83bc7fde-72bf-4980-a7d5-97119adb98be')\"\n",
              "            title=\"Suggest charts\"\n",
              "            style=\"display:none;\">\n",
              "\n",
              "<svg xmlns=\"http://www.w3.org/2000/svg\" height=\"24px\"viewBox=\"0 0 24 24\"\n",
              "     width=\"24px\">\n",
              "    <g>\n",
              "        <path d=\"M19 3H5c-1.1 0-2 .9-2 2v14c0 1.1.9 2 2 2h14c1.1 0 2-.9 2-2V5c0-1.1-.9-2-2-2zM9 17H7v-7h2v7zm4 0h-2V7h2v10zm4 0h-2v-4h2v4z\"/>\n",
              "    </g>\n",
              "</svg>\n",
              "  </button>\n",
              "\n",
              "<style>\n",
              "  .colab-df-quickchart {\n",
              "      --bg-color: #E8F0FE;\n",
              "      --fill-color: #1967D2;\n",
              "      --hover-bg-color: #E2EBFA;\n",
              "      --hover-fill-color: #174EA6;\n",
              "      --disabled-fill-color: #AAA;\n",
              "      --disabled-bg-color: #DDD;\n",
              "  }\n",
              "\n",
              "  [theme=dark] .colab-df-quickchart {\n",
              "      --bg-color: #3B4455;\n",
              "      --fill-color: #D2E3FC;\n",
              "      --hover-bg-color: #434B5C;\n",
              "      --hover-fill-color: #FFFFFF;\n",
              "      --disabled-bg-color: #3B4455;\n",
              "      --disabled-fill-color: #666;\n",
              "  }\n",
              "\n",
              "  .colab-df-quickchart {\n",
              "    background-color: var(--bg-color);\n",
              "    border: none;\n",
              "    border-radius: 50%;\n",
              "    cursor: pointer;\n",
              "    display: none;\n",
              "    fill: var(--fill-color);\n",
              "    height: 32px;\n",
              "    padding: 0;\n",
              "    width: 32px;\n",
              "  }\n",
              "\n",
              "  .colab-df-quickchart:hover {\n",
              "    background-color: var(--hover-bg-color);\n",
              "    box-shadow: 0 1px 2px rgba(60, 64, 67, 0.3), 0 1px 3px 1px rgba(60, 64, 67, 0.15);\n",
              "    fill: var(--button-hover-fill-color);\n",
              "  }\n",
              "\n",
              "  .colab-df-quickchart-complete:disabled,\n",
              "  .colab-df-quickchart-complete:disabled:hover {\n",
              "    background-color: var(--disabled-bg-color);\n",
              "    fill: var(--disabled-fill-color);\n",
              "    box-shadow: none;\n",
              "  }\n",
              "\n",
              "  .colab-df-spinner {\n",
              "    border: 2px solid var(--fill-color);\n",
              "    border-color: transparent;\n",
              "    border-bottom-color: var(--fill-color);\n",
              "    animation:\n",
              "      spin 1s steps(1) infinite;\n",
              "  }\n",
              "\n",
              "  @keyframes spin {\n",
              "    0% {\n",
              "      border-color: transparent;\n",
              "      border-bottom-color: var(--fill-color);\n",
              "      border-left-color: var(--fill-color);\n",
              "    }\n",
              "    20% {\n",
              "      border-color: transparent;\n",
              "      border-left-color: var(--fill-color);\n",
              "      border-top-color: var(--fill-color);\n",
              "    }\n",
              "    30% {\n",
              "      border-color: transparent;\n",
              "      border-left-color: var(--fill-color);\n",
              "      border-top-color: var(--fill-color);\n",
              "      border-right-color: var(--fill-color);\n",
              "    }\n",
              "    40% {\n",
              "      border-color: transparent;\n",
              "      border-right-color: var(--fill-color);\n",
              "      border-top-color: var(--fill-color);\n",
              "    }\n",
              "    60% {\n",
              "      border-color: transparent;\n",
              "      border-right-color: var(--fill-color);\n",
              "    }\n",
              "    80% {\n",
              "      border-color: transparent;\n",
              "      border-right-color: var(--fill-color);\n",
              "      border-bottom-color: var(--fill-color);\n",
              "    }\n",
              "    90% {\n",
              "      border-color: transparent;\n",
              "      border-bottom-color: var(--fill-color);\n",
              "    }\n",
              "  }\n",
              "</style>\n",
              "\n",
              "  <script>\n",
              "    async function quickchart(key) {\n",
              "      const quickchartButtonEl =\n",
              "        document.querySelector('#' + key + ' button');\n",
              "      quickchartButtonEl.disabled = true;  // To prevent multiple clicks.\n",
              "      quickchartButtonEl.classList.add('colab-df-spinner');\n",
              "      try {\n",
              "        const charts = await google.colab.kernel.invokeFunction(\n",
              "            'suggestCharts', [key], {});\n",
              "      } catch (error) {\n",
              "        console.error('Error during call to suggestCharts:', error);\n",
              "      }\n",
              "      quickchartButtonEl.classList.remove('colab-df-spinner');\n",
              "      quickchartButtonEl.classList.add('colab-df-quickchart-complete');\n",
              "    }\n",
              "    (() => {\n",
              "      let quickchartButtonEl =\n",
              "        document.querySelector('#df-83bc7fde-72bf-4980-a7d5-97119adb98be button');\n",
              "      quickchartButtonEl.style.display =\n",
              "        google.colab.kernel.accessAllowed ? 'block' : 'none';\n",
              "    })();\n",
              "  </script>\n",
              "</div>\n",
              "    </div>\n",
              "  </div>\n"
            ],
            "application/vnd.google.colaboratory.intrinsic+json": {
              "type": "dataframe",
              "summary": "{\n  \"name\": \"print(np\",\n  \"rows\": 8,\n  \"fields\": [\n    {\n      \"column\": \"Well\",\n      \"properties\": {\n        \"dtype\": \"number\",\n        \"std\": 0.3493745694990437,\n        \"min\": -0.07925236389007449,\n        \"max\": 1.0,\n        \"num_unique_values\": 8,\n        \"samples\": [\n          0.06892650716930902,\n          0.02262431043795967,\n          1.0\n        ],\n        \"semantic_type\": \"\",\n        \"description\": \"\"\n      }\n    },\n    {\n      \"column\": \"Por\",\n      \"properties\": {\n        \"dtype\": \"number\",\n        \"std\": 0.5479136663212599,\n        \"min\": -0.46154937413830893,\n        \"max\": 1.0,\n        \"num_unique_values\": 8,\n        \"samples\": [\n          1.0,\n          0.7118306758116919,\n          0.06892650716930902\n        ],\n        \"semantic_type\": \"\",\n        \"description\": \"\"\n      }\n    },\n    {\n      \"column\": \"Perm\",\n      \"properties\": {\n        \"dtype\": \"number\",\n        \"std\": 0.4603400908542069,\n        \"min\": -0.23963581449371366,\n        \"max\": 1.0,\n        \"num_unique_values\": 8,\n        \"samples\": [\n          0.7605459242862604,\n          0.47174631684108176,\n          0.07792780891929288\n        ],\n        \"semantic_type\": \"\",\n        \"description\": \"\"\n      }\n    },\n    {\n      \"column\": \"AI\",\n      \"properties\": {\n        \"dtype\": \"number\",\n        \"std\": 0.5309000293407239,\n        \"min\": -0.5318635967128338,\n        \"max\": 1.0,\n        \"num_unique_values\": 8,\n        \"samples\": [\n          -0.46154937413830893,\n          -0.5318635967128338,\n          0.0414826184736394\n        ],\n        \"semantic_type\": \"\",\n        \"description\": \"\"\n      }\n    },\n    {\n      \"column\": \"Brittle\",\n      \"properties\": {\n        \"dtype\": \"number\",\n        \"std\": 0.4056815003138288,\n        \"min\": -0.21857029663949573,\n        \"max\": 1.0,\n        \"num_unique_values\": 8,\n        \"samples\": [\n          -0.21857029663949573,\n          -0.2142817704313906,\n          -0.07925236389007449\n        ],\n        \"semantic_type\": \"\",\n        \"description\": \"\"\n      }\n    },\n    {\n      \"column\": \"TOC\",\n      \"properties\": {\n        \"dtype\": \"number\",\n        \"std\": 0.513827177987581,\n        \"min\": -0.5318635967128338,\n        \"max\": 1.0,\n        \"num_unique_values\": 8,\n        \"samples\": [\n          0.7118306758116919,\n          1.0,\n          0.02262431043795967\n        ],\n        \"semantic_type\": \"\",\n        \"description\": \"\"\n      }\n    },\n    {\n      \"column\": \"VR\",\n      \"properties\": {\n        \"dtype\": \"number\",\n        \"std\": 0.32016815734698123,\n        \"min\": -0.007278678268113182,\n        \"max\": 1.0,\n        \"num_unique_values\": 8,\n        \"samples\": [\n          0.11185977924568775,\n          0.299482866262007,\n          -0.007278678268113182\n        ],\n        \"semantic_type\": \"\",\n        \"description\": \"\"\n      }\n    },\n    {\n      \"column\": \"Prod\",\n      \"properties\": {\n        \"dtype\": \"number\",\n        \"std\": 0.4683114772708886,\n        \"min\": -0.39083476681722223,\n        \"max\": 1.0,\n        \"num_unique_values\": 8,\n        \"samples\": [\n          0.8619095390498694,\n          0.6544451995719837,\n          0.02681677681635362\n        ],\n        \"semantic_type\": \"\",\n        \"description\": \"\"\n      }\n    }\n  ]\n}"
            }
          },
          "metadata": {}
        },
        {
          "output_type": "stream",
          "name": "stdout",
          "text": [
            "[ 5.0000e-02  2.3018e+02  1.1624e+02 -3.6520e+02  2.4990e+01 -7.8400e+01\n",
            "  7.8526e+02]\n"
          ]
        }
      ]
    },
    {
      "cell_type": "markdown",
      "source": [
        "> **Выводы:**<br>\n",
        "1. Анализ корреляционной матрицы показал насколько сильно переменные связаны между собой и с целевой переменной Prod (добыча газа в сутки).\n",
        "Согласно полученным результатам:\n",
        "* параметр Por (пористость скважины) имеет самую высокую корреляция с Prod (0.86), т.е. увеличение пористости приводит к увеличению добычи газа;\n",
        "* параметр Por (пористость скважины) имеет высокую корреляцию с параметрами Perm (0.76) и TOC (0.71), таким образом данные параметры тоже могут влиять на добычу газа;\n",
        "* параметр Perm (проницаемость скважины) имеет высокую корреляция с Prod (0.73), т.е более проницаемые пласты способствуют более высокой добыче газа;\n",
        "* параметр AI (акустический импеданс) имеет отрицательную связь с Prod (-0.39), т.е высокий акустический импеданс может свидетельствовать о плотной породе, менее пригодной для добычи газа;\n",
        "* параметр Brittle (коэффициент хрупкости скважины) имеет слабую положительную связь с Prod (0.24), т.е более хрупкие породы могут немного увеличивать добычу газа;\n",
        "* параметр TOC (общий органический углерод) имеет положительную связь с Prod (0.65), т.к породы с более высоким значением ТОС являются хорошими источниками газа;\n",
        "* параметр VR (коэффициент отражения витринита) имеет положительную связь с Prod (0.32), т.е чем выше зрелость органического вещества (VR), тем больше газа может быть добыто.\n",
        "\n",
        "2. Анализ коэффициентов линейной регрессии (w_hat_) показывает вклад каждого признака в предсказание целевой переменной Prod.\n",
        "Солгласно полученным результатам:\n",
        "* параметр Por (пористость скважины) имеет очень сильное влияние на Prod, т.е. увеличение пористости приводит к увеличению добычи газа;\n",
        "* параметр Perm (проницаемость скважины) имеет значительное влияние на Prod, т.е рост проницаемости увеличивает добычу газа;\n",
        "* параметр AI (акустический импеданс) имеет сильное отрицательное влияние на Prod, т.е рост AI снижает добычу газа;\n",
        "* параметр Brittle (коэффициент хрупкости скважины) имеет незначительное влияние на Prod;\n",
        "* параметр TOC (общий органический углерод) имеет отрицательное влияние на на Prod, что противоречит данным полученным на основе анализа корреляционной матрицы, где влияние положительное и зависимость между ТОС и целевой переменной Prod прямая. Таким образом, данное противоречие показывает, что присутствует мультиколлинеарность между признаками;\n",
        "* параметр VR (коэффициент отражения витринита) имеет самое сильное влияние, т.к рост VR сильно увеличивает добычу газа.\n"
      ],
      "metadata": {
        "id": "qeowwIp99yBf"
      },
      "id": "qeowwIp99yBf"
    },
    {
      "cell_type": "markdown",
      "id": "9cea9195",
      "metadata": {
        "id": "9cea9195"
      },
      "source": [
        "### Задание 5.5. (2 балла)\n",
        "\n",
        "* Исключите из данных сильно коррелированные между собой факторы. Под сильной корреляцией в данной задаче будем понимать значения выше `0.7`.\n",
        "\n",
        "Выбирая, какой из коррелированных факторов оставить, руководствуйтесь коэффициентом корреляции с целевой переменной: оставляйте тот фактор, который больше всего коррелирует с целевой переменной (объёмом добычи газа).\n",
        "\n",
        "* Также исключите из данных факторы, для которых корреляция с целевой переменной меньше `0.05`.\n",
        "\n",
        "Постройте модель линейной регрессии на обновлённых после удаления факторов данных по методу наименьших квадратов. Для этого используйте матричную формулу и библиотеку numpy. Выведите значение полученных коэффициентов, округлённых до целого.\n",
        "\n",
        "Сделайте прогноз для всего обучающего набора данных и рассчитайте выбранную вами ранее метрику (или метрики).\n",
        "\n",
        "Дайте подробные ответы на следующие вопросы:\n",
        "\n",
        "* Приведите интерпретацию нескольких полученных коэффициентов (двух или трёх). Сравните их значения с полученными ранее.\n",
        "* Приведите интерпретацию полученных значений метрик. Сравните их значения с полученными ранее.\n",
        "* Удалось ли вам побороть противоречие коэффициентов линейной регрессии и коэффициентов корреляции?"
      ]
    },
    {
      "cell_type": "markdown",
      "source": [
        "**Критерии оценивания:**\n",
        "- Задание выполнено верно, учтены все условия (**2 балла**):\n",
        "    * отобраны верные факторы;\n",
        "    * на основе отобранных факторов построена модель линейной регрессии с помощью матричной формулы МНК и найдены параметры модели, соответствующие каждому из факторов;\n",
        "    * построен прогноз для всего обучающего набора данных и рассчитано значение метрики (метрика должна быть выбрана корректно);\n",
        "    * даны ответы на все поставленные в задании вопросы.\n",
        "\n",
        "- Задание выполнено верно, но не учтено одно из условий (**1 балл**).\n",
        "- Задание выполнено верно, не учтено несколько из условий (**0 баллов**)."
      ],
      "metadata": {
        "id": "vlUYVjJP6oXN"
      },
      "id": "vlUYVjJP6oXN"
    },
    {
      "cell_type": "code",
      "source": [
        "# Формируем матрицу наблюдений X_1 и целевую переменную y_1\n",
        "X_1 = np.column_stack((np.ones(df.shape[0]), df.drop(['Prod', 'Well', 'Perm', 'TOC'], axis=1)))\n",
        "y_1 = df[['Prod']]\n",
        "\n",
        "# Вычисляем вектор коэффициентов методом наименьших квадратов (OLS)\n",
        "w_hat_1 = np.linalg.inv(X_1.T @ X_1) @ X_1.T @ y_1\n",
        "print(\"Коэффициенты линейной регрессии:\")\n",
        "print(np.round(w_hat_1).astype(int))\n",
        "\n",
        "# Делаем прогноз для всех данных\n",
        "y_pred_1 = X_1 @ w_hat_1\n",
        "\n",
        "# Вычисляем метрики качества модели\n",
        "mae = mean_absolute_error(y, y_pred_1)\n",
        "mape_score = mean_absolute_percentage_error(y_1, y_pred_1) * 100\n",
        "print(f'MAE: {mae:.2f}')\n",
        "print(f'MAPE score: {mape_score:.1f} %')\n",
        "\n",
        "# Выводим корреляционную матрицу оставшихся признаков\n",
        "print(\"\\nКорреляционная матрица оставшихся признаков:\")\n",
        "print(df.drop(['Well', 'Perm', 'TOC'], axis=1).corr())\n",
        "\n",
        "# Выводим коэффициенты без intercept\n",
        "print(\"\\nКоэффициенты без intercept:\")\n",
        "print(np.round(w_hat_1[1:].T.astype(int)))"
      ],
      "metadata": {
        "id": "5d5ZJ0lX_UHe",
        "colab": {
          "base_uri": "https://localhost:8080/"
        },
        "outputId": "6726c768-0305-49be-e78a-cee5b743beaa"
      },
      "id": "5d5ZJ0lX_UHe",
      "execution_count": 13,
      "outputs": [
        {
          "output_type": "stream",
          "name": "stdout",
          "text": [
            "Коэффициенты линейной регрессии:\n",
            "   Prod\n",
            "0 -1835\n",
            "1   293\n",
            "2  -200\n",
            "3    28\n",
            "4   517\n",
            "MAE: 171.43\n",
            "MAPE score: 4.0 %\n",
            "\n",
            "Корреляционная матрица оставшихся признаков:\n",
            "              Por        AI   Brittle        VR      Prod\n",
            "Por      1.000000 -0.461549 -0.218570  0.111860  0.861910\n",
            "AI      -0.461549  1.000000  0.127599  0.499143 -0.390835\n",
            "Brittle -0.218570  0.127599  1.000000  0.317929  0.237155\n",
            "VR       0.111860  0.499143  0.317929  1.000000  0.323182\n",
            "Prod     0.861910 -0.390835  0.237155  0.323182  1.000000\n",
            "\n",
            "Коэффициенты без intercept:\n",
            "        1    2   3    4\n",
            "Prod  293 -200  27  517\n"
          ]
        }
      ]
    },
    {
      "cell_type": "markdown",
      "source": [
        "> **Выводы:**<br>\n",
        "В результате исключения сильно коррелированных между собой признаков получили следующие результаты:\n",
        "1. Анализ корреляционной матрицы оставшихся признаков:\n",
        "* параметр Por (пористость скважины) имеет самую высокую корреляция с Prod (0.86), т.е. увеличение пористости приводит к увеличению добычи газа;\n",
        "* параметр AI (акустический импеданс) имеет отрицательную связь с Prod (-0.39), т.е высокий акустический импеданс может свидетельствовать о плотной породе, менее пригодной для добычи газа;\n",
        "* параметр Brittle (коэффициент хрупкости скважины) имеет слабую положительную связь с Prod (0.24), т.е более хрупкие породы могут немного увеличивать добычу газа;\n",
        "* параметр VR (коэффициент отражения витринита) имеет положительную связь с Prod (0.32), т.е чем выше зрелость органического вещества (VR), тем больше газа может быть добыто.\n",
        "2. Анализ коэффициентов линейной регрессии:\n",
        "* параметр Por (пористость скважины) имеет очень сильное влияние на Prod, т.е. увеличение пористости приводит к увеличению добычи газа;\n",
        "* параметр AI (акустический импеданс) имеет сильное отрицательное влияние на Prod, т.е рост AI снижает добычу газа, в ранее рассчитаной модели коэффицент был меньше и составлял -365 (сейчас -200).\n",
        "* параметр Brittle (коэффициент хрупкости скважины) имеет незначительное влияние на Prod, в ранее рассчитаной модели коэффицент был меньше и составлял 24 (сейчас 27);\n",
        "* параметр VR (коэффициент отражения витринита) имеет самое сильное влияние, т.к рост VR сильно увеличивает добычу газа, в ранее рассчитаной модели коэффицент был больше и составлял 785 (сейчас 517);\n",
        "3. Средняя абсолютная ошибка (MAE) увеличилась стало 171.43 фут^3/день, было 153.62 фут^3/день, ошибка не очень большая, что является приемлемым результатом;\n",
        "4. Средняя абсолютная процентная ошибка (MAPE) также увеличилась стало 4,0%, было 3.63%, что означает, что в среднем предсказания модели отклоняются от реальных значений всего на 4%, что говорит о хорошей точности модели."
      ],
      "metadata": {
        "id": "KxbYvMDo_WLe"
      },
      "id": "KxbYvMDo_WLe"
    },
    {
      "cell_type": "markdown",
      "id": "7d50db12",
      "metadata": {
        "id": "7d50db12"
      },
      "source": [
        "### Задание 5.6. (1 балл)\n",
        "\n",
        "Наконец, давайте построим модель линейной регрессии из библиотеки `scikit-learn (sklearn)` и сравним результаты её работы с теми, что нам удалось получить вручную.\n",
        "\n",
        "Постройте модель линейной регрессии на обновлённых после удаления факторов данных по методу наименьших квадратов. Для этого воспользуйтесь классом `LinearRegression` из библиотеки `sklearn`. Выведите значения полученных коэффициентов, округлённые до целого.\n",
        "\n",
        "Сделайте прогноз для всего обучающего набора данных и рассчитайте значение выбранной вами метрики (или метрик).\n",
        "\n",
        "Сравните результаты библиотечной реализации с тем, что вы получили ранее."
      ]
    },
    {
      "cell_type": "markdown",
      "source": [
        "**Критерии оценивания:**\n",
        "\n",
        "- Задание выполнено верно, учтены все условия (**1 балл**):\n",
        "    * на основе отобранных факторов построена модель линейной регрессии из библиотеки sklearn и найдены параметры модели, соответствующие каждому из факторов;\n",
        "    * построен прогноз для всего обучающего набора данных и рассчитано значение метрики (метрика должна быть выбрана корректно);\n",
        "    * приведён вывод о соответствии результатов, полученных вручную и с помощью библиотеки.\n",
        "- Задание выполнено неверно, не учтено одно или несколько условий (**0 баллов**)."
      ],
      "metadata": {
        "id": "emu5D3w278JP"
      },
      "id": "emu5D3w278JP"
    },
    {
      "cell_type": "code",
      "source": [
        "# Формируем матрицу признаков X, удаляя ненужные колонки, и целевую переменную y\n",
        "X = df.drop(['Prod', 'Perm', 'TOC', 'Well'], axis=1)\n",
        "y = df['Prod'].values\n",
        "\n",
        "# Создаём и обучаем модель линейной регрессии из sklearn\n",
        "LR = LinearRegression()\n",
        "LR.fit(X, y)\n",
        "\n",
        "# Делаем предсказание\n",
        "y_pred = LR.predict(X)\n",
        "\n",
        "# Вычисляем метрики качества модели\n",
        "mae = mean_absolute_error(y, y_pred)\n",
        "mape = mean_absolute_percentage_error(y, y_pred) * 100  # В процентах\n",
        "\n",
        "# Выводим полученные коэффициенты модели, округляя до целого числа\n",
        "print(\"Коэффициенты модели sklearn:\", np.round(LR.coef_).astype(int))\n",
        "\n",
        "# Выводим коэффициенты из ранее рассчитанной модели без intercept\n",
        "print(\"Коэффициенты из ранее рассчитанной модели (без intercept):\", np.round(w_hat_1[1:]).astype(int))\n",
        "\n",
        "# Выводим метрики\n",
        "print(f\"MAE: {mae:.2f}\")\n",
        "print(f\"MAPE score: {mape:.1f} %\")\n"
      ],
      "metadata": {
        "id": "Gpdpfq59AKGu",
        "colab": {
          "base_uri": "https://localhost:8080/"
        },
        "outputId": "b3fcd0e1-5ad7-455c-ea7d-b577c82b3dc1"
      },
      "id": "Gpdpfq59AKGu",
      "execution_count": 14,
      "outputs": [
        {
          "output_type": "stream",
          "name": "stdout",
          "text": [
            "Коэффициенты модели sklearn: [ 293 -200   28  517]\n",
            "Коэффициенты из ранее рассчитанной модели (без intercept):    Prod\n",
            "1   293\n",
            "2  -200\n",
            "3    28\n",
            "4   517\n",
            "MAE: 171.43\n",
            "MAPE score: 4.0 %\n"
          ]
        }
      ]
    },
    {
      "cell_type": "markdown",
      "source": [
        "> **Выводы:**<br>\n",
        "В результате мы получили идентичные результаты с предыдущим шагом, что свидетельствует о равнозначности ручного расчёта и использования библиотечной реализации."
      ],
      "metadata": {
        "id": "WT9cdHAbAMG7"
      },
      "id": "WT9cdHAbAMG7"
    },
    {
      "cell_type": "markdown",
      "id": "5346338e",
      "metadata": {
        "id": "5346338e"
      },
      "source": [
        "## Практика: полиномиальная регрессия и регуляризация"
      ]
    },
    {
      "cell_type": "markdown",
      "id": "aad9e3a6",
      "metadata": {
        "id": "aad9e3a6"
      },
      "source": [
        "Мы продолжаем работать над задачей от владельца компании «Газ-Таз-Ваз-Нефть» Василия.\n",
        "\n",
        "Ранее мы построили модель линейной регрессии, которая прогнозирует выработку газа на скважине. Для этого мы с помощью матрицы корреляций и рассуждений отобрали некоррелированные, значимые для предсказания признаки. **Далее мы будем использовать именно их (см. задание 5.5).**\n",
        "\n",
        "Мы хотим улучшить результат — уменьшить ошибку прогноза. Для этого мы воспользуемся моделью полиномиальной регрессии третьей степени. Однако теперь мы знаем, что полиномиальным моделям очень легко переобучиться под исходную выборку. Так как данных у нас не так много (всего 200 скважин), то для контроля качества модели мы будем использовать кросс-валидацию.\n",
        "\n",
        "Приступим! Выполните задания 8.1–8.5:\n"
      ]
    },
    {
      "cell_type": "code",
      "execution_count": 15,
      "id": "18506d1b",
      "metadata": {
        "id": "18506d1b"
      },
      "outputs": [],
      "source": [
        "# Импорт необходимых библиотек\n",
        "from sklearn.preprocessing import PolynomialFeatures, StandardScaler\n",
        "from sklearn.linear_model import LinearRegression, Lasso, Ridge, ElasticNet\n",
        "from sklearn.model_selection import GridSearchCV\n",
        "from sklearn.model_selection import cross_validate"
      ]
    },
    {
      "cell_type": "markdown",
      "id": "bfbfea8d",
      "metadata": {
        "id": "bfbfea8d"
      },
      "source": [
        "### Задание 8.1. (1 балл)\n",
        "\n",
        "Стандаризируйте признаки с помощью `StandartScaler` из библиотеки `sklearn`.\n",
        "\n",
        "Затем сгенерируйте полиномиальные признаки третьего порядка на факторах, которые вы выбрали для обучения моделей. Для этого воспользуйтесь генератором полиномов `PolynomialFeatures` из библиотеки `sklearn`. Параметр `include_bias` установите в значение `False`.\n",
        "\n",
        "Выведите на экран, сколько факторов у вас получилось после генерации полиномиальных признаков.\n",
        "\n",
        "**Важно:** стандартизацию необходимо произвести до генерации полиномиальных факторов!\n",
        "\n",
        "Обучите модель линейной регрессии из библиотеки `sklearn` (`LinearRegression`) на полученных полиномиальных факторах.\n",
        "\n",
        "Используя кросс-валидацию оцените среднее значение выбранной вами метрики (или метрик) на тренировочных и валидационных фолдах.\n",
        "\n",
        "Проинтерпретируйте полученные результаты."
      ]
    },
    {
      "cell_type": "markdown",
      "source": [
        "**Критерии оценивания:**\n",
        "\n",
        "- Задание выполнено верно, учтены все условия (**1 балл**):\n",
        "    * на основе отобранных факторов сгенерированы полиномиальные признаки третьего порядка;\n",
        "    * построена модель полиномиальной регрессии (линейной регрессии на полиномиальных признаках);\n",
        "    * с помощью кросс-валидации оценено среднее значение выбранной студентом метрики (или метрик) на тренировочных и валидационных фолдах (метрика должна быть выбрана корректно).\n",
        "- Задание выполнено неверно, не учтено одно или несколько из условий (**0 баллов**)."
      ],
      "metadata": {
        "id": "Y8oAhQkr8gV-"
      },
      "id": "Y8oAhQkr8gV-"
    },
    {
      "cell_type": "code",
      "source": [
        "# Инициализируем стандартизатор StandardScaler\n",
        "scaler = StandardScaler()\n",
        "\n",
        "# Проводим нормализацию данных\n",
        "X_scaled = scaler.fit_transform(X)\n",
        "\n",
        "# Создаём полиномиальные признаки степени 3\n",
        "poly = PolynomialFeatures(degree=3, include_bias=False)\n",
        "X_poly = poly.fit_transform(X_scaled)  # Генерация новых полиномиальных признаков\n",
        "print(f'Размерность X_poly после трансформации: {X_poly.shape}')\n",
        "\n",
        "# Обучаем модель линейной регрессии на полиномиальных признаках\n",
        "LR = LinearRegression()\n",
        "LR.fit(X_poly, y)\n",
        "\n",
        "# Оцениваем качество модели с помощью кросс-валидации (5 фолдов)\n",
        "cv_results = cross_validate(\n",
        "    LR, X_poly, y, scoring=['neg_mean_absolute_percentage_error', 'neg_mean_absolute_error'], cv=5, return_train_score=True\n",
        ")\n",
        "\n",
        "# Рассчитываем средние метрики MAPE и MAE на обучающей и валидационной выборках\n",
        "LR_train_mape = round(-cv_results['train_neg_mean_absolute_percentage_error'].mean() * 100, 2)\n",
        "LR_test_mape = round(-cv_results['test_neg_mean_absolute_percentage_error'].mean() * 100, 2)\n",
        "LR_train_mae = round(-cv_results['train_neg_mean_absolute_error'].mean(), 2)\n",
        "LR_test_mae = round(-cv_results['test_neg_mean_absolute_error'].mean(), 2)\n",
        "print(f'MAPE на тренировочных фолдах: {LR_train_mape:.2f}%')\n",
        "print(f'MAPE на валидационных фолдах: {LR_test_mape:.2f}%')\n",
        "print(f'MAE на тренировочных фолдах: {LR_train_mae:.2f}')\n",
        "print(f'MAE на валидационных фолдах: {LR_test_mae:.2f}')"
      ],
      "metadata": {
        "id": "-ln3bx8NFNRw",
        "colab": {
          "base_uri": "https://localhost:8080/"
        },
        "outputId": "f8bf34c9-5efb-4d64-b4b4-880b94827d37"
      },
      "id": "-ln3bx8NFNRw",
      "execution_count": 16,
      "outputs": [
        {
          "output_type": "stream",
          "name": "stdout",
          "text": [
            "Размерность X_poly после трансформации: (200, 34)\n",
            "MAPE на тренировочных фолдах: 1.77%\n",
            "MAPE на валидационных фолдах: 2.68%\n",
            "MAE на тренировочных фолдах: 75.35\n",
            "MAE на валидационных фолдах: 110.47\n"
          ]
        }
      ]
    },
    {
      "cell_type": "markdown",
      "source": [
        "> **Выводы:**<br>\n",
        "1. После создания полиномиальных признаков размерность данных увеличилась с исходного количества (8 признаков) до 34 признаков, что говорит нам о том, что модель теперь использует более сложные зависимости между признаками.\n",
        "2. Анализ качества модели на обучающих и валидационных данных показал, что\n",
        "разница между тренировочным и тестовым MAPE (1.77% => 2.68%) и MAE (75.35 => 110.47) относительно небольшая, что говорит о достаточно хорошем балансе модели.Если сравнивать ранее полученные результаты и нынешние значения метрик, то переход к стандартизованным полиномиальным коэффициентам значительно улучшил модель и сократил перетренированность модели."
      ],
      "metadata": {
        "id": "9DkuuLLtFPPy"
      },
      "id": "9DkuuLLtFPPy"
    },
    {
      "cell_type": "markdown",
      "id": "63d06013",
      "metadata": {
        "id": "63d06013"
      },
      "source": [
        "### Задание 8.2. (2 балла)\n",
        "\n",
        "Теперь попробуем воспользоваться линейной регрессией с регуляризацией. Для начала возьмём $L_1$-регуляризацию.\n",
        "\n",
        "Обучите модель `Lasso` из библиотеки `sklearn` на полученных полиномиальных факторах, предварительно стандартизировав факторы.\n",
        "\n",
        "Коэффициент регуляризации (`alpha`) подберите самостоятельно с помощью любого известного вам метода подбора гиперпаметров.\n",
        "\n",
        "Используя кросс-валидацию, оцените среднее значение выбранной вами метрики (или метрик) на тренировочных и валидационных фолдах.\n",
        "\n",
        "Проинтерпретируйте полученные результаты."
      ]
    },
    {
      "cell_type": "markdown",
      "source": [
        "**Критерии оценивания:**\n",
        "\n",
        "- Задание выполнено верно, учтены все условия (**2 балла**):\n",
        "    * правильно построена модель полиномиальной регрессии (линейной регрессии на полиномиальных признаках) с регуляризацией (Lasso), учтены условия необходимости масштабирования факторов для построения модели;\n",
        "    * приведён код для подбора параметра регуляризации (вручную или с помощью библиотечных инструментов);\n",
        "    * с помощью кросс-валидации оценено среднее значение выбранной студентом метрики (или метрик) на тренировочных и валидационных фолдах (метрика должна быть выбрана корректно).\n",
        "\n",
        "- Задание выполнено верно, но не учтено одно из условий (**1 балл**).\n",
        "- Задание выполнено неверно, не учтено несколько условий (**0 баллов**)."
      ],
      "metadata": {
        "id": "z24YUfuA9rUq"
      },
      "id": "z24YUfuA9rUq"
    },
    {
      "cell_type": "code",
      "source": [
        "# Определяем сетку гиперпараметров для Lasso-регрессии (значения альфа)\n",
        "param = {'alpha': [0.1, 0.2, 0.3, 1, 1.5, 2, 2.5, 3, 3.5, 4, 5, 10, 15, 20]}\n",
        "\n",
        "# Инициализируем модель Lasso\n",
        "lasso = Lasso()\n",
        "\n",
        "# Настраиваем GridSearchCV для подбора оптимального параметра alpha\n",
        "grid_search = GridSearchCV(\n",
        "    estimator=lasso,\n",
        "    param_grid=param,\n",
        "    scoring='neg_mean_absolute_percentage_error',\n",
        "    cv=5,\n",
        "    n_jobs=-1\n",
        ")\n",
        "\n",
        "# Обучаем модель на полиномиальных признаках\n",
        "grid_search.fit(X_poly, y)\n",
        "\n",
        "# Выводим лучший найденный параметр alpha\n",
        "best_alpha = grid_search.best_params_['alpha']\n",
        "print(\"Оптимальное значение alpha:\", best_alpha)\n",
        "\n",
        "# Обучаем Lasso-регрессию с найденным значением alpha\n",
        "lasso = Lasso(alpha=best_alpha)\n",
        "lasso.fit(X_poly, y)\n",
        "\n",
        "# Оцениваем модель с помощью кросс-валидации\n",
        "cv_results = cross_validate(\n",
        "    lasso, X_poly, y,\n",
        "    scoring=['neg_mean_absolute_percentage_error', 'neg_mean_absolute_error'],\n",
        "    cv=5, return_train_score=True\n",
        ")\n",
        "\n",
        "# Вычисляем MAPE и MAE на обучающей и валидационной выборках\n",
        "lasso_train_mape = round(-cv_results['train_neg_mean_absolute_percentage_error'].mean() * 100, 3)\n",
        "lasso_test_mape = round(-cv_results['test_neg_mean_absolute_percentage_error'].mean() * 100, 3)\n",
        "lasso_train_mae = round(-cv_results['train_neg_mean_absolute_error'].mean(), 3)\n",
        "lasso_test_mae = round(-cv_results['test_neg_mean_absolute_error'].mean(), 3)\n",
        "print(f'MAPE на тренировочных фолдах: {lasso_train_mape:.2f}%')\n",
        "print(f'MAPE на валидационных фолдах: {lasso_test_mape:.2f}%')\n",
        "print(f'MAE на тренировочных фолдах: {lasso_train_mae:.2f}')\n",
        "print(f'MAE на валидационных фолдах: {lasso_test_mae:.2f}')\n"
      ],
      "metadata": {
        "id": "IJ5b5G8qFz-r",
        "colab": {
          "base_uri": "https://localhost:8080/"
        },
        "outputId": "8682408f-4751-4bb2-f204-5d31f1be91bb"
      },
      "id": "IJ5b5G8qFz-r",
      "execution_count": 18,
      "outputs": [
        {
          "output_type": "stream",
          "name": "stdout",
          "text": [
            "Оптимальное значение alpha: 5\n",
            "MAPE на тренировочных фолдах: 1.83%\n",
            "MAPE на валидационных фолдах: 2.28%\n",
            "MAE на тренировочных фолдах: 78.30\n",
            "MAE на валидационных фолдах: 95.69\n"
          ]
        }
      ]
    },
    {
      "cell_type": "markdown",
      "source": [
        "> **Выводы:**<br>\n",
        "1. Найдено оптимальное значение коэффициента регуляризации (alpha) = 5  методом GridSearchCV, которое обеспечивает наилучший баланс между точностью модели и регуляризацией.\n",
        "2.  Анализ качества модели на тренировочных и валидационных данных показал, что\n",
        "разница между тренировочным и валидационном MAPE (1.83% => 2.28%) и MAE (78.30 => 95.69) относительно небольшая, что говорит о достаточно хорошем балансе модели.\n",
        "3. Полиномиальная регрессия с L1-регуляризацией ухудшила нашу метрику на тренировочном наборе данных (по сравнению с предыдущим шагом), но в то же время улучшила на валидационных данных, т.е сократилась разница между метриками."
      ],
      "metadata": {
        "id": "Se0OGR8UF2Td"
      },
      "id": "Se0OGR8UF2Td"
    },
    {
      "cell_type": "markdown",
      "id": "2975ae60",
      "metadata": {
        "id": "2975ae60"
      },
      "source": [
        "### Задание 8.3. (2 балла)\n",
        "\n",
        "Проделаем то же самое с $L_2$-регуляризацией.\n",
        "\n",
        "Обучите модель `Ridge` из библиотеки `sklearn` на полученных полиномиальных факторах, предварительно стандартизировав факторы.\n",
        "\n",
        "Коэффициент регуляризации (`alpha`) подберите самостоятельно с помощью любого известного вам метода подбора гиперпаметров.\n",
        "\n",
        "Используя кросс-валидацию оцените среднее значение выбранной вами метрики (или метрик) на тренировочных и валидационных фолдах.\n",
        "\n",
        "Проинтерпретируйте полученные результаты."
      ]
    },
    {
      "cell_type": "markdown",
      "source": [
        "**Критерии оценивания:**\n",
        "\n",
        "- Задание выполнено верно, учтены все условия (**2 балла**):\n",
        "    * правильно построена модель полиномиальной регрессии (линейной регрессии на полиномиальных признаках) с регуляризацией (Ridge), учтены условия необходимости масштабирования факторов для построения модели;\n",
        "    * приведён код для подбора параметра регуляризации (вручную или с помощью библиотечных инструментов);\n",
        "    * с помощью кросс-валидации оценено среднее значение выбранной студентом метрики (или метрик) на тренировочных и валидационных фолдах (метрика должна быть выбрана корректно).\n",
        "\n",
        "- Задание выполнено верно, но не учтено одно из условий (**1 балл**).\n",
        "- Задание выполнено неверно, не учтено несколько условий (**0 баллов**)."
      ],
      "metadata": {
        "id": "86pXnWE7-5ch"
      },
      "id": "86pXnWE7-5ch"
    },
    {
      "cell_type": "code",
      "source": [
        "# Определяем сетку гиперпараметров для Ridge-регрессии (значения альфа)\n",
        "param = {'alpha': [0.1, 0.2, 0.3, 1, 1.5, 2, 2.5, 3, 3.5, 4, 5, 10, 15, 20]}\n",
        "\n",
        "# Инициализируем модель Ridge\n",
        "ridge = Ridge()\n",
        "\n",
        "# Настраиваем GridSearchCV для подбора оптимального параметра alpha\n",
        "grid_search = GridSearchCV(\n",
        "    estimator=ridge,\n",
        "    param_grid=param,\n",
        "    scoring='neg_mean_absolute_percentage_error',\n",
        "    cv=5,\n",
        "    n_jobs=-1\n",
        ")\n",
        "\n",
        "# Обучаем модель на полиномиальных признаках\n",
        "grid_search.fit(X_poly, y)\n",
        "\n",
        "# Выводим лучший найденный параметр alpha\n",
        "best_alpha = grid_search.best_params_['alpha']\n",
        "print(\"Оптимальное значение alpha:\",  best_alpha)\n",
        "\n",
        "# Обучаем Ridge-регрессию с найденным значением alpha\n",
        "ridge = Ridge(alpha=grid_search.best_params_['alpha'])\n",
        "ridge.fit(X_poly, y)\n",
        "\n",
        "# Оцениваем модель с помощью кросс-валидации\n",
        "cv_results = cross_validate(\n",
        "    ridge, X_poly, y, scoring=['neg_mean_absolute_percentage_error', 'neg_mean_absolute_error'], cv=5, return_train_score=True\n",
        ")\n",
        "\n",
        "# Вычисляем MAPE и MAE на обучающей и валидационной выборках\n",
        "ridge_train_mape = round(-cv_results['train_neg_mean_absolute_percentage_error'].mean() * 100, 3)\n",
        "ridge_test_mape = round(-cv_results['test_neg_mean_absolute_percentage_error'].mean() * 100, 3)\n",
        "ridge_train_mae = round(-cv_results['train_neg_mean_absolute_error'].mean(), 2)\n",
        "ridge_test_mae = round(-cv_results['test_neg_mean_absolute_error'].mean(), 2)\n",
        "print(f'MAPE на тренировочных фолдах: {ridge_train_mape:.2f}%')\n",
        "print(f'MAPE на валидационных фолдах: {ridge_test_mape:.2f}%')\n",
        "print(f'MAE на тренировочных фолдах: {ridge_train_mae:.2f}')\n",
        "print(f'MAE на валидационных фолдах: {ridge_test_mae:.2f}')\n"
      ],
      "metadata": {
        "id": "UfPGyNsjGGS8",
        "colab": {
          "base_uri": "https://localhost:8080/"
        },
        "outputId": "2b67bc4b-e3a0-4a1b-d80b-646e1e0be6de"
      },
      "id": "UfPGyNsjGGS8",
      "execution_count": 19,
      "outputs": [
        {
          "output_type": "stream",
          "name": "stdout",
          "text": [
            "Оптимальное значение alpha: 0.2\n",
            "MAPE на тренировочных фолдах: 1.77%\n",
            "MAPE на валидационных фолдах: 2.67%\n",
            "MAE на тренировочных фолдах: 75.40\n",
            "MAE на валидационных фолдах: 110.07\n"
          ]
        }
      ]
    },
    {
      "cell_type": "markdown",
      "source": [
        "> **Выводы:**<br>\n",
        "1. Найдено оптимальное значение коэффициента регуляризации (alpha) = 0.2  методом GridSearchCV, которое обеспечивает наилучший баланс между точностью модели и регуляризацией.\n",
        "2.  Анализ качества модели на тренировочных и валидационных данных показал, что\n",
        "разница между тренировочным и валидационном MAPE (1.77% => 2.67%) и MAE (75.40 => 110.07) относительно небольшая, что говорит о достаточно хорошем балансе модели.\n",
        "3. Полиномиальная регрессия с L2-регуляризацией отработала хуже, чем с L1-регуляризацией. Разница между метриками на тренировочных и валидационных данных увеличилась, при этом метрика на валидационном наборе данных стала хуже."
      ],
      "metadata": {
        "id": "dQBd7ny_GIi1"
      },
      "id": "dQBd7ny_GIi1"
    },
    {
      "cell_type": "markdown",
      "id": "7ad85b78",
      "metadata": {
        "id": "7ad85b78"
      },
      "source": [
        "### Задание 8.4. (2 балла)\n",
        "\n",
        "Наконец, настало время комбинировать $L_1$ и $L_2$ -регуляризации.\n",
        "\n",
        "Обучите модель `ElasticNet` из библиотеки `sklearn` на полученных полиномиальных факторах, предварительно стандартизировав факторы.\n",
        "\n",
        "Коэффициенты регуляризации (`alpha` и `l1-ratio`) подберите самостоятельно с помощью любого известного вам метода подбора гиперпаметров.\n",
        "\n",
        "Используя кросс-валидацию, оцените среднее значение метрики MAPE на тренировочных и валидационных фолдах.\n",
        "\n",
        "Проинтерпретируйте полученные результаты."
      ]
    },
    {
      "cell_type": "markdown",
      "source": [
        "**Критерии оценивания:**\n",
        "\n",
        "- Задание выполнено верно, учтены все условия (**2 балла**):\n",
        "    * правильно построена модель полиномиальной регрессии (линейной регрессии на полиномиальных признаках) с регуляризацией (ElasticNet), учтены условия необходимости масштабирования факторов для построения модели;\n",
        "    * приведён код для подбора параметра регуляризации (вручную или с помощью библиотечных инструментов);\n",
        "    * с помощью кросс-валидации оценено среднее значение выбранной студентом метрики (или метрик) на тренировочных и валидационных фолдах (метрика должна быть выбрана корректно).\n",
        "\n",
        "- Задание выполнено верно, но не учтено одно из условий (**1 балл**).\n",
        "- Задание выполнено неверно, не учтено несколько условий (**0 баллов**)."
      ],
      "metadata": {
        "id": "sy8ESceQ-__u"
      },
      "id": "sy8ESceQ-__u"
    },
    {
      "cell_type": "code",
      "source": [
        "# Определяем сетку гиперпараметров для ElasticNet (alpha и l1_ratio)\n",
        "param = {\n",
        "    'alpha': [0.01, 0.05, 0.1, 0.2, 0.3, 1, 1.5, 2, 3, 4, 5],\n",
        "    'l1_ratio': [0.1, 0.2, 0.3, 0.4, 0.5, 0.6, 0.7, 0.8, 0.9, 1]\n",
        "}\n",
        "\n",
        "# Инициализируем модель ElasticNet\n",
        "elastic_net = ElasticNet()\n",
        "\n",
        "# Настраиваем GridSearchCV для подбора оптимальных параметров\n",
        "grid_search = GridSearchCV(\n",
        "    estimator=elastic_net,\n",
        "    param_grid=param,\n",
        "    scoring=['neg_mean_absolute_percentage_error', 'neg_mean_absolute_error'],\n",
        "    cv=5,\n",
        "    refit='neg_mean_absolute_error',\n",
        "    n_jobs=-1\n",
        ")\n",
        "\n",
        "# Обучаем модель на полиномиальных признаках\n",
        "grid_search.fit(X_poly, y)\n",
        "\n",
        "# Выводим лучшие найденные параметры alpha и l1_ratio\n",
        "best_alpha = grid_search.best_params_['alpha']\n",
        "best_l1_ratio = grid_search.best_params_['l1_ratio']\n",
        "print(f\"Оптимальные параметры: alpha={best_alpha}, l1_ratio={best_l1_ratio}\")\n",
        "\n",
        "# Обучаем ElasticNet с найденными оптимальными параметрами\n",
        "elastic_net = ElasticNet(alpha=best_alpha, l1_ratio=best_l1_ratio)\n",
        "elastic_net.fit(X_poly, y)\n",
        "\n",
        "# Оцениваем модель с помощью кросс-валидации\n",
        "cv_results = cross_validate(\n",
        "    elastic_net, X_poly, y,\n",
        "    scoring=['neg_mean_absolute_percentage_error', 'neg_mean_absolute_error'],\n",
        "    cv=5, return_train_score=True\n",
        ")\n",
        "\n",
        "# Рассчитываем MAPE и MAE на обучающей и валидационной выборках\n",
        "mape_train = round(-cv_results['train_neg_mean_absolute_percentage_error'].mean() * 100, 3)\n",
        "mape_test = round(-cv_results['test_neg_mean_absolute_percentage_error'].mean() * 100, 3)\n",
        "mae_train = round(-cv_results['train_neg_mean_absolute_error'].mean(), 3)\n",
        "mae_test = round(-cv_results['test_neg_mean_absolute_error'].mean(), 3)\n",
        "print(f'MAPE на тренировочных фолдах: {mape_train:.2f}%')\n",
        "print(f'MAPE на валидационных фолдах: {mape_test:.2f}%')\n",
        "print(f'MAE на тренировочных фолдах: {mae_train:.2f}')\n",
        "print(f'MAE на валидационных фолдах: {mae_test:.2f}')\n"
      ],
      "metadata": {
        "id": "-Yi3P20hQnLS",
        "colab": {
          "base_uri": "https://localhost:8080/"
        },
        "outputId": "f6124e3f-bd56-440a-d9e9-b4ae15bcb5db"
      },
      "id": "-Yi3P20hQnLS",
      "execution_count": 21,
      "outputs": [
        {
          "output_type": "stream",
          "name": "stdout",
          "text": [
            "Оптимальные параметры: alpha=5, l1_ratio=1\n",
            "MAPE на тренировочных фолдах: 1.83%\n",
            "MAPE на валидационных фолдах: 2.28%\n",
            "MAE на тренировочных фолдах: 78.30\n",
            "MAE на валидационных фолдах: 95.69\n"
          ]
        }
      ]
    },
    {
      "cell_type": "markdown",
      "source": [
        "> **Выводы:**<br>\n",
        "1. Найдены оптимальные значения коэффициентов регуляризации: alpha=5, l1_ratio=1;\n",
        "2. Обучив модель ElasticNet из библиотеки sklearn получили, что итоговая модель представляет собой L1-регуляризацию  и демонстрирует идентичные значения метрик на тренировочных и валидационных данных."
      ],
      "metadata": {
        "id": "er2lAiE9QpAb"
      },
      "id": "er2lAiE9QpAb"
    },
    {
      "cell_type": "markdown",
      "id": "91c6e1d1",
      "metadata": {
        "id": "91c6e1d1"
      },
      "source": [
        "### Задание 8.5. (1 балл)\n",
        "\n",
        "Завершением вашей работы будет сводная таблица результатов, которую вы представите на презентации заказчику Василию.\n",
        "\n",
        "Составьте таблицу (DataFrame) со следующими столбцами (имена столбцов выберите самостоятельно):\n",
        "* Наименование модели.\n",
        "* Гиперпараметры (коэффициенты регуляризации, если таковые имеются), если нет — оставьте ячейку пустой.\n",
        "* Использовались ли полиномиальные признаки при построении модели (Да/Нет или True/False).\n",
        "* Значение выбранной метрики на тренировочных фолдах при кросс-валидации модели.\n",
        "* Значение выбранной метрики на валидационных фолдах при кросс-валидации модели.\n",
        "\n",
        "Сделайте финальный вывод по проделанной работе. Какая линейная модель из тех, что мы рассмотрели, показала наилучший результат с точки зрения качества на валидационных фолдах, а также с точки зрения переобученности?"
      ]
    },
    {
      "cell_type": "markdown",
      "source": [
        "**Критерии оценивания:**\n",
        "\n",
        "- Задание выполнено верно, учтены все условия (**1 балл**):\n",
        "    * верно составлена сводная таблица итоговых результатов построенных ранее моделей с указанными в задании столбцами;\n",
        "    * приведены итоговые выводы по проделанной работе, указано, какая из рассмотренных моделей показала наилучший результат.\n",
        "\n",
        "- Задание выполнено неверно, не учтено одно или несколько условий (**0 баллов**)."
      ],
      "metadata": {
        "id": "OsFRaKkF_nLq"
      },
      "id": "OsFRaKkF_nLq"
    },
    {
      "cell_type": "code",
      "source": [
        "# Данные с результатами моделей\n",
        "results = [\n",
        "    [\"Linear Regression\", \"\", True, 1.77, 2.68, 75.35, 110.47],\n",
        "    [\"Lasso Regression\", \"alpha=5\", True, 1.83, 2.28, 78.30, 95.69],\n",
        "    [\"Ridge Regression\", \"alpha=0.2\", True, 1.77, 2.67, 75.40, 110.07],\n",
        "    [\"ElasticNet\", \"alpha=5, l1_ratio=1\", True, 1.83, 2.28, 78.30, 95.70],\n",
        "]\n",
        "\n",
        "# Создаем таблицу\n",
        "columns = [\n",
        "    \"Наименование модели\",\n",
        "    \"Гиперпараметры\",\n",
        "    \"Полиномиальные признаки\",\n",
        "    \"MAPE (Train) %\",\n",
        "    \"MAPE (Validation) %\",\n",
        "    \"MAE (Train)\",\n",
        "    \"MAE (Validation)\",\n",
        "]\n",
        "\n",
        "df_results = pd.DataFrame(results, columns=columns)\n",
        "\n",
        "print(df_results)"
      ],
      "metadata": {
        "id": "wRiys8lKQuqW",
        "colab": {
          "base_uri": "https://localhost:8080/"
        },
        "outputId": "46d6b069-e7c2-4e8b-e7cc-245c1b9203e0"
      },
      "id": "wRiys8lKQuqW",
      "execution_count": 22,
      "outputs": [
        {
          "output_type": "stream",
          "name": "stdout",
          "text": [
            "  Наименование модели       Гиперпараметры  Полиномиальные признаки  \\\n",
            "0   Linear Regression                                          True   \n",
            "1    Lasso Regression              alpha=5                     True   \n",
            "2    Ridge Regression            alpha=0.2                     True   \n",
            "3          ElasticNet  alpha=5, l1_ratio=1                     True   \n",
            "\n",
            "   MAPE (Train) %  MAPE (Validation) %  MAE (Train)  MAE (Validation)  \n",
            "0            1.77                 2.68        75.35            110.47  \n",
            "1            1.83                 2.28        78.30             95.69  \n",
            "2            1.77                 2.67        75.40            110.07  \n",
            "3            1.83                 2.28        78.30             95.70  \n"
          ]
        }
      ]
    },
    {
      "cell_type": "markdown",
      "source": [
        "> **Выводы:**<br>\n",
        "На основе проведенного анализа данных компании «Газ-Таз-Ваз-Нефть» было выявлено, что на объем добычи газа (целевой признак Prod) в скважине наиболее существенно влияют четыре признака: 'Por', 'AI', 'Brittle', 'VR'. Обучив несколько различных моделей для предсказания суточной добычи газа, пришли к выводу, что наилучшими вариантами являются модели Lasso Regression и ElasticNet. Данные модели дали лучший результат на валидационных данных (MAPE = 2.28%), но с небольшим ухудшением на тренировочных данных. Ни одна из моделей не является переобученной."
      ],
      "metadata": {
        "id": "UP7_LSoEQsrA"
      },
      "id": "UP7_LSoEQsrA"
    }
  ],
  "metadata": {
    "kernelspec": {
      "display_name": "Python 3.10.8 ('base')",
      "language": "python",
      "name": "python3"
    },
    "language_info": {
      "codemirror_mode": {
        "name": "ipython",
        "version": 3
      },
      "file_extension": ".py",
      "mimetype": "text/x-python",
      "name": "python",
      "nbconvert_exporter": "python",
      "pygments_lexer": "ipython3",
      "version": "3.10.8"
    },
    "vscode": {
      "interpreter": {
        "hash": "86c56a74836ad344b00594bf6f38fa6a676a207ceefe20d101fbc465800ccb8d"
      }
    },
    "colab": {
      "provenance": []
    }
  },
  "nbformat": 4,
  "nbformat_minor": 5
}